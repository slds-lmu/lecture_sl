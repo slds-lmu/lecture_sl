{
 "cells": [
  {
   "cell_type": "raw",
   "id": "0e6afa50",
   "metadata": {
    "vscode": {
     "languageId": "raw"
    }
   },
   "source": [
    "---\n",
    "title: \"R - Information theory - Exercise 2\"\n",
    "---"
   ]
  },
  {
   "cell_type": "markdown",
   "id": "0d4d09da",
   "metadata": {},
   "source": [
    "<a href=\"INSERT_colab_R_link\" target=\"_parent\"><img src=\"https://colab.research.google.com/assets/colab-badge.svg\" alt=\"Open In Colab\"/></a>"
   ]
  },
  {
   "cell_type": "markdown",
   "id": "c99de1c3",
   "metadata": {
    "vscode": {
     "languageId": "r"
    }
   },
   "source": [
    "label: exercise_3\n",
    "# Exercise 3: Smoothed Cross-Entropy Loss (b)\n",
    "Implement the smoothed cross-entropy. We provide the signature of the function here as a reference:"
   ]
  },
  {
   "cell_type": "code",
   "execution_count": 2,
   "id": "2a6e7cf4",
   "metadata": {
    "vscode": {
     "languageId": "r"
    }
   },
   "outputs": [],
   "source": [
    "#| label: exercise_3_signature\n",
    "#’ @param label ground truth vector of the form (n_samples,).\n",
    "#’ Labels should be \"1\",\"2\",\"3\" and so on.\n",
    "#’ @param pred Predicted probabilities of the form (n_samples,n_labels)\n",
    "#’ @param smoothing Hyperparameter for label-smoothing\n",
    "smoothed_ce_loss <- function(\n",
    "label,\n",
    "pred,\n",
    "smoothing){\n",
    "return (loss)\n",
    "}\n"
   ]
  },
  {
   "cell_type": "markdown",
   "id": "6419de6b",
   "metadata": {},
   "source": [
    "label: solution\n",
    "# Solution"
   ]
  },
  {
   "cell_type": "code",
   "execution_count": 3,
   "id": "2b6e3e3d",
   "metadata": {
    "vscode": {
     "languageId": "r"
    }
   },
   "outputs": [],
   "source": [
    "#' @param label ground truth vector of the form (n_samples,).\n",
    "#'  Labels should be \"1\",\"2\",\"3\" and so on.\n",
    "#' @param pred Predicted probabilities of the form (n_samples,n_labels)\n",
    "#' @param smoothing Hyperparameter for label-smoothing\n",
    "\n",
    "smoothed_ce_loss <- function(\n",
    "\tlabel,\n",
    "\tpred,\n",
    "\tsmoothing){\n",
    "\n",
    "\tnum_samples <- NROW(pred)\n",
    "\tnum_classes<- NCOL(pred)\n",
    "\n",
    "\t# Let's make some assertions:\n",
    "\t#  label should be a 1-D array.one-hot encoded label is not necessary \n",
    "\tstopifnot(NCOL(label)==1)  \n",
    "\t# smoothing hyperparameter in allowed range\n",
    "\tstopifnot((smoothing>=0 & smoothing <= 1)) \n",
    "\t# Same amount of rows in labels and predictions\n",
    "\tstopifnot((NROW(label)== num_samples))\n",
    "\t# Predicted probabilities must have as many columns as labels  \n",
    "\tstopifnot(length(unique(label)) == num_classes)\n",
    "\t\t\n",
    "\t#Calculate the base level\n",
    "\tsmoothing_per_class <- smoothing / num_classes\n",
    "\n",
    "\t# build the label matrix. Shape = [ num_samples, num_classes]\n",
    "\t# Start with the base level\n",
    "\tsmoothed_labels_matrix = matrix(smoothing_per_class,\n",
    "\t\t\t\t\t\t\t\t\tnrow=num_samples,ncol=num_classes) \n",
    "\t# Add the smoothed correct labels\n",
    "\ttrue_labels_loc=cbind(1:num_samples, label)\n",
    "\tsmoothed_labels_matrix[true_labels_loc]= 1 - smoothing + smoothing_per_class\n",
    "\tcat(\"Labels matrix:\\n\")\n",
    "\tprint(smoothed_labels_matrix)\n",
    "\n",
    "\t# Calculate the loss\n",
    "\tcat(\"Loss for each sample:\\n \",\n",
    "\t\trowSums(- smoothed_labels_matrix * log(pred)))\n",
    "\n",
    "\tloss <- mean(rowSums(- smoothed_labels_matrix * log(pred)))\n",
    "\tcat(\"\\n Loss:\\n\",loss)\n",
    "\n",
    "\treturn (loss)\n",
    "}\n"
   ]
  },
  {
   "cell_type": "code",
   "execution_count": 4,
   "id": "599f2123",
   "metadata": {
    "vscode": {
     "languageId": "r"
    }
   },
   "outputs": [
    {
     "name": "stdout",
     "output_type": "stream",
     "text": [
      "Labels matrix:\n",
      "     [,1] [,2] [,3]\n",
      "[1,]    1    0    0\n",
      "[2,]    0    1    0\n",
      "[3,]    0    1    0\n",
      "[4,]    0    0    1\n",
      "[5,]    1    0    0\n",
      "Loss for each sample:\n",
      "  0.1625189 0.1053605 0.05129329 0.1625189 0.1508229\n",
      " Loss:\n",
      " 0.1265029Labels matrix:\n",
      "           [,1]       [,2]       [,3]\n",
      "[1,] 0.86666667 0.06666667 0.06666667\n",
      "[2,] 0.06666667 0.86666667 0.06666667\n",
      "[3,] 0.06666667 0.86666667 0.06666667\n",
      "[4,] 0.06666667 0.06666667 0.86666667\n",
      "[5,] 0.86666667 0.06666667 0.06666667\n",
      "Loss for each sample:\n",
      "  0.4940709 0.4907434 0.5390262 0.537666 0.4988106\n",
      " Loss:\n",
      " 0.5120634"
     ]
    }
   ],
   "source": [
    "# Let's build a \"confident model\", the model has very high predicted\n",
    "#probabilities for one of the labels\n",
    "label= c(1,2,2,3,1)\n",
    "pred= rbind(\n",
    "\t\tc(0.85,0.10,0.05),\n",
    "\t\tc(0.05,0.9,0.05),\n",
    "\t\tc(0.02,0.95,0.03),\n",
    "\t\tc(0.13,0.02,0.85),\n",
    "\t\tc(0.86,0.04,0.1))\n",
    "\n",
    "# cross entropy means smoothing=0\n",
    "smoothing=0\n",
    "loss<-smoothed_ce_loss(label,pred,smoothing)\n",
    "\n",
    "# Smoothed cross entropy\n",
    "smoothing=0.2\n",
    "loss_smooth<-smoothed_ce_loss(label,pred,smoothing)"
   ]
  },
  {
   "cell_type": "code",
   "execution_count": 12,
   "id": "4d226adc",
   "metadata": {
    "vscode": {
     "languageId": "r"
    }
   },
   "outputs": [
    {
     "data": {
      "image/png": "[encoded data removed]",
      "text/plain": [
       "Plot with title \"Cross-Entropy vs. β-Smoothed Cross-Entropy   (g = 10)\""
      ]
     },
     "metadata": {
      "image/png": {
       "height": 420,
       "width": 420
      }
     },
     "output_type": "display_data"
    }
   ],
   "source": [
    "## -----------------------------------------------------------------\n",
    "## 1. Hyper-parameters you can tweak\n",
    "g      <- 10                     # number of classes\n",
    "betas  <- c(0, 0.05, 0.1, 0.5) # include 0 for the vanilla CE\n",
    "n_pts  <- 1000                   # resolution of the x-axis\n",
    "## -----------------------------------------------------------------\n",
    "\n",
    "## 2. Smoothed cross-entropy helper (works for beta = 0 too)\n",
    "smoothed_ce <- function(p, g, beta) {\n",
    "  eps       <- .Machine$double.eps          # protects log(0)\n",
    "  p_other   <- (1 - p) / (g - 1)            # uniform probs for wrong classes\n",
    "  t_true    <- 1 - beta + beta / g          # smoothed target for true class\n",
    "  t_other   <- beta / g                     # target for each wrong class\n",
    "\n",
    "  -( t_true * log(p + eps) +\n",
    "     (g - 1) * t_other * log(p_other + eps) )\n",
    "}\n",
    "\n",
    "## 3. Compute loss curves ---------------------------------------------------\n",
    "p_vals <- seq(0.001, 0.999, length.out = n_pts)          # x-axis\n",
    "loss_mat <- sapply(betas, function(b) smoothed_ce(p_vals, g, b))\n",
    "\n",
    "## 4. Colours & linetypes ---------------------------------------------------\n",
    "cols <- c(\"black\", rainbow(length(betas) - 1))            # first is CE\n",
    "ltys <- c(1, rep(2, length(betas) - 1))                   # solid then dashed\n",
    "\n",
    "## 5. Base-R plot -----------------------------------------------------------\n",
    "matplot(\n",
    "  x     = p_vals,\n",
    "  y     = loss_mat,\n",
    "  type  = \"l\",\n",
    "  lty   = ltys,\n",
    "  lwd   = 2,\n",
    "  col   = cols,\n",
    "  xlab  = \"Predicted probability for the true class (p)\",\n",
    "  ylab  = \"Loss\",\n",
    "  main  = sprintf(\"Cross-Entropy vs. β-Smoothed Cross-Entropy   (g = %d)\", g)\n",
    ")\n",
    "\n",
    "## 6. Legend ----------------------------------------------------------------\n",
    "legend_labels <- ifelse(\n",
    "  betas == 0,\n",
    "  \"Standard CE\",\n",
    "  sprintf(\"Smoothed CE (β = %.2f)\", betas)\n",
    ")\n",
    "legend(\n",
    "  \"topright\",\n",
    "  legend = legend_labels,\n",
    "  col    = cols,\n",
    "  lty    = ltys,\n",
    "  lwd    = 2,\n",
    "  bty    = \"n\"\n",
    ")\n"
   ]
  },
  {
   "cell_type": "code",
   "execution_count": null,
   "id": "5b9e4cb9",
   "metadata": {
    "vscode": {
     "languageId": "r"
    }
   },
   "outputs": [],
   "source": []
  }
 ],
 "metadata": {
  "kernelspec": {
   "display_name": "R",
   "language": "R",
   "name": "ir"
  },
  "language_info": {
   "codemirror_mode": "r",
   "file_extension": ".r",
   "mimetype": "text/x-r-source",
   "name": "R",
   "pygments_lexer": "r",
   "version": "4.4.1"
  }
 },
 "nbformat": 4,
 "nbformat_minor": 5
}
