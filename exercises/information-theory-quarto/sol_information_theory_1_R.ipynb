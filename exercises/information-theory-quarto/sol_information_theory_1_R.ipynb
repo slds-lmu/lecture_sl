{
 "cells": [
  {
   "cell_type": "raw",
   "id": "0e6afa50",
   "metadata": {
    "vscode": {
     "languageId": "raw"
    }
   },
   "source": [
    "---\n",
    "title: \"R - Information theory - Exercise 1\"\n",
    "---"
   ]
  },
  {
   "cell_type": "markdown",
   "id": "0d4d09da",
   "metadata": {},
   "source": [
    "<a href=\"INSERT_colab_R_link\" target=\"_parent\"><img src=\"https://colab.research.google.com/assets/colab-badge.svg\" alt=\"Open In Colab\"/></a>"
   ]
  },
  {
   "cell_type": "markdown",
   "id": "fd12cd68",
   "metadata": {},
   "source": [
    "# Exercise 1.b\n",
    "Sample points according to the true distribution and visualize the KLD for different parameter settings of\n",
    "the Gaussian distribution (including the optimal one if available)"
   ]
  },
  {
   "cell_type": "markdown",
   "id": "aa59b6a9",
   "metadata": {},
   "source": [
    "## Sampling from a Binomial Distribution"
   ]
  },
  {
   "cell_type": "code",
   "execution_count": 42,
   "id": "2a6e7cf4",
   "metadata": {
    "vscode": {
     "languageId": "r"
    }
   },
   "outputs": [
    {
     "data": {
      "image/png": "[encoded data removed]",
      "text/plain": [
       "Plot with title \"Binomial Distribution\""
      ]
     },
     "metadata": {
      "image/png": {
       "height": 420,
       "width": 420
      }
     },
     "output_type": "display_data"
    }
   ],
   "source": [
    "num_points = 1000 # number of points to sample\n",
    "n = 100 # number of trials\n",
    "p = 0.5 # probability of success\n",
    "\n",
    "set.seed(42) # fixing the seed for reproducibility\n",
    "\n",
    "# sampling from a binomial distribution\n",
    "X <- rbinom(nr_points, prob = p, size = n)\n",
    "\n",
    "# plotting \n",
    "xlim_from <- 10 \n",
    "xlim_to <- 100 \n",
    "num_breaks <- 25\n",
    "\n",
    "hist(X, breaks = 25, xlim = c(xlim_from, xlim_to), freq = FALSE,\n",
    "    main = \"Binomial Distribution\",\n",
    "    xlab = \"Value\", ylab = \"Density\")"
   ]
  },
  {
   "cell_type": "markdown",
   "id": "b02defe4",
   "metadata": {},
   "source": [
    "## Various Gaussian distributions"
   ]
  },
  {
   "cell_type": "code",
   "execution_count": 41,
   "id": "c8f2e7d4",
   "metadata": {
    "vscode": {
     "languageId": "r"
    }
   },
   "outputs": [],
   "source": [
    "true_exp <- n * p # expected value of the binomial distribution\n",
    "true_variance <- n * p * (1 - p) # variance of the binomial distribution\n",
    "true_sd <- sqrt(true_variance) # standard deviation of the binomial distribution\n",
    "\n",
    "# define different Normal density functions\n",
    "normal_optimal <- function(x) dnorm(x, mean = true_exp, sd = true_sd)\n",
    "normal_shift_left <- function(x) dnorm(x, mean = true_exp - 10, sd = true_sd)\n",
    "normal_scale_increase <- function(x) dnorm(x, mean = true_exp, sd = true_sd*2)\n",
    "normal_shift_right_scale_decrease <- function(x) dnorm(x, mean = true_exp + 20, sd = p*(1-p))\n"
   ]
  },
  {
   "cell_type": "code",
   "execution_count": 49,
   "id": "548a7bcc",
   "metadata": {
    "vscode": {
     "languageId": "r"
    }
   },
   "outputs": [
    {
     "data": {
      "image/png": "[encoded data removed]",
      "text/plain": [
       "Plot with title \"Binomial Distribution\""
      ]
     },
     "metadata": {
      "image/png": {
       "height": 420,
       "width": 420
      }
     },
     "output_type": "display_data"
    }
   ],
   "source": [
    "hist(X, breaks = num_breaks, xlim = c(xlim_from, xlim_to), freq = FALSE,\n",
    "    main = \"Binomial Distribution\",\n",
    "    xlab = \"Value\", ylab = \"Density\")\n",
    "\n",
    "curve(normal_optimal, from = xlim_from, to = xlim_to, add = TRUE, col = \"green\")\n",
    "curve(normal_shift, from = xlim_from, to = xlim_to, add = TRUE, col = \"blue\")\n",
    "curve(normal_scale_increase, from = xlim_from, to = xlim_to, add = TRUE, col = \"orange\")\n",
    "curve(normal_right_scale_decrease, from = xlim_from, to = xlim_to, add = TRUE, col = \"red\")\n",
    "\n",
    "# hope a bit of overlap with the red curves label is not a big deal :-)\n",
    "legend(\"topleft\",\n",
    "      legend = c(\"Optimal Normal\", \"Shifted Mean\", \"Increased SD\", \"Shifted Mean + Decreased SD\"),\n",
    "      col = c(\"green\", \"blue\", \"orange\", \"red\"),\n",
    "      lwd = 2,\n",
    "      bty = \"n\")"
   ]
  },
  {
   "cell_type": "markdown",
   "id": "5b162ec3",
   "metadata": {},
   "source": [
    "## KL divergence values\n",
    "For these distributions, we get the following KL divergence values (up to an additive constant):\n",
    "\n",
    "$$\n",
    "D_{KL}(f||q) = c_3 + 0.5 \\log \\sigma^2 + \\frac{1}{2\\sigma^2} (\\text{Var}_f(X) + (np-\\mu)^2))\n",
    "$$"
   ]
  },
  {
   "cell_type": "code",
   "execution_count": 56,
   "id": "f87683b5",
   "metadata": {
    "vscode": {
     "languageId": "r"
    }
   },
   "outputs": [
    {
     "name": "stdout",
     "output_type": "stream",
     "text": [
      "Optimal Normal (green): 2.109438 \n",
      "Shifted Mean (blue): 4.109438 \n",
      "Increased SD (orange): 2.427585 \n",
      "Shifted Mean + Decreased SD (red): 3398.614 \n"
     ]
    }
   ],
   "source": [
    "kld_value <- function(mu, sigma2)\n",
    "{\n",
    "  0.5 * log(sigma2) + \n",
    "    0.5 * (sigma2)^(-1) * (true_variance + (true_exp - mu)^2)\n",
    "}\n",
    "\n",
    "optimal_green <- kld_value(true_exp, true_variance)\n",
    "cat(\"Optimal Normal (green):\", optimal_green, \"\\n\")\n",
    "\n",
    "shift_blue <- kld_value(true_exp - 10, true_variance)\n",
    "cat(\"Shifted Mean (blue):\", shift_blue, \"\\n\")\n",
    "\n",
    "scale_increase_orange <- kld_value(true_exp, true_variance * 4)\n",
    "cat(\"Increased SD (orange):\", scale_increase_orange, \"\\n\")\n",
    "\n",
    "right_scale_decrease_red <- kld_value(true_exp + 20, (p * (1 - p))^2)\n",
    "cat(\"Shifted Mean + Decreased SD (red):\", right_scale_decrease_red, \"\\n\")\n"
   ]
  },
  {
   "cell_type": "markdown",
   "id": "1fb050ce",
   "metadata": {},
   "source": [
    "# Conclusion (not sure if this is worth including)\n",
    "KL divergence values replicate the misspecification of our distributions. Optimally specifed Gaussian produced the lowest value. Changing the mean and/or variance resulted in an increased KL divergance values"
   ]
  },
  {
   "cell_type": "markdown",
   "id": "c0f5a8da",
   "metadata": {},
   "source": [
    "# Exercise 1.c\n",
    "Since we are now required to calculate the exact KLD values, we would also have to calculate $\\mathbb{E}_f(\\log f(X))$, which is somewhat more difficult. If you search the internet for a solution ($\\rightarrow$ \"entropy of a binomial distribution\"), you will find an approximate solution using the de-Moivre-Laplace theorem. Alternatively, we could make use of the central limit theorem, but then we would just approximate $f$ with a normal distribution with $\\mu = np$ and $\\sigma^2 = np(1-p)$, which would give us a constant KLD of zero (the very same happens if you use the first approximation using the de-Moivre-Laplace-theorem). We here instead will approximate the expectation using a large sample from the true underlying distribution:\n",
    "$$\n",
    "D_{KL}(f||q) \\approx \\frac{1}{B} \\sum_{b=1}^B [\\log f(X) - \\log q(X|\\mu = np, \\sigma^2 = np(1-p))]\n",
    "$$\n",
    "\n"
   ]
  },
  {
   "cell_type": "code",
   "execution_count": 69,
   "id": "8436a56f",
   "metadata": {
    "vscode": {
     "languageId": "r"
    }
   },
   "outputs": [
    {
     "data": {
      "image/png": "[encoded data removed]",
      "text/plain": [
       "Plot with title \"KL Div. Binomial vs Optimal Normal (varied p and n)\""
      ]
     },
     "metadata": {
      "image/png": {
       "height": 420,
       "width": 420
      }
     },
     "output_type": "display_data"
    }
   ],
   "source": [
    "p_seq <- seq(0.01, 0.99, l = 100)\n",
    "n_seq <- seq(10, 500, by = 100)\n",
    "B <- 10000\n",
    "\n",
    "kld_value_approx <- function(n,p){ \n",
    "  \n",
    "  # sample a large number of data points from true distribution\n",
    "  x <- rbinom(B, prob = p, size = n)\n",
    "  \n",
    "  # approximate the mean; threshold values to 0 if < 0 due\n",
    "  # to the approximation\n",
    "  pmax(\n",
    "    mean(\n",
    "      dbinom(x, prob = p, size = n, log = TRUE) - \n",
    "        dnorm(x, mean = n*p, sd = sqrt(n*p*(1-p)), log = TRUE),\n",
    "      na.rm = TRUE\n",
    "    ),\n",
    "    0)\n",
    "  \n",
    "}\n",
    "\n",
    "kld_val <- sapply(n_seq, function(this_n) \n",
    "  sapply(p_seq, function(this_p) kld_value_approx(this_n, this_p)))\n",
    "\n",
    "cols = rev(colorRampPalette(c('darkred','red','blue','lightblue'))(50))\n",
    "\n",
    "filled.contour(\n",
    "  x = p_seq, y = n_seq, z = kld_val, \n",
    "  xlab = \"p\", ylab = \"n\", \n",
    "  col = cols,\n",
    "  main = \"KL Div. Binomial vs Optimal Normal (varied p and n)\"\n",
    ")\n"
   ]
  }
 ],
 "metadata": {
  "kernelspec": {
   "display_name": "R",
   "language": "R",
   "name": "ir"
  },
  "language_info": {
   "codemirror_mode": "r",
   "file_extension": ".r",
   "mimetype": "text/x-r-source",
   "name": "R",
   "pygments_lexer": "r",
   "version": "4.4.1"
  }
 },
 "nbformat": 4,
 "nbformat_minor": 5
}
