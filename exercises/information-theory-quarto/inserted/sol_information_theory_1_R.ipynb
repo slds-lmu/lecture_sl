{
 "cells": [
  {
   "cell_type": "raw",
   "id": "0e6afa50",
   "metadata": {
    "vscode": {
     "languageId": "raw"
    }
   },
   "source": [
    "---\n",
    "title: \"R - Information theory - Exercise 1\"\n",
    "---"
   ]
  },
  {
   "cell_type": "markdown",
   "id": "0d4d09da",
   "metadata": {},
   "source": [
    "<a href=\"https://colab.research.google.com/github/slds-lmu/lecture_sl/blob/main/exercises/information-theory-quarto/inserted/sol_information_theory_1_R.ipynb\" target=\"_parent\"><img src=\"https://colab.research.google.com/assets/colab-badge.svg\" alt=\"Open In Colab\"/></a>"
   ]
  },
  {
   "cell_type": "markdown",
   "id": "fd12cd68",
   "metadata": {},
   "source": [
    "# Exercise 1.b\nSample points according to the true distribution and visualize the KLD for different parameter settings of\nthe Gaussian distribution (including the optimal one if available)"
   ]
  },
  {
   "cell_type": "markdown",
   "id": "aa59b6a9",
   "metadata": {},
   "source": [
    "## Sampling from a Binomial Distribution"
   ]
  },
  {
   "cell_type": "code",
   "execution_count": 1,
   "id": "2a6e7cf4",
   "metadata": {
    "vscode": {
     "languageId": "r"
    }
   },
   "outputs": [
    {
     "data": {
      "image/png": "[encoded data removed]",
      "text/plain": [
       "Plot with title \"Binomial Distribution\""
      ]
     },
     "metadata": {
      "image/png": {
       "height": 420,
       "width": 420
      }
     },
     "output_type": "display_data"
    }
   ],
   "source": [
    "#| label: sampling_binomial\n",
    "\n",
    "num_points = 1000 # number of points to sample\n",
    "n = 100 \t\t  # number of trials\n",
    "p = 0.5 \t\t  # probability of success\n",
    "\n",
    "set.seed(42) # fixing the seed for reproducibility\n",
    "\n",
    "# sampling from a binomial distribution\n",
    "X <- rbinom(num_points, prob = p, size = n)\n",
    "\n",
    "# plotting \n",
    "xlim_from <- 10 \n",
    "xlim_to <- 100 \n",
    "num_breaks <- 25\n",
    "\n",
    "hist(X, breaks = 25, xlim = c(xlim_from, xlim_to), freq = FALSE,\n",
    "\tmain = \"Binomial Distribution\",\n",
    "\txlab = \"Value\", ylab = \"Density\")"
   ]
  },
  {
   "cell_type": "markdown",
   "id": "cf22b219",
   "metadata": {},
   "source": [
    "## Various Gaussian distributions"
   ]
  },
  {
   "cell_type": "code",
   "execution_count": null,
   "id": "c8f2e7d4",
   "metadata": {
    "vscode": {
     "languageId": "r"
    }
   },
   "outputs": [],
   "source": [
    "#| label: defining_densities\n",
    "true_exp <- n * p \n",
    "true_variance <- n * p * (1 - p) \n",
    "true_sd <- sqrt(true_variance) \n",
    "\n",
    "# define different Normal density functions\n",
    "normal_optimal <- function(x) dnorm(x, mean = true_exp, sd = true_sd)\n",
    "normal_shift_left <- function(x) dnorm(x, mean = true_exp - 10, sd = true_sd)\n",
    "normal_scale_increase <- function(x) dnorm(x, mean = true_exp, sd = true_sd*2)\n",
    "normal_shift_right_scale_decrease <- function(x) dnorm(x, mean = true_exp + 20, sd = p*(1-p))\n"
   ]
  },
  {
   "cell_type": "markdown",
   "id": "f15284ce",
   "metadata": {
    "vscode": {
     "languageId": "r"
    }
   },
   "source": [
    "### Plotting"
   ]
  },
  {
   "cell_type": "code",
   "execution_count": 3,
   "id": "548a7bcc",
   "metadata": {
    "vscode": {
     "languageId": "r"
    }
   },
   "outputs": [
    {
     "data": {
      "image/png": "[encoded data removed]",
      "text/plain": [
       "Plot with title \"Binomial Distribution\""
      ]
     },
     "metadata": {
      "image/png": {
       "height": 420,
       "width": 420
      }
     },
     "output_type": "display_data"
    }
   ],
   "source": [
    "#| label: plotting\n",
    "hist(X, breaks = num_breaks, xlim = c(xlim_from, xlim_to), freq = FALSE,\n",
    "\tmain = \"Binomial Distribution\",\n",
    "\txlab = \"Value\", ylab = \"Density\")\n",
    "\n",
    "curve(normal_optimal, from = xlim_from, to = xlim_to, add = TRUE, col = \"green\")\n",
    "curve(normal_shift_left, from = xlim_from, to = xlim_to, add = TRUE, col = \"blue\")\n",
    "curve(normal_scale_increase, from = xlim_from, to = xlim_to, add = TRUE, col = \"orange\")\n",
    "curve(normal_shift_right_scale_decrease, from = xlim_from, to = xlim_to, add = TRUE, col = \"red\")\n",
    "\n",
    "# hope a bit of overlap with the red curves label is not a big deal :-)\n",
    "legend(\"topleft\",\n",
    "\tlegend = c(\"Optimal Normal\", \"Shifted Mean\", \"Increased SD\", \"Shifted Mean + Decreased SD\"),\n",
    "\tcol = c(\"green\", \"blue\", \"orange\", \"red\"),\n",
    "\tlwd = 2,\n",
    "\tbty = \"n\")"
   ]
  },
  {
   "cell_type": "markdown",
   "id": "cff39e8f",
   "metadata": {},
   "source": [
    "## KL divergence values\nFor these distributions, we get the following KL divergence values (up to an additive constant):\n\n$$\nD_{KL}(f||q) = c_3 + 0.5 \\log \\sigma^2 + \\frac{1}{2\\sigma^2} (\\text{Var}_f(X) + (np-\\mu)^2))\n$$"
   ]
  },
  {
   "cell_type": "code",
   "execution_count": 4,
   "id": "f87683b5",
   "metadata": {
    "vscode": {
     "languageId": "r"
    }
   },
   "outputs": [
    {
     "name": "stdout",
     "output_type": "stream",
     "text": [
      "Optimal Normal (green): 2.109438 \n",
      "Shifted Mean (blue): 4.109438 \n",
      "Increased SD (orange): 2.427585 \n",
      "Shifted Mean + Decreased SD (red): 3398.614 \n"
     ]
    }
   ],
   "source": [
    "#| label: kld_value\n",
    "kld_value <- function(mu, sigma2)\n",
    "{\n",
    "\t0.5 * log(sigma2) + \n",
    "    0.5 * (sigma2)^(-1) * (true_variance + (true_exp - mu)^2)\n",
    "}\n",
    "\n",
    "optimal_green <- kld_value(true_exp, true_variance)\n",
    "cat(\"Optimal Normal (green):\", optimal_green, \"\\n\")\n",
    "\n",
    "shift_blue <- kld_value(true_exp - 10, true_variance)\n",
    "cat(\"Shifted Mean (blue):\", shift_blue, \"\\n\")\n",
    "\n",
    "scale_increase_orange <- kld_value(true_exp, true_variance * 4)\n",
    "cat(\"Increased SD (orange):\", scale_increase_orange, \"\\n\")\n",
    "\n",
    "right_scale_decrease_red <- kld_value(true_exp + 20, (p * (1 - p))^2)\n",
    "cat(\"Shifted Mean + Decreased SD (red):\", right_scale_decrease_red, \"\\n\")\n"
   ]
  },
  {
   "cell_type": "markdown",
   "id": "a431a36d",
   "metadata": {},
   "source": [
    "## Conclusion\nKL divergence values let us see how badly we have specified the distribution. Optimally specified Gaussian produced the lowest value. Changing the mean and/or variance resulted in an increased KL divergence values"
   ]
  },
  {
   "cell_type": "markdown",
   "id": "b4a04d31",
   "metadata": {},
   "source": [
    "# Exercise 1.c\nSince we are now required to calculate the exact KLD values, we would also have to calculate $\\mathbb{E}_f(\\log f(X))$, which is somewhat more difficult. If you search the internet for a solution ($\\rightarrow$ \"entropy of a binomial distribution\"), you will find an approximate solution using the de-Moivre-Laplace theorem. Alternatively, we could make use of the central limit theorem, but then we would just approximate $f$ with a normal distribution with $\\mu = np$ and $\\sigma^2 = np(1-p)$, which would give us a constant KLD of zero (the very same happens if you use the first approximation using the de-Moivre-Laplace-theorem). We here instead will approximate the expectation using a large sample from the true underlying distribution:\n$$\nD_{KL}(f||q) \\approx \\frac{1}{B} \\sum_{b=1}^B [\\log f(X) - \\log q(X|\\mu = np, \\sigma^2 = np(1-p))]\n$$"
   ]
  },
  {
   "cell_type": "code",
   "execution_count": 5,
   "id": "8436a56f",
   "metadata": {
    "vscode": {
     "languageId": "r"
    }
   },
   "outputs": [
    {
     "data": {
      "image/png": "[encoded data removed]",
      "text/plain": [
       "Plot with title \"KL Div. Binomial vs Optimal Normal (varied p and n)\""
      ]
     },
     "metadata": {
      "image/png": {
       "height": 420,
       "width": 420
      }
     },
     "output_type": "display_data"
    }
   ],
   "source": [
    "#| label: kld_value_varied_p_n\n",
    "p_seq <- seq(0.01, 0.99, l = 100)\n",
    "n_seq <- seq(10, 500, by = 100)\n",
    "B <- 10000\n",
    "\n",
    "kld_value_approx <- function(n,p){ \n",
    "\t# sample a large number of data points from true distribution\n",
    "\tx <- rbinom(B, prob = p, size = n)\n",
    "  \n",
    "\t# approximate the mean; threshold values to 0 if < 0 due\n",
    "\t# to the approximation\n",
    "\tpmax(\n",
    "\t\tmean(\n",
    "\t\t\tdbinom(x, prob = p, size = n, log = TRUE) - \n",
    "\t\t\tdnorm(x, mean = n*p, sd = sqrt(n*p*(1-p)), log = TRUE),\n",
    "\t\t\tna.rm = TRUE\n",
    "\t\t),\n",
    "\t0)\n",
    "}\n",
    "\n",
    "kld_val <- sapply(n_seq, function(this_n) \n",
    "\tsapply(p_seq, function(this_p) kld_value_approx(this_n, this_p)))\n",
    "\n",
    "cols = rev(colorRampPalette(c('darkred','red','blue','lightblue'))(50))\n",
    "\n",
    "filled.contour(\n",
    "\tx = p_seq, y = n_seq, z = kld_val, \n",
    "\txlab = \"p\", ylab = \"n\", \n",
    "\tcol = cols,\n",
    "\tmain = \"KL Div. Binomial vs Optimal Normal (varied p and n)\"\n",
    ")\n"
   ]
  }
 ],
 "metadata": {
  "kernelspec": {
   "display_name": "R",
   "language": "R",
   "name": "ir"
  },
  "language_info": {
   "codemirror_mode": "r",
   "file_extension": ".r",
   "mimetype": "text/x-r-source",
   "name": "R",
   "pygments_lexer": "r",
   "version": "4.4.1"
  }
 },
 "nbformat": 4,
 "nbformat_minor": 5
}