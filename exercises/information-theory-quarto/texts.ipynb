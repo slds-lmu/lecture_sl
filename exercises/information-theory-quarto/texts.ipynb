{
 "cells": [
  {
   "cell_type": "markdown",
   "id": "d0837097",
   "metadata": {},
   "source": [
    "label: colab_R_link\n",
    "https://colab.research.google.com/github/slds-lmu/lecture_sl/blob/main/exercises"
   ]
  },
  {
   "cell_type": "markdown",
   "id": "82697795",
   "metadata": {},
   "source": [
    "label: colab_python_link\n",
    "https://colab.research.google.com/github/slds-lmu/lecture_sl/blob/main/exercises/"
   ]
  },
  {
   "cell_type": "markdown",
   "id": "4ef8932f",
   "metadata": {},
   "source": [
    "label: exercise\n",
    "# Exercise\n",
    "The dataset $\\texttt{forbes}$ in the R-package $\\texttt{MASS}$ contains 17 different observations of $y$ and $x$ at different locations in the Alps and Scotland, i.e., the data set is $(x^{(i)},y^{(i)})_{i=1}^{17}.$ Analyze whether his conjecture was reasonable by using the following code snippet:\"\n"
   ]
  },
  {
   "cell_type": "markdown",
   "id": "a9389bea",
   "metadata": {},
   "source": []
  }
 ],
 "metadata": {
  "language_info": {
   "name": "python"
  }
 },
 "nbformat": 4,
 "nbformat_minor": 5
}
