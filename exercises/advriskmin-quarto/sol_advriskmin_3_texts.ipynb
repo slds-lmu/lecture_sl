{
 "cells": [
  {
   "cell_type": "markdown",
   "id": "d5bfc9f4",
   "metadata": {},
   "source": [
    "label: colab_R_link\n",
    "https://colab.research.google.com/github/slds-lmu/lecture_sl/blob/main/exercises/advriskmin-quarto/inserted/sol_advriskmin_3_R.ipynb"
   ]
  },
  {
   "cell_type": "markdown",
   "id": "f1237481",
   "metadata": {},
   "source": [
    "label: colab_python_link\n",
    "https://colab.research.google.com/github/slds-lmu/lecture_sl/blob/main/exercises/advriskmin-quarto/inserted/sol_advriskmin_3_py.ipynb"
   ]
  },
  {
   "cell_type": "markdown",
   "id": "43363372",
   "metadata": {},
   "source": [
    "label: exercise\n",
    "# Exercise\n",
    "The dataset $\\texttt{forbes}$ in the R-package $\\texttt{MASS}$ contains 17 different observations of $y$ and $x$ at different locations in the Alps and Scotland, i.e., the data set is $(x^{(i)},y^{(i)})_{i=1}^{17}.$ Analyze whether his conjecture was reasonable by using the following code snippet:"
   ]
  },
  {
   "cell_type": "markdown",
   "id": "cf52d53c",
   "metadata": {},
   "source": [
    "label: hint\n",
    "*Hint:* As a sanity check whether your function to find the optimal coefficients work, it should hold that $\\hat\\theta_1 \\approx 0.3787548$ and $\\hat\\theta_2 \\approx 0.02062236.$"
   ]
  },
  {
   "cell_type": "markdown",
   "id": "2c655e49",
   "metadata": {},
   "source": [
    "label: solution_header\n",
    "# Solution"
   ]
  },
  {
   "cell_type": "markdown",
   "id": "93092d6d",
   "metadata": {},
   "source": [
    "label: model_equation\n",
    "## Defining the model equation\n",
    "$$\n",
    "y = \\theta_1 \\exp(\\theta_2 x)\n",
    "$$"
   ]
  },
  {
   "cell_type": "markdown",
   "id": "d65ac6e1",
   "metadata": {},
   "source": [
    "label: optimal_coefficients\n",
    "## Optimal coefficients\n",
    "We need to minimize the empirical risk. Recall that since we're using the generalized L2-loss we have:\n",
    "$$\n",
    "L\\left(y, f(\\mathbf{x ~|~ \\boldsymbol{\\theta} })\\right)= \\big(\\log(y)-\\log(f(\\mathbf{x ~|~ \\boldsymbol{\\theta}}))\\big)^2\n",
    "$$\n",
    "and the empirical risk is given by:\n",
    "$$\n",
    "    \\mathcal{R}_{\\text{emp}}(\\boldsymbol{\\theta}) = \\sum_{i=1}^{n} L\\left(y^{(i)}, f(\\mathbf{x}^{(i)} ~|~ \\boldsymbol{\\theta})\\right)\n",
    "$$\n",
    "For the optimization we will use the L-BFGS (Limited-memory BFGS) method. You can learn more about it [here](https://en.wikipedia.org/wiki/Limited-memory_BFGS). Also, you can refer to our  [optimization course](https://slds-lmu.github.io/website_optimization/) to get the idea of second-order methods, learns the concept of symmetric rank-1 update and the BFGS method."
   ]
  },
  {
   "cell_type": "markdown",
   "id": "ca317732",
   "metadata": {},
   "source": [
    "label: checking_forbes\n",
    "## Checking Forbes' conjecture\n",
    "As we can see the conjecture is quite reasonable, and we experience a big residual only for the point $x \\backsimeq  205$.\n",
    "Also, the Mean Absolute Percentage Error (MAPE) is only around $0.4\\%$."
   ]
  },
  {
   "cell_type": "markdown",
   "id": "296c9d08",
   "metadata": {},
   "source": [
    "label: visually_header\n",
    "### Visually"
   ]
  },
  {
   "cell_type": "markdown",
   "id": "ab7410a2",
   "metadata": {},
   "source": [
    "label: mape_header\n",
    "### MAPE"
   ]
  },
  {
   "cell_type": "markdown",
   "id": "cdee7456",
   "metadata": {},
   "source": [
    "label: alternative_solution\n",
    "# Alternative solution\n",
    "Luckily, we had derived an analytic solution earlier, and given that dataset size is quite small, we can directly apply it."
   ]
  },
  {
   "cell_type": "markdown",
   "id": "ae4b8f2f",
   "metadata": {},
   "source": [
    "label: full_code_header\n",
    "# Full code"
   ]
  }
 ],
 "metadata": {
  "kernelspec": {
   "display_name": "R",
   "language": "R",
   "name": "ir"
  },
  "language_info": {
   "codemirror_mode": "r",
   "file_extension": ".r",
   "mimetype": "text/x-r-source",
   "name": "R",
   "pygments_lexer": "r",
   "version": "4.4.1"
  }
 },
 "nbformat": 4,
 "nbformat_minor": 5
}
