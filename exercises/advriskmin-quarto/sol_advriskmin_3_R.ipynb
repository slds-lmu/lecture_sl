{
 "cells": [
  {
   "cell_type": "raw",
   "id": "458aee97",
   "metadata": {
    "vscode": {
     "languageId": "raw"
    }
   },
   "source": [
    "---\n",
    "title: \"R - ARM - Exercise 3\"\n",
    "---"
   ]
  },
  {
   "cell_type": "markdown",
   "id": "5904ae63",
   "metadata": {},
   "source": [
    "<a href=\"INSERT_colab_R_link\" target=\"_parent\"><img src=\"https://colab.research.google.com/assets/colab-badge.svg\" alt=\"Open In Colab\"/></a>"
   ]
  },
  {
   "cell_type": "markdown",
   "id": "fd12cd68",
   "metadata": {},
   "source": [
    "INSERT_exercise"
   ]
  },
  {
   "cell_type": "code",
   "execution_count": 1,
   "id": "f7783916",
   "metadata": {
    "vscode": {
     "languageId": "r"
    }
   },
   "outputs": [],
   "source": [
    "#| label: exercise\n",
    "\n",
    "#' @param X the feature input matrix X\n",
    "#' @param y the outcome vector y\n",
    "#' @param theta parameter vector for the model (2-dimensional)\n",
    "\t\t\n",
    "# Load MASS and data set forbes\n",
    "library(MASS)\n",
    "data(forbes)\n",
    "attach(forbes)\n",
    "\n",
    "# initialize the data set\n",
    "X = cbind(rep(1,17),bp)\n",
    "y = pres\n",
    "\n",
    "#' function to represent your models via the parameter vector theta = c(theta_1, theta_2)\n",
    "#' @return a predicted label y_hat for x\n",
    "f <- function(x, theta){\n",
    " \n",
    "  # >>> do something <<<\n",
    "  \n",
    "  return(y_hat)\n",
    "  \n",
    "}\n",
    "\t\t\n",
    "#' @return a vector consisting of the optimal  parameter vector \n",
    "optim_coeff <- function(X,y){\n",
    " \n",
    "  # >>> do something <<<\n",
    "  \n",
    "  return(theta)\n",
    "  \n",
    "}\n",
    " \n",
    "# >>>  Do something here to check Forbes' conjecture <<<"
   ]
  },
  {
   "cell_type": "markdown",
   "id": "0a54d6c4",
   "metadata": {
    "vscode": {
     "languageId": "r"
    }
   },
   "source": [
    "INSERT_hint"
   ]
  },
  {
   "cell_type": "markdown",
   "id": "75965a2e",
   "metadata": {},
   "source": [
    "INSERT_solution_header"
   ]
  },
  {
   "cell_type": "markdown",
   "id": "db028c35",
   "metadata": {},
   "source": [
    "INSERT_model_equation"
   ]
  },
  {
   "cell_type": "code",
   "execution_count": 2,
   "id": "55b40e15",
   "metadata": {
    "vscode": {
     "languageId": "r"
    }
   },
   "outputs": [],
   "source": [
    "#| label: model_equation\n",
    "\n",
    "#' function to represent your models via the parameter vector theta = c(theta_1, theta_2)\n",
    "#' @return a predicted label y_hat for x\n",
    "f <- function(x, theta){\n",
    "  # Recall that x[1] is always 1 and x[2] is the feature value (bp)\n",
    "  y_hat <- theta[1] * exp(theta[2]*x[2])\n",
    "  \n",
    "  return(y_hat)\n",
    "}\n"
   ]
  },
  {
   "cell_type": "markdown",
   "id": "689a2229",
   "metadata": {},
   "source": [
    "INSERT_optimal_coefficients"
   ]
  },
  {
   "cell_type": "code",
   "execution_count": 3,
   "id": "c1bda3ec",
   "metadata": {
    "vscode": {
     "languageId": "r"
    }
   },
   "outputs": [
    {
     "name": "stdout",
     "output_type": "stream",
     "text": [
      "hat_theta =  0.3805097 0.02059961"
     ]
    }
   ],
   "source": [
    "#| label: optim_coeff\n",
    "\n",
    "#' @return a vector consisting of the optimal parameter vector \n",
    "optim_coeff <- function(X,y){\n",
    "  \n",
    "  #' @return the empirical risk of a parameter vector theta\n",
    "  emp_risk <- function(theta){\n",
    "    sum((log(y) - log(apply(X,1,f,theta)))^2)\n",
    "  }\n",
    " \n",
    "  return( \n",
    "    optim(c(0.4,0.5), \n",
    "          emp_risk, \n",
    "          method = \"L-BFGS-B\", \n",
    "          lower=c(0,-Inf), \n",
    "          upper=c(Inf,Inf))$par)\n",
    "  # note that c(0.4,0.5) can be replaced by any other theta vector \n",
    "  # satisfying the constraint theta[1]>0\n",
    "}\n",
    "\n",
    "# optimal coefficients\n",
    "hat_theta = optim_coeff(X,y)\n",
    "cat(\"hat_theta = \", hat_theta)"
   ]
  },
  {
   "cell_type": "markdown",
   "id": "81c3e26a",
   "metadata": {},
   "source": [
    "INSERT_checking_forbes"
   ]
  },
  {
   "cell_type": "markdown",
   "id": "c47d54b4",
   "metadata": {},
   "source": [
    "INSERT_visually_header"
   ]
  },
  {
   "cell_type": "code",
   "execution_count": 4,
   "id": "94e06930",
   "metadata": {
    "vscode": {
     "languageId": "r"
    }
   },
   "outputs": [
    {
     "data": {
      "image/png": "[encoded data removed]",
      "text/plain": [
       "plot without title"
      ]
     },
     "metadata": {
      "image/png": {
       "height": 420,
       "width": 420
      }
     },
     "output_type": "display_data"
    }
   ],
   "source": [
    "#| label: forbes_visually\n",
    "\n",
    "f_x <- function(x, theta){\n",
    "  \n",
    "  return((theta[1] * exp(theta[2]*x)))\n",
    "  \n",
    "}\n",
    "\n",
    "curve(f_x(x,theta = hat_theta),min(bp),max(bp),xlab=\"x (bp)\",ylab=\"y (pres)\")\n",
    "points(pres~bp,col=2)"
   ]
  },
  {
   "cell_type": "markdown",
   "id": "626b9e6f",
   "metadata": {},
   "source": [
    "INSERT_mape_header"
   ]
  },
  {
   "cell_type": "code",
   "execution_count": 5,
   "id": "db229f5f",
   "metadata": {
    "vscode": {
     "languageId": "r"
    }
   },
   "outputs": [
    {
     "name": "stdout",
     "output_type": "stream",
     "text": [
      "Mean Absolute Percentage Error (MAPE): 0.4106409 %\n"
     ]
    }
   ],
   "source": [
    "#| label: forbes_mape\n",
    "\n",
    "mape <- function(X,y,theta){\n",
    "  y_hat = apply(X,1,f,theta)\n",
    "  perc_error = abs((y - y_hat)/y) * 100\n",
    "  return(mean(perc_error))\n",
    "}\n",
    "cat(\"Mean Absolute Percentage Error (MAPE):\", mape(X,y,hat_theta), \"%\\n\")"
   ]
  },
  {
   "cell_type": "markdown",
   "id": "1498da54",
   "metadata": {},
   "source": [
    "INSERT_alternative_solution"
   ]
  },
  {
   "cell_type": "code",
   "execution_count": 6,
   "id": "aa6147d5",
   "metadata": {
    "vscode": {
     "languageId": "r"
    }
   },
   "outputs": [
    {
     "data": {
      "image/png": "[encoded data removed]",
      "text/plain": [
       "plot without title"
      ]
     },
     "metadata": {
      "image/png": {
       "height": 420,
       "width": 420
      }
     },
     "output_type": "display_data"
    }
   ],
   "source": [
    "#| label: analytical_solution\n",
    "\n",
    "hat_theta_2 = cov(bp,log(pres))/(var(bp)) \n",
    "hat_theta_1 = exp(mean(log(pres))-hat_theta_2*mean(bp))\n",
    "\n",
    "curve(f_x(x,theta = hat_theta),min(bp),max(bp),xlab=\"x (bp)\",ylab=\"y (pres)\")\n",
    "curve(f_x(x,theta = c(hat_theta_1,hat_theta_2)),min(bp),max(bp),add=T,col=2)\n",
    "points(pres~bp)"
   ]
  },
  {
   "cell_type": "markdown",
   "id": "b3a74b71",
   "metadata": {},
   "source": [
    "INSERT_full_code_header"
   ]
  },
  {
   "cell_type": "code",
   "execution_count": 7,
   "id": "7a8f2238",
   "metadata": {
    "vscode": {
     "languageId": "r"
    }
   },
   "outputs": [
    {
     "name": "stderr",
     "output_type": "stream",
     "text": [
      "The following objects are masked from forbes (pos = 3):\n",
      "\n",
      "    bp, pres\n",
      "\n",
      "\n"
     ]
    },
    {
     "name": "stdout",
     "output_type": "stream",
     "text": [
      "hat_theta =  0.3805097 0.02059961 \n"
     ]
    },
    {
     "name": "stdout",
     "output_type": "stream",
     "text": [
      "Mean Absolute Percentage Error (MAPE): 0.4106409 %\n"
     ]
    },
    {
     "data": {
      "image/png": "[encoded data removed]",
      "text/plain": [
       "plot without title"
      ]
     },
     "metadata": {
      "image/png": {
       "height": 420,
       "width": 420
      }
     },
     "output_type": "display_data"
    },
    {
     "data": {
      "image/png": "[encoded data removed]",
      "text/plain": [
       "plot without title"
      ]
     },
     "metadata": {
      "image/png": {
       "height": 420,
       "width": 420
      }
     },
     "output_type": "display_data"
    }
   ],
   "source": [
    "#| label: full_code\n",
    "\n",
    "#' @param X the feature input matrix X\n",
    "#' @param y the outcome vector y\n",
    "#' @param theta parameter vector for the model (2-dimensional)\n",
    "\t\t\n",
    "# Load MASS and data set forbes\n",
    "library(MASS)\n",
    "data(forbes)\n",
    "attach(forbes)\n",
    "\n",
    "# initialize the data set\n",
    "X = cbind(rep(1,17),bp)\n",
    "y = pres\n",
    "\n",
    "# ---------- model_equation -----------------\n",
    "#' function to represent your models via the parameter vector theta = c(theta_1, theta_2)\n",
    "#' @return a predicted label y_hat for x\n",
    "f <- function(x, theta){\n",
    "  # Recall that x[1] is always 1 and x[2] is the feature value (bp)\n",
    "  y_hat <- theta[1] * exp(theta[2]*x[2])\n",
    "  \n",
    "  return(y_hat)\n",
    "}\n",
    "\n",
    "# ------------- optim_coeff -----------------\n",
    "\n",
    "#' @return a vector consisting of the optimal parameter vector \n",
    "optim_coeff <- function(X,y){\n",
    "  \n",
    "  #' @return the empirical risk of a parameter vector theta\n",
    "  emp_risk <- function(theta){\n",
    "    sum((log(y) - log(apply(X,1,f,theta)))^2)\n",
    "  }\n",
    " \n",
    "  return( \n",
    "    optim(c(0.4,0.5), \n",
    "          emp_risk, \n",
    "          method = \"L-BFGS-B\", \n",
    "          lower=c(0,-Inf), \n",
    "          upper=c(Inf,Inf))$par)\n",
    "  # note that c(0.4,0.5) can be replaced by any other theta vector \n",
    "  # satisfying the constraint theta[1]>0\n",
    "}\n",
    "\n",
    "# optimal coefficients\n",
    "hat_theta = optim_coeff(X,y)\n",
    "cat(\"hat_theta = \", hat_theta, \"\\n\")\n",
    "\n",
    "# ------------ forbes_visually -----------------\n",
    "\n",
    "f_x <- function(x, theta){\n",
    "  \n",
    "  return((theta[1] * exp(theta[2]*x)))\n",
    "  \n",
    "}\n",
    "\n",
    "curve(f_x(x,theta = hat_theta),min(bp),max(bp),xlab=\"x (bp)\",ylab=\"y (pres)\")\n",
    "points(pres~bp,col=2)\n",
    "\n",
    "# ------------ forbes_mape -----------------\n",
    "\n",
    "avg_perc_error <- function(X,y,theta){\n",
    "  y_hat = apply(X,1,f,theta)\n",
    "  perc_error = abs((y - y_hat)/y) * 100\n",
    "  return(mean(perc_error))\n",
    "}\n",
    "\n",
    "cat(\"Mean Absolute Percentage Error (MAPE):\", mape(X,y,hat_theta), \"%\\n\")\n",
    "\n",
    "# ------------ analytical_solution -----------------\n",
    "hat_theta_2 = cov(bp,log(pres))/(var(bp)) \n",
    "hat_theta_1 = exp(mean(log(pres))-hat_theta_2*mean(bp))\n",
    "\n",
    "curve(f_x(x,theta = hat_theta),min(bp),max(bp),xlab=\"x (bp)\",ylab=\"y (pres)\")\n",
    "curve(f_x(x,theta = c(hat_theta_1,hat_theta_2)),min(bp),max(bp),add=T,col=2)\n",
    "points(pres~bp)"
   ]
  }
 ],
 "metadata": {
  "kernelspec": {
   "display_name": "R",
   "language": "R",
   "name": "ir"
  },
  "language_info": {
   "codemirror_mode": "r",
   "file_extension": ".r",
   "mimetype": "text/x-r-source",
   "name": "R",
   "pygments_lexer": "r",
   "version": "4.4.1"
  }
 },
 "nbformat": 4,
 "nbformat_minor": 5
}
