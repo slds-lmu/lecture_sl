{
 "cells": [
  {
   "cell_type": "raw",
   "id": "0e6afa50",
   "metadata": {
    "vscode": {
     "languageId": "raw"
    }
   },
   "source": [
    "---\n",
    "title: \"Python - Gaussian Processes - Exercise 1\"\n",
    "---"
   ]
  },
  {
   "cell_type": "markdown",
   "id": "0d4d09da",
   "metadata": {},
   "source": [
    "<a href=\"INSERT_colab_python_link\" target=\"_parent\"><img src=\"https://colab.research.google.com/assets/colab-badge.svg\" alt=\"Open In Colab\"/></a>"
   ]
  },
  {
   "cell_type": "markdown",
   "id": "db22f8b0",
   "metadata": {
    "vscode": {
     "languageId": "raw"
    }
   },
   "source": [
    "label: exercise\n",
    "# Exercise 1 (d)\n",
    "\n",
    "Implement the GP with squared exponential kernel, zero mean function and $\\ell = 1$ from scratch for $n=2$ observations $(\\bm{y},\\bm{x})$. \n",
    "Do this as efficiently as possible by explicitly calculating all expensive computations by hand. Do the same for the posterior predictive distribution of $y_*$. Test your implementation using simulated data.\n"
   ]
  },
  {
   "cell_type": "markdown",
   "id": "7fa271d1",
   "metadata": {},
   "source": [
    "label: math_solution\n",
    "# Solution: Explicit Calculations\n",
    "\n",
    "To implement a GP with squared exponential kernel and $\\ell = 1$, we need the inverse of $\\bm{K}$. $\\bm{x}$ being a vector implies that we have only one feature and thus the entries of our matrix $\\bm{K}$ are \n",
    "$$\n",
    "\\bm{K} = \\begin{pmatrix} 1 & \\exp(-0.5 (x^{(1)} - x^{(2)})^2) \\\\ \\exp(-0.5 (x^{(2)} - x^{(1)})^2) & 1 \\end{pmatrix}.\n",
    "$$\n",
    "\n",
    "The inverse of $\\bm{K}$ is then given by:\n",
    "$$\n",
    "\\frac{1}{1-\\exp(-(x^{(1)} - x^{(2)})^2)} \\begin{pmatrix} 1 & -\\exp(-0.5 (x^{(1)} - x^{(2)})^2) \\\\ -\\exp(-0.5 (x^{(2)} - x^{(1)})^2) & 1 \\end{pmatrix}.\n",
    "$$\n",
    "\n",
    "If we have a noisy GP, we would have to add $\\sigma^2 \\bm{I}_2$ to $\\bm{K}$ with resulting inverse:\n",
    "\n",
    "$$\n",
    "\\bm{K}_y^{-1} = \\frac{1}{(1+\\sigma^2)^2-\\exp(-(x^{(1)} - x^{(2)})^2)} \\begin{pmatrix} 1+\\sigma^2 & -\\exp(-0.5 (x^{(1)} - x^{(2)})^2) \\\\ -\\exp(-0.5 (x^{(2)} - x^{(1)})^2) & 1+\\sigma^2 \\end{pmatrix}.\n",
    "$$\n",
    "\n",
    "\n",
    "Assuming a zero mean GP, we can derive $\\frac{\\partial \\bm{K}_y}{\\partial \\theta}$ with $\\theta = \\sigma^2$, which gives us the identity matrix. We can thus maximize the marginal likelihood (slide on [*Gaussian Process Training*](https://slds-lmu.github.io/i2ml/chapters/19_gaussian_processes/19-05-training/)), by finding $\\sigma^2$ that yields:\n",
    "$$\\text{tr}\\left( \\bm{K}_y^{-1} \\bm{y} \\bm{y}^\\top \\bm{K}_y^{-1} - \\bm{K}_y^{-1} \\right) = 0.$$\n",
    "\n",
    "This can be solved analytically (though quite tedious). We will use a root-finding function for this. For the posterior predictive distribution we can make use of the results from the previous exercise."
   ]
  },
  {
   "cell_type": "markdown",
   "id": "de03c41f",
   "metadata": {},
   "source": [
    "label: setup\n",
    "# Code Setup"
   ]
  },
  {
   "cell_type": "code",
   "execution_count": 1,
   "id": "03c2ad75",
   "metadata": {},
   "outputs": [],
   "source": [
    "#| label: setup\n",
    "\n",
    "# you may need to first run\n",
    "# pip install numpy matplotlib scipy scikit-learn\n",
    "\n",
    "import numpy as np\n",
    "import matplotlib.pyplot as plt\n",
    "\n",
    "from scipy.optimize import fsolve\n",
    "from scipy.stats import multivariate_normal\n",
    "from sklearn.gaussian_process.kernels import RBF\n",
    "\n",
    "\n",
    "# set seed, define n, true (unknown) sigma\n",
    "np.random.seed(509)\n",
    "n = 2\n",
    "sigma = 1"
   ]
  },
  {
   "cell_type": "markdown",
   "id": "b711c976",
   "metadata": {},
   "source": [
    "---\n",
    "label: kernel_setup\n",
    "---\n",
    "\n",
    "# Kernel Function Definition\n",
    "\n",
    "We define the squared exponential kernel functions with length scale $\\ell = 1$."
   ]
  },
  {
   "cell_type": "code",
   "execution_count": 2,
   "id": "3471c677",
   "metadata": {},
   "outputs": [
    {
     "name": "stdout",
     "output_type": "stream",
     "text": [
      "K(x, y) =\n",
      "[[1.         0.13533528 0.011109  ]\n",
      " [0.60653066 0.60653066 0.13533528]]\n",
      "\n"
     ]
    }
   ],
   "source": [
    "#| label: kernel-functions\n",
    "\n",
    "# define kernel with l = 1 (length scale)\n",
    "def kernel_fun_pred(x, y): # K(x, y)\n",
    "    assert x.ndim == 2 and y.ndim == 2, \"x and y must be 2D arrays\"\n",
    "    kernel = RBF(length_scale=1.0)\n",
    "    return kernel(x, y)\n",
    "\n",
    "def kernel_fun(x):         # K(x, x) \n",
    "    return kernel_fun_pred(x, x)\n",
    "\n",
    "# Examples\n",
    "x_example = np.array([[0], [1]])\n",
    "y_example = np.array([[0], [2], [3]])\n",
    "\n",
    "print(f\"K(x, y) =\\n{kernel_fun_pred(x_example, y_example)}\\n\")\n"
   ]
  },
  {
   "cell_type": "markdown",
   "id": "d55358fa",
   "metadata": {},
   "source": [
    "label: data_gen\n",
    "## Data Generation\n",
    "\n",
    "We generate synthetic data according to the GP generating process. First, we sample input points $x$, then construct the kernel matrix $K$ and add noise to get $K_y$, and finally sample observations $y$ from the multivariate normal distribution."
   ]
  },
  {
   "cell_type": "code",
   "execution_count": 3,
   "id": "94f5561f",
   "metadata": {},
   "outputs": [
    {
     "name": "stdout",
     "output_type": "stream",
     "text": [
      "[[-0.44386155]\n",
      " [ 2.30799639]]\n"
     ]
    }
   ],
   "source": [
    "#| label: data_gen\n",
    "\n",
    "# draw data according to the generating process:\n",
    "x = np.random.normal(size=n)    # sample input points\n",
    "x = x.reshape(-1, 1)  # reshape to 2D array\n",
    "\n",
    "K = kernel_fun(x)               # kernel matrix\n",
    "K_y = K + sigma**2 * np.eye(2)  # adding noise to diagonal\n",
    "\n",
    "# sampling from multivariate normal distribution\n",
    "y = multivariate_normal.rvs(mean=np.zeros(n), cov=K_y).reshape(-1, 1)\n",
    "print(y)"
   ]
  },
  {
   "cell_type": "markdown",
   "id": "dcd1dce9",
   "metadata": {},
   "source": [
    "label: hyperparameter-optimization-explanation\n",
    "# Hyperparameter Optimization\n",
    "\n",
    "We implement the root-finding function to optimize the noise parameter $\\sigma^2$ by setting the derivative of the marginal likelihood to zero. This corresponds to finding the root of the trace expression derived earlier."
   ]
  },
  {
   "cell_type": "code",
   "execution_count": 4,
   "id": "55143619",
   "metadata": {},
   "outputs": [
    {
     "name": "stdout",
     "output_type": "stream",
     "text": [
      "Optimal sigma^2: 1.9843\n"
     ]
    }
   ],
   "source": [
    "#| label: optimize-hyperparameters\n",
    "\n",
    "# function to find the best sigma^2\n",
    "def root_fun(sigma_square):\n",
    "    K_y_inv = np.linalg.inv(K + sigma_square * np.eye(2))\n",
    "    \n",
    "    term1 = K_y_inv @ y @ y.T @ K_y_inv\n",
    "    term2 = K_y_inv\n",
    "    trace_val = np.trace(term1 - term2)\n",
    "    \n",
    "    return 0.5 * trace_val\n",
    "\n",
    "# get the best sigma using root finding\n",
    "best_sigma_squared = fsolve(root_fun, 1)[0]  # 1 is just a starting point\n",
    "print(f\"Optimal sigma^2: {best_sigma_squared:.4f}\")"
   ]
  },
  {
   "cell_type": "markdown",
   "id": "2af57434",
   "metadata": {},
   "source": [
    "label: optim_visualization\n",
    "## Visualization of Optimization\n",
    "\n",
    "We plot the marginal likelihood derivative as a function of $\\sigma^2$ to visualize the optimization problem and show where the optimal value is found (where the derivative equals zero)."
   ]
  },
  {
   "cell_type": "code",
   "execution_count": 5,
   "id": "aed81025",
   "metadata": {},
   "outputs": [
    {
     "data": {
      "image/png": "[encoded data removed]",
      "text/plain": [
       "<Figure size 640x480 with 1 Axes>"
      ]
     },
     "metadata": {},
     "output_type": "display_data"
    }
   ],
   "source": [
    "#| label: plot-optimization\n",
    "\n",
    "# plot the optimization problem and best sigma\n",
    "# note: lower bound for sigma^2 is set to 0.75 to avoid numerical issues\n",
    "possible_sigma_vals = np.linspace(0.75, 20, 1_000)\n",
    "\n",
    "\n",
    "# evaluate root function for all sigma values\n",
    "root_values = [root_fun(sig) for sig in possible_sigma_vals]\n",
    "\n",
    "plt.plot(possible_sigma_vals, root_values, 'o', markersize=2)\n",
    "\n",
    "plt.xlabel(r'$\\sigma^2$')\n",
    "plt.ylabel('Marginal likelihood derivative')\n",
    "plt.axhline(y=0, linestyle='--', color=\"red\")  \t\t\t\t\t # horizontal line at y=0\n",
    "plt.axvline(x=best_sigma_squared, linestyle='--',  color=\"red\")  # optimal sigma (derivative = 0)\n",
    "plt.grid(True)\n",
    "plt.show()"
   ]
  },
  {
   "cell_type": "markdown",
   "id": "40fea36d",
   "metadata": {},
   "source": [
    "label: posterior_predictiev\n",
    "# Posterior Predictive Distribution\n",
    "\n",
    "We implement a function to draw samples from the posterior predictive distribution. This uses the GP posterior mean and variance formulas to generate predictions at new input points $x^*$."
   ]
  },
  {
   "cell_type": "code",
   "execution_count": 6,
   "id": "0af023d5",
   "metadata": {},
   "outputs": [],
   "source": [
    "#| label: posterior-predictive-function\n",
    "\n",
    "def draw_from_pred_posterior(num_samples, y, x, xstar, sigma_square=1):\n",
    "    # invert noisy K\n",
    "    K_y_inv = np.linalg.inv(kernel_fun(x) + sigma_square * np.eye(2))\n",
    "    \n",
    "    # get the other K's for new data\n",
    "    Kstar = kernel_fun_pred(x, xstar)  # K(x, x*)\n",
    "    Kstarstar = kernel_fun(xstar)  \t   # K(x*, x*)\n",
    "    \n",
    "\t# draw samples according to Ex. (d)\n",
    "    post_mean = Kstar.T @ K_y_inv @ y\n",
    "    post_var = Kstarstar - Kstar.T @ K_y_inv @ Kstar\n",
    "    \n",
    "    samples = np.random.normal(\n",
    "        loc=post_mean.flatten(), \n",
    "        scale=np.sqrt(post_var.flatten()),  \n",
    "        size=num_samples\n",
    "    )\n",
    "    \n",
    "    return samples"
   ]
  },
  {
   "cell_type": "markdown",
   "id": "9329125f",
   "metadata": {},
   "source": [
    "label: sampling_visualization\n",
    "## Sampling and Visualization\n",
    "\n",
    "Finally, we draw samples from the posterior predictive distribution at a test point $x^* = 0$ using the optimized noise parameter, and visualize the distribution with a histogram."
   ]
  },
  {
   "cell_type": "code",
   "execution_count": 7,
   "id": "21f11617",
   "metadata": {},
   "outputs": [
    {
     "data": {
      "image/png": "[encoded data removed]",
      "text/plain": [
       "<Figure size 640x480 with 1 Axes>"
      ]
     },
     "metadata": {},
     "output_type": "display_data"
    }
   ],
   "source": [
    "#| label: sample_and_plot\n",
    "\n",
    "xstar = np.array([[0]])  # point where we want to predict\n",
    "\n",
    "# draw enough samples to get a feeling for the distribution\n",
    "samples_posterior = draw_from_pred_posterior(\n",
    "    num_samples=1_000, \n",
    "    sigma_square=best_sigma_squared, \n",
    "    y=y, x=x, xstar=xstar\n",
    ")\n",
    "\n",
    "# plot the distribution\n",
    "plt.hist(samples_posterior, bins=50, edgecolor='black')\n",
    "plt.xlabel(r'$y_*$')\n",
    "plt.title('Posterior Predictive Distribution at $x^* = 0$')\n",
    "plt.grid(True, alpha=0.3)\n",
    "plt.show()\n"
   ]
  }
 ],
 "metadata": {
  "kernelspec": {
   "display_name": "sl",
   "language": "python",
   "name": "python3"
  },
  "language_info": {
   "codemirror_mode": {
    "name": "ipython",
    "version": 3
   },
   "file_extension": ".py",
   "mimetype": "text/x-python",
   "name": "python",
   "nbconvert_exporter": "python",
   "pygments_lexer": "ipython3",
   "version": "3.10.18"
  }
 },
 "nbformat": 4,
 "nbformat_minor": 5
}
