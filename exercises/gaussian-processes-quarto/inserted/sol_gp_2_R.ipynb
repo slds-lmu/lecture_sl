{
 "cells": [
  {
   "cell_type": "raw",
   "id": "0e6afa50",
   "metadata": {
    "vscode": {
     "languageId": "raw"
    }
   },
   "source": [
    "---\n",
    "title: \"R - Gaussian Processes - Exercise 2\"\n",
    "---"
   ]
  },
  {
   "cell_type": "markdown",
   "id": "0d4d09da",
   "metadata": {},
   "source": [
    "<a href=\"https://colab.research.google.com/github/slds-lmu/lecture_sl/blob/main/exercises/gaussian-processes-quarto/inserted/sol_gp_2_R.ipynb\" target=\"_parent\"><img src=\"https://colab.research.google.com/assets/colab-badge.svg\" alt=\"Open In Colab\"/></a>"
   ]
  },
  {
   "cell_type": "markdown",
   "id": "db22f8b0",
   "metadata": {
    "vscode": {
     "languageId": "raw"
    }
   },
   "source": [
    "# Exercise 1 (d)\n",
    "\n",
    "Implement the GP with squared exponential kernel, zero mean function and $\\ell = 1$ from scratch for $n=2$ observations $(\\bm{y},\\bm{x})$. \n",
    "Do this as efficiently as possible by explicitly calculating all expensive computations by hand. Do the same for the posterior predictive distribution of $y_*$. Test your implementation using simulated data."
   ]
  },
  {
   "cell_type": "markdown",
   "id": "7fa271d1",
   "metadata": {},
   "source": [
    "# Solution: Explicit Calculations\n",
    "\n",
    "To implement a GP with squared exponential kernel and $\\ell = 1$, we need the inverse of $\\bm{K}$. $\\bm{x}$ being a vector implies that we have only one feature and thus the entries of our matrix $\\bm{K}$ are \n",
    "$$\n",
    "\\bm{K} = \\begin{pmatrix} 1 & \\exp(-0.5 (x^{(1)} - x^{(2)})^2) \\\\ \\exp(-0.5 (x^{(2)} - x^{(1)})^2) & 1 \\end{pmatrix}.\n",
    "$$\n",
    "\n",
    "The inverse of $\\bm{K}$ is then given by:\n",
    "$$\n",
    "\\frac{1}{1-\\exp(-(x^{(1)} - x^{(2)})^2)} \\begin{pmatrix} 1 & -\\exp(-0.5 (x^{(1)} - x^{(2)})^2) \\\\ -\\exp(-0.5 (x^{(2)} - x^{(1)})^2) & 1 \\end{pmatrix}.\n",
    "$$\n",
    "\n",
    "If we have a noisy GP, we would have to add $\\sigma^2 \\bm{I}_2$ to $\\bm{K}$ with resulting inverse:\n",
    "\n",
    "$$\n",
    "\\bm{K}_y^{-1} = \\frac{1}{(1+\\sigma^2)^2-\\exp(-(x^{(1)} - x^{(2)})^2)} \\begin{pmatrix} 1+\\sigma^2 & -\\exp(-0.5 (x^{(1)} - x^{(2)})^2) \\\\ -\\exp(-0.5 (x^{(2)} - x^{(1)})^2) & 1+\\sigma^2 \\end{pmatrix}.\n",
    "$$\n",
    "\n",
    "\n",
    "Assuming a zero mean GP, we can derive $\\frac{\\partial \\bm{K}_y}{\\partial \\theta}$ with $\\theta = \\sigma^2$, which gives us the identity matrix. We can thus maximize the marginal likelihood (slide on [*Gaussian Process Training*](https://slds-lmu.github.io/i2ml/chapters/19_gaussian_processes/19-05-training/)), by finding $\\sigma^2$ that yields:\n",
    "$$\\text{tr}\\left( \\bm{K}_y^{-1} \\bm{y} \\bm{y}^\\top \\bm{K}_y^{-1} - \\bm{K}_y^{-1} \\right) = 0.$$\n",
    "\n",
    "This can be solved analytically (though quite tedious). We will use a root-finding function for this. For the posterior predictive distribution we can make use of the results from the previous exercise."
   ]
  },
  {
   "cell_type": "markdown",
   "id": "de03c41f",
   "metadata": {},
   "source": [
    "# Code Setup"
   ]
  },
  {
   "cell_type": "code",
   "execution_count": null,
   "id": "03c2ad75",
   "metadata": {
    "vscode": {
     "languageId": "r"
    }
   },
   "outputs": [],
   "source": [
    "#| label: setup\n",
    "\n",
    "# you may need to install the packages first\n",
    "install.packages(c(\"kernlab\", \"mvtnorm\"))\n",
    "\n",
    "library(kernlab)\n",
    "library(mvtnorm)\n",
    "\n",
    "# set seed, define n, true (unknown) sigma\n",
    "set.seed(212)\n",
    "n = 2\n",
    "sigma = 1"
   ]
  },
  {
   "cell_type": "markdown",
   "id": "b711c976",
   "metadata": {},
   "source": [
    "# Kernel Function Definition\n",
    "\n",
    "We define the squared exponential kernel functions with length scale $l = 1$."
   ]
  },
  {
   "cell_type": "code",
   "execution_count": null,
   "id": "3471c677",
   "metadata": {
    "vscode": {
     "languageId": "r"
    }
   },
   "outputs": [
    {
     "name": "stdout",
     "output_type": "stream",
     "text": [
      "An object of class \"kernelMatrix\"\n",
      "          [,1]      [,2]      [,3]\n",
      "[1,] 1.0000000 0.1353353 0.0111090\n",
      "[2,] 0.6065307 0.6065307 0.1353353\n"
     ]
    }
   ],
   "source": [
    "#| label: kernel_functions\n",
    "\n",
    "# define kernel with l = 1\n",
    "kernel_fun_pred <- function(x,y) # K(x, y)\n",
    "\tkernelMatrix(kernel = rbfdot(sigma = 1/2), x = x, y = y)\n",
    "\n",
    "kernel_fun <- function(x) \t\t # K(x, x)\n",
    "\tkernel_fun_pred(x, x)\n",
    "\n",
    "# Example\n",
    "x_example <- matrix(c(0, 1), ncol = 1)\n",
    "y_example <- matrix(c(0, 2, 3), ncol = 1)\n",
    "\n",
    "print(kernel_fun_pred(x_example, y_example))"
   ]
  },
  {
   "cell_type": "markdown",
   "id": "d55358fa",
   "metadata": {},
   "source": [
    "## Data Generation\n",
    "\n",
    "We generate synthetic data according to the GP generating process. First, we sample input points $x$, then construct the kernel matrix $K$ and add noise to get $K_y$, and finally sample observations $y$ from the multivariate normal distribution."
   ]
  },
  {
   "cell_type": "code",
   "execution_count": 3,
   "id": "94f5561f",
   "metadata": {
    "vscode": {
     "languageId": "r"
    }
   },
   "outputs": [
    {
     "name": "stdout",
     "output_type": "stream",
     "text": [
      "         [,1]\n",
      "[1,] 2.012317\n",
      "[2,] 1.866819\n"
     ]
    }
   ],
   "source": [
    "#| label: data_gen\n",
    "\n",
    "# draw data according to the generating process:\n",
    "x = rnorm(n)                   # sample input points\n",
    "K = kernel_fun(x)              # kernel matrix\n",
    "K_y = K + diag(rep(sigma^2,2)) # adding noise to diagonal\n",
    "\n",
    "# sampling from multivariate normal distribution\n",
    "y = t(mvtnorm::rmvnorm(1, sigma = K_y)) \n",
    "print(y)"
   ]
  },
  {
   "cell_type": "markdown",
   "id": "dcd1dce9",
   "metadata": {},
   "source": [
    "# Hyperparameter Optimization\n",
    "\n",
    "We implement the root-finding function to optimize the noise parameter $\\sigma^2$ by setting the derivative of the marginal likelihood to zero. This corresponds to finding the root of the trace expression derived earlier."
   ]
  },
  {
   "cell_type": "code",
   "execution_count": null,
   "id": "55143619",
   "metadata": {
    "vscode": {
     "languageId": "r"
    }
   },
   "outputs": [
    {
     "name": "stdout",
     "output_type": "stream",
     "text": [
      "[1] \"Optimal sigma^2: 1.94368407440696\"\n"
     ]
    }
   ],
   "source": [
    "#| label: optimize_hyperparameters\n",
    "\n",
    "# function to find the best sigma^2\n",
    "root_fun <- function(sigma_square){\n",
    "\tK_y_inv = solve(K + diag(rep(sigma_square, 2)))\n",
    "\t\n",
    "\tterm1 = K_y_inv %*% y %*% t(y) %*% K_y_inv\n",
    "\tterm2 = K_y_inv\n",
    "\t\n",
    "\t0.5 * sum(diag(term1 - term2))\n",
    "}\n",
    "\n",
    "# get the best sigma\n",
    "best_sigma_squared = uniroot(f = root_fun, interval = c(0, 20))$root\n",
    "print(paste(\"Optimal sigma^2:\", best_sigma_squared))"
   ]
  },
  {
   "cell_type": "markdown",
   "id": "2af57434",
   "metadata": {},
   "source": [
    "## Visualization of Optimization\n",
    "\n",
    "We plot the marginal likelihood derivative as a function of $\\sigma^2$ to visualize the optimization problem and show where the optimal value is found (where the derivative equals zero)."
   ]
  },
  {
   "cell_type": "code",
   "execution_count": null,
   "id": "aed81025",
   "metadata": {
    "vscode": {
     "languageId": "r"
    }
   },
   "outputs": [
    {
     "data": {
      "image/png": "[encoded data removed]",
      "text/plain": [
       "plot without title"
      ]
     },
     "metadata": {
      "image/png": {
       "height": 420,
       "width": 420
      }
     },
     "output_type": "display_data"
    }
   ],
   "source": [
    "#| label: plot_optimization\n",
    "\n",
    "# plot the optimization problem and best sigma\n",
    "possible_sigma_vals <- seq(0.001, 20, l=1000)\n",
    "\n",
    "plot(possible_sigma_vals, sapply(possible_sigma_vals, root_fun),\n",
    "\t xlab = expression(sigma^2), ylab = \"Marginal likelihood derivative\",\n",
    "\t pch = 20)\n",
    "\n",
    "abline(h=0, lty=2, col=\"red\") \t\t\t\t\t# horizontal line at y=0\n",
    "abline(v=best_sigma_squared, lty=2, col=\"red\") # optimal sigma (derivative = 0)"
   ]
  },
  {
   "cell_type": "markdown",
   "id": "40fea36d",
   "metadata": {},
   "source": [
    "# Posterior Predictive Distribution\n",
    "\n",
    "We implement a function to draw samples from the posterior predictive distribution. This uses the GP posterior mean and variance formulas to generate predictions at new input points $x^*$."
   ]
  },
  {
   "cell_type": "code",
   "execution_count": null,
   "id": "0af023d5",
   "metadata": {
    "vscode": {
     "languageId": "r"
    }
   },
   "outputs": [],
   "source": [
    "#| label: posterior_predictive_function\n",
    "\n",
    "# function to draw samples from the predictive posterior\n",
    "draw_from_pred_posterior <- function(num_samples, y, x, xstar, sigma_square=1)\n",
    "{\n",
    "\t# invert noisy K\n",
    "\tK_y_inv = solve(kernel_fun(x) + diag(rep(sigma_square,2)))\n",
    "\t# get the other K's for new data\n",
    "\tKstar = kernel_fun_pred(x,xstar) # K(x, x*)\n",
    "\tKstarstar = kernel_fun(xstar)    # K(x*, x*)\n",
    "  \n",
    "\t# draw samples according to Ex. (d)\n",
    "\tpost_mean =  as.numeric(t(Kstar) %*% K_y_inv %*% y)\n",
    "\tpost_variance = as.numeric(Kstarstar - t(Kstar) %*% K_y_inv %*% Kstar)\n",
    "\n",
    "\trnorm(num_samples, \n",
    "\t\tmean = post_mean, \n",
    "\t\tsd = sqrt(post_variance)\n",
    "\t) \n",
    "}"
   ]
  },
  {
   "cell_type": "markdown",
   "id": "9329125f",
   "metadata": {},
   "source": [
    "## Sampling and Visualization\n",
    "\n",
    "Finally, we draw samples from the posterior predictive distribution at a test point $x^* = 0$ using the optimized noise parameter, and visualize the distribution with a histogram."
   ]
  },
  {
   "cell_type": "code",
   "execution_count": 7,
   "id": "21f11617",
   "metadata": {
    "vscode": {
     "languageId": "r"
    }
   },
   "outputs": [
    {
     "data": {
      "image/png": "[encoded data removed]",
      "text/plain": [
       "Plot with title \"Posterior Predictive Distribution at x* = 0\""
      ]
     },
     "metadata": {
      "image/png": {
       "height": 420,
       "width": 420
      }
     },
     "output_type": "display_data"
    }
   ],
   "source": [
    "#| label: sample_and_plot\n",
    "\n",
    "# draw enough samples to get a feeling for the distribution\n",
    "samples_posterior = draw_from_pred_posterior(num_samples = 1000, \n",
    "\t\t\t\t\t\t\t\t\t\t\t sigma_square = best_sigma_squared, \n",
    "\t\t\t\t\t\t\t\t\t\t\t y = y, x = x, xstar = 0)\n",
    "\n",
    "# plot the distribution\n",
    "hist(samples_posterior, breaks=50, xlab=expression(y[\"*\"]),\n",
    "\t main = \"Posterior Predictive Distribution at x* = 0\")"
   ]
  }
 ],
 "metadata": {
  "kernelspec": {
   "display_name": "R",
   "language": "R",
   "name": "ir"
  },
  "language_info": {
   "codemirror_mode": "r",
   "file_extension": ".r",
   "mimetype": "text/x-r-source",
   "name": "R",
   "pygments_lexer": "r",
   "version": "4.4.1"
  }
 },
 "nbformat": 4,
 "nbformat_minor": 5
}
