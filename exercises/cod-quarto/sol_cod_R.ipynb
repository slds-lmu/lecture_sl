{
 "cells": [
  {
   "cell_type": "markdown",
   "id": "755efbeb",
   "metadata": {},
   "source": [
    "---\n",
    "title: \"R - COD\"\n",
    "---"
   ]
  },
  {
   "cell_type": "markdown",
   "id": "0b3ec908",
   "metadata": {},
   "source": [
    "<a href=\"INSERT_colab_R_link\" target=\"_parent\"><img src=\"https://colab.research.google.com/assets/colab-badge.svg\" alt=\"Open In Colab\"/></a>\n",
    "\n",
    "INSERT_importing_libraries"
   ]
  },
  {
   "cell_type": "code",
   "execution_count": null,
   "id": "442f0cbc",
   "metadata": {
    "vscode": {
     "languageId": "r"
    }
   },
   "outputs": [],
   "source": [
    "#| label: imports\n",
    "\n",
    "# Install the package if you haven't already\n",
    "install.packages(\"mvtnorm\")\n",
    "\n",
    "# load library to sample from multivariate normal distribution\n",
    "library(mvtnorm)"
   ]
  },
  {
   "cell_type": "markdown",
   "id": "bec91f0d",
   "metadata": {},
   "source": [
    "INSERT_defining_functions"
   ]
  },
  {
   "cell_type": "markdown",
   "id": "9176a046",
   "metadata": {},
   "source": [
    "INSERT_euclidean_length_header"
   ]
  },
  {
   "cell_type": "code",
   "execution_count": 2,
   "id": "247ceb6c",
   "metadata": {
    "vscode": {
     "languageId": "r"
    }
   },
   "outputs": [],
   "source": [
    "#| label: euclidean_length\n",
    "\n",
    "# compute average euclidean length of a matrix x (rows = samples)\n",
    "average_euclidean_length <- function(x){\n",
    "  mean(apply(x,1,norm,type=\"2\"))\n",
    "}\n",
    "\n",
    "# compute variance of euclidean lengths of a matrix x (rows = samples)\n",
    "variance_euclidean_length <- function(x){\n",
    "  var(apply(x,1,norm,type=\"2\"))\n",
    "}"
   ]
  },
  {
   "cell_type": "markdown",
   "id": "22c5cf4a",
   "metadata": {},
   "source": [
    "INSERT_euclidean_distance_header"
   ]
  },
  {
   "cell_type": "code",
   "execution_count": 3,
   "id": "a680823a",
   "metadata": {
    "vscode": {
     "languageId": "r"
    }
   },
   "outputs": [],
   "source": [
    "#| label: euclidean_distance\n",
    "\n",
    "# compute average euclidean distances between matrices x and x2 (rows = samples)\n",
    "average_euclidean_distances <- function(x,x2){\n",
    "  z = c()\n",
    "  for (i in 1:nrow(x)){\n",
    "    z = rbind(z,x[i,]-x2)\n",
    "  }\n",
    "  mean(apply(z,1,norm,type=\"2\"))\n",
    "}\n",
    "\n",
    "# compute variance of euclidean distances between matrices x and x2 \n",
    "variance_euclidean_distances <- function(x,x2){\n",
    "  z = c()\n",
    "  for (i in 1:nrow(x)){\n",
    "    z = rbind(z,x[i,]-x2)\n",
    "  }\n",
    "  var(apply(z,1,norm,type=\"2\"))\n",
    "}"
   ]
  },
  {
   "cell_type": "markdown",
   "id": "e86222d1",
   "metadata": {},
   "source": [
    "INSERT_inner_product_header"
   ]
  },
  {
   "cell_type": "code",
   "execution_count": 4,
   "id": "f1c9363a",
   "metadata": {
    "vscode": {
     "languageId": "r"
    }
   },
   "outputs": [],
   "source": [
    "#| label: inner_product\n",
    "\n",
    "# compute average inner products between matrices x and x2 (rows = samples)\n",
    "average_inner_product <- function(x,x2){\n",
    "  z = c()\n",
    "  for (i in 1:nrow(x)){\n",
    "    z = rbind(z,x2%*%x[i,])\n",
    "  }\n",
    "  mean(z)\n",
    "}\n",
    "\n",
    "# compute varaince of inner products between matrices x and x2 (rows = samples)\n",
    "variance_inner_product <- function(x,x2){\n",
    "  z = c()\n",
    "  for (i in 1:nrow(x)){\n",
    "    z = rbind(z,x2%*%x[i,])\n",
    "  }\n",
    "  var(z)\n",
    "}"
   ]
  },
  {
   "cell_type": "markdown",
   "id": "bdb269c6",
   "metadata": {},
   "source": [
    "INSERT_looping_header"
   ]
  },
  {
   "cell_type": "code",
   "execution_count": 5,
   "id": "5be754a5",
   "metadata": {
    "vscode": {
     "languageId": "r"
    }
   },
   "outputs": [],
   "source": [
    "#| label: loop_over_p\n",
    "\n",
    "set.seed(5) # setting seed for reproducibility\n",
    "\n",
    "p_range         <- 2^seq(0,10) # 1, 2, ..., 1024\n",
    "n = 100\n",
    "\n",
    "avg_eucl_length <- c()\n",
    "var_eucl_length <- c()\n",
    "avg_eucl_dist   <- c()\n",
    "var_eucl_dist   <- c()\n",
    "avg_inner_prod  <- c()\n",
    "var_inner_prod  <- c()\n",
    "\n",
    "\n",
    "for (p in p_range){\n",
    "  x               <- rmvnorm(n=n, mean=rep(0,p), sigma=diag(p))\n",
    "  x2              <- rmvnorm(n=n, mean=rep(0,p), sigma=diag(p))\n",
    "  \n",
    "  avg_eucl_length <- c(avg_eucl_length,average_euclidean_length(x))\n",
    "  var_eucl_length <- c(var_eucl_length,variance_euclidean_length(x))\n",
    "  avg_eucl_dist   <- c(avg_eucl_dist,average_euclidean_distances(x,x2))\n",
    "  var_eucl_dist   <- c(var_eucl_dist,variance_euclidean_distances(x,x2))\n",
    "  avg_inner_prod  <- c(avg_inner_prod,average_inner_product(x,x2))\n",
    "  var_inner_prod  <- c(var_inner_prod,variance_inner_product(x,x2))  \n",
    "}"
   ]
  },
  {
   "cell_type": "markdown",
   "id": "a7adfd32",
   "metadata": {},
   "source": [
    "INSERT_visual_inspection"
   ]
  },
  {
   "cell_type": "code",
   "execution_count": 6,
   "id": "f1bb1d46",
   "metadata": {
    "vscode": {
     "languageId": "r"
    }
   },
   "outputs": [
    {
     "data": {
      "image/png": "[encoded data removed]",
      "text/plain": [
       "Plot with title \"Variance Inner Products and p\""
      ]
     },
     "metadata": {
      "image/png": {
       "height": 420,
       "width": 420
      }
     },
     "output_type": "display_data"
    }
   ],
   "source": [
    "#| label: plots\n",
    "\n",
    "# compare the results visually\n",
    "par(mfrow=c(2,3))\n",
    "\n",
    "plot(p_range,avg_eucl_length,type=\"l\",main=\"Average Euclidean Length\\nand square root of p\",xlab=\"p\",ylab=\"\")\n",
    "lines(p_range,sqrt(p_range),col=2,lty=2)\n",
    "\n",
    "plot(p_range,avg_eucl_dist,type=\"l\",main=\"Average Euclidean Distances\\nand square root of (2p)\",xlab=\"p\",ylab=\"\")\n",
    "lines(p_range,sqrt(2*p_range),col=2,lty=2)\n",
    "\n",
    "plot(p_range,avg_inner_prod,type=\"l\",main=\"Average Inner Products\",xlab=\"p\",ylab=\"\")\n",
    "abline(h=0,col=2)\n",
    "\n",
    "plot(p_range,var_eucl_length,type=\"l\",main=\"Variance Euclidean Length\",xlab=\"p\",ylab=\"\",ylim=c(0,2))\n",
    "abline(h=2,col=2)\n",
    "\n",
    "plot(p_range,var_eucl_dist,type=\"l\",main=\"Variance Euclidean Distances\",xlab=\"p\",ylab=\"\",ylim=c(0,4))\n",
    "abline(h=2,col=2)\n",
    "\n",
    "plot(p_range,var_inner_prod,type=\"l\",main=\"Variance Inner Products and p\",xlab=\"p\",ylab=\"\")\n",
    "lines(p_range,p_range,col=2,lty=2)"
   ]
  },
  {
   "cell_type": "markdown",
   "id": "ff58f2d2",
   "metadata": {},
   "source": [
    "INSERT_interpretation_header"
   ]
  },
  {
   "cell_type": "markdown",
   "id": "d9471fd0",
   "metadata": {},
   "source": [
    "INSERT_interpretation_text"
   ]
  },
  {
   "cell_type": "markdown",
   "id": "b01c491c",
   "metadata": {},
   "source": [
    "INSERT_full_code_header"
   ]
  },
  {
   "cell_type": "code",
   "execution_count": 7,
   "id": "967616d3",
   "metadata": {
    "vscode": {
     "languageId": "r"
    }
   },
   "outputs": [
    {
     "name": "stderr",
     "output_type": "stream",
     "text": [
      "Warning message:\n",
      "\"package 'mvtnorm' is in use and will not be installed\"\n"
     ]
    },
    {
     "data": {
      "image/png": "[encoded data removed]",
      "text/plain": [
       "Plot with title \"Variance Inner Products and p\""
      ]
     },
     "metadata": {
      "image/png": {
       "height": 420,
       "width": 420
      }
     },
     "output_type": "display_data"
    }
   ],
   "source": [
    "#| label: full_code\n",
    "\n",
    "# Install the package if you haven't already\n",
    "install.packages(\"mvtnorm\")\n",
    "\n",
    "# load library to sample from multivariate normal distribution\n",
    "library(mvtnorm)\n",
    "\n",
    "# compute average euclidean length of a matrix x (rows = samples)\n",
    "average_euclidean_length <- function(x){\n",
    "  mean(apply(x,1,norm,type=\"2\"))\n",
    "}\n",
    "\n",
    "# compute variance of euclidean lengths of a matrix x (rows = samples)\n",
    "variance_euclidean_length <- function(x){\n",
    "  var(apply(x,1,norm,type=\"2\"))\n",
    "}\n",
    "\n",
    "# compute average euclidean distances between matrices x and x2 (rows = samples)\n",
    "average_euclidean_distances <- function(x,x2){\n",
    "  z = c()\n",
    "  for (i in 1:nrow(x)){\n",
    "    z = rbind(z,x[i,]-x2)\n",
    "  }\n",
    "  mean(apply(z,1,norm,type=\"2\"))\n",
    "}\n",
    "\n",
    "# compute variance of euclidean distances between matrices x and x2 \n",
    "variance_euclidean_distances <- function(x,x2){\n",
    "  z = c()\n",
    "  for (i in 1:nrow(x)){\n",
    "    z = rbind(z,x[i,]-x2)\n",
    "  }\n",
    "  var(apply(z,1,norm,type=\"2\"))\n",
    "}\n",
    "\n",
    "# compute average inner products between matrices x and x2 (rows = samples)\n",
    "average_inner_product <- function(x,x2){\n",
    "  z = c()\n",
    "  for (i in 1:nrow(x)){\n",
    "    z = rbind(z,x2%*%x[i,])\n",
    "  }\n",
    "  mean(z)\n",
    "}\n",
    "\n",
    "# compute varaince of inner products between matrices x and x2 (rows = samples)\n",
    "variance_inner_product <- function(x,x2){\n",
    "  z = c()\n",
    "  for (i in 1:nrow(x)){\n",
    "    z = rbind(z,x2%*%x[i,])\n",
    "  }\n",
    "  var(z)\n",
    "}\n",
    "\n",
    "set.seed(5)\n",
    "\n",
    "p_range         <- 2^seq(0,10) # 1, 2, ..., 1024\n",
    "n = 100\n",
    "\n",
    "avg_eucl_length <- c()\n",
    "var_eucl_length <- c()\n",
    "avg_eucl_dist   <- c()\n",
    "var_eucl_dist   <- c()\n",
    "avg_inner_prod  <- c()\n",
    "var_inner_prod  <- c()\n",
    "\n",
    "\n",
    "for (p in p_range){\n",
    "  x               <- rmvnorm(n=n, mean=rep(0,p), sigma=diag(p))\n",
    "  x2              <- rmvnorm(n=n, mean=rep(0,p), sigma=diag(p))\n",
    "  \n",
    "  avg_eucl_length <- c(avg_eucl_length,average_euclidean_length(x))\n",
    "  var_eucl_length <- c(var_eucl_length,variance_euclidean_length(x))\n",
    "  avg_eucl_dist   <- c(avg_eucl_dist,average_euclidean_distances(x,x2))\n",
    "  var_eucl_dist   <- c(var_eucl_dist,variance_euclidean_distances(x,x2))\n",
    "  avg_inner_prod  <- c(avg_inner_prod,average_inner_product(x,x2))\n",
    "  var_inner_prod  <- c(var_inner_prod,variance_inner_product(x,x2))  \n",
    "}\n",
    "\n",
    "# compare the results visually\n",
    "par(mfrow=c(2,3))\n",
    "\n",
    "plot(p_range,avg_eucl_length,type=\"l\",main=\"Average Euclidean Length\\nand square root of p\",xlab=\"p\",ylab=\"\")\n",
    "lines(p_range,sqrt(p_range),col=2,lty=2)\n",
    "\n",
    "plot(p_range,avg_eucl_dist,type=\"l\",main=\"Average Euclidean Distances\\nand square root of (2p)\",xlab=\"p\",ylab=\"\")\n",
    "lines(p_range,sqrt(2*p_range),col=2,lty=2)\n",
    "\n",
    "plot(p_range,avg_inner_prod,type=\"l\",main=\"Average Inner Products\",xlab=\"p\",ylab=\"\")\n",
    "abline(h=0,col=2)\n",
    "\n",
    "plot(p_range,var_eucl_length,type=\"l\",main=\"Variance Euclidean Length\",xlab=\"p\",ylab=\"\",ylim=c(0,2))\n",
    "abline(h=2,col=2)\n",
    "\n",
    "plot(p_range,var_eucl_dist,type=\"l\",main=\"Variance Euclidean Distances\",xlab=\"p\",ylab=\"\",ylim=c(0,4))\n",
    "abline(h=2,col=2)\n",
    "\n",
    "plot(p_range,var_inner_prod,type=\"l\",main=\"Variance Inner Products and p\",xlab=\"p\",ylab=\"\")\n",
    "lines(p_range,p_range,col=2,lty=2)"
   ]
  }
 ],
 "metadata": {
  "kernelspec": {
   "display_name": "R",
   "language": "R",
   "name": "ir"
  },
  "language_info": {
   "codemirror_mode": "r",
   "file_extension": ".r",
   "mimetype": "text/x-r-source",
   "name": "R",
   "pygments_lexer": "r",
   "version": "4.4.1"
  }
 },
 "nbformat": 4,
 "nbformat_minor": 5
}
