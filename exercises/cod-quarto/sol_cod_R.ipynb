{
 "cells": [
  {
   "cell_type": "raw",
   "id": "bcb83aa9",
   "metadata": {
    "vscode": {
     "languageId": "raw"
    }
   },
   "source": [
    "---\n",
    "title: \"R - COD\"\n",
    "---"
   ]
  },
  {
   "cell_type": "markdown",
   "id": "972c5ee3",
   "metadata": {},
   "source": [
    "# Importing necessary libraries"
   ]
  },
  {
   "cell_type": "code",
   "execution_count": 1,
   "id": "13b97823",
   "metadata": {
    "vscode": {
     "languageId": "r"
    }
   },
   "outputs": [],
   "source": [
    "#| label: imports\n",
    "\n",
    "# Install the package if you haven't already\n",
    "# install.packages(\"mvtnorm\")\n",
    "\n",
    "# load library to sample from multivariate normal distribution\n",
    "library(mvtnorm)"
   ]
  },
  {
   "cell_type": "markdown",
   "id": "3da3b2f6",
   "metadata": {},
   "source": [
    "# Defining the functions"
   ]
  },
  {
   "cell_type": "markdown",
   "id": "2f322160",
   "metadata": {},
   "source": [
    "## Euclidean length (L2 norm) of the sampled set"
   ]
  },
  {
   "cell_type": "code",
   "execution_count": 2,
   "id": "abb99750",
   "metadata": {
    "vscode": {
     "languageId": "r"
    }
   },
   "outputs": [],
   "source": [
    "#| label: euclidean_length\n",
    "\n",
    "# compute average euclidean length of a matrix x (rows = samples)\n",
    "average_euclidean_length <- function(x){\n",
    "  mean(apply(x,1,norm,type=\"2\"))\n",
    "}\n",
    "\n",
    "# compute variance of euclidean lengths of a matrix x (rows = samples)\n",
    "variance_euclidean_length <- function(x){\n",
    "  var(apply(x,1,norm,type=\"2\"))\n",
    "}"
   ]
  },
  {
   "cell_type": "markdown",
   "id": "dca36184",
   "metadata": {
    "vscode": {
     "languageId": "r"
    }
   },
   "source": [
    "## Euclidean distance (L2 norm) between the sampled sets"
   ]
  },
  {
   "cell_type": "code",
   "execution_count": 3,
   "id": "51c96629",
   "metadata": {
    "vscode": {
     "languageId": "r"
    }
   },
   "outputs": [],
   "source": [
    "#| label: euclidean_distance\n",
    "\n",
    "# compute average euclidean distances between matrices x and x2 (rows = samples)\n",
    "average_euclidean_distances <- function(x,x2){\n",
    "  z = c()\n",
    "  for (i in 1:nrow(x)){\n",
    "    z = rbind(z,x[i,]-x2)\n",
    "  }\n",
    "  mean(apply(z,1,norm,type=\"2\"))\n",
    "}\n",
    "\n",
    "# compute variance of euclidean distances between matrices x and x2 \n",
    "variance_euclidean_distances <- function(x,x2){\n",
    "  z = c()\n",
    "  for (i in 1:nrow(x)){\n",
    "    z = rbind(z,x[i,]-x2)\n",
    "  }\n",
    "  var(apply(z,1,norm,type=\"2\"))\n",
    "}"
   ]
  },
  {
   "cell_type": "markdown",
   "id": "6c03f33f",
   "metadata": {
    "vscode": {
     "languageId": "r"
    }
   },
   "source": [
    "## Inner product between the sampled sets"
   ]
  },
  {
   "cell_type": "code",
   "execution_count": 4,
   "id": "fa3ae66a",
   "metadata": {
    "vscode": {
     "languageId": "r"
    }
   },
   "outputs": [],
   "source": [
    "#| label: inner_product\n",
    "\n",
    "# compute average inner products between matrices x and x2 (rows = samples)\n",
    "average_inner_product <- function(x,x2){\n",
    "  z = c()\n",
    "  for (i in 1:nrow(x)){\n",
    "    z = rbind(z,x2%*%x[i,])\n",
    "  }\n",
    "  mean(z)\n",
    "}\n",
    "\n",
    "# compute varaince of inner products between matrices x and x2 (rows = samples)\n",
    "variance_inner_product <- function(x,x2){\n",
    "  z = c()\n",
    "  for (i in 1:nrow(x)){\n",
    "    z = rbind(z,x2%*%x[i,])\n",
    "  }\n",
    "  var(z)\n",
    "}"
   ]
  },
  {
   "cell_type": "markdown",
   "id": "598c1da0",
   "metadata": {},
   "source": [
    "# Looping over various dimensionality options"
   ]
  },
  {
   "cell_type": "code",
   "execution_count": null,
   "id": "b5009a42",
   "metadata": {
    "vscode": {
     "languageId": "r"
    }
   },
   "outputs": [
    {
     "ename": "ERROR",
     "evalue": "Error in parse(text = input): <text>:3:13: unexpected numeric constant\n2: \n3: set.seed(5) 3\n               ^\n",
     "output_type": "error",
     "traceback": [
      "Error in parse(text = input): <text>:3:13: unexpected numeric constant\n2: \n3: set.seed(5) 3\n               ^\nTraceback:\n"
     ]
    }
   ],
   "source": [
    "#| label: loop_over_p\n",
    "\n",
    "set.seed(5) # setting seed for reproducibility\n",
    "\n",
    "p_range         <- 2^seq(0,10) # 1, 2, ..., 1024\n",
    "n = 100\n",
    "\n",
    "avg_eucl_length <- c()\n",
    "var_eucl_length <- c()\n",
    "avg_eucl_dist   <- c()\n",
    "var_eucl_dist   <- c()\n",
    "avg_inner_prod  <- c()\n",
    "var_inner_prod  <- c()\n",
    "\n",
    "\n",
    "for (p in p_range){\n",
    "  x               <- rmvnorm(n=n, mean=rep(0,p), sigma=diag(p))\n",
    "  x2              <- rmvnorm(n=n, mean=rep(0,p), sigma=diag(p))\n",
    "  \n",
    "  avg_eucl_length <- c(avg_eucl_length,average_euclidean_length(x))\n",
    "  var_eucl_length <- c(var_eucl_length,variance_euclidean_length(x))\n",
    "  avg_eucl_dist   <- c(avg_eucl_dist,average_euclidean_distances(x,x2))\n",
    "  var_eucl_dist   <- c(var_eucl_dist,variance_euclidean_distances(x,x2))\n",
    "  avg_inner_prod  <- c(avg_inner_prod,average_inner_product(x,x2))\n",
    "  var_inner_prod  <- c(var_inner_prod,variance_inner_product(x,x2))  \n",
    "}\n"
   ]
  },
  {
   "cell_type": "markdown",
   "id": "1955a8e3",
   "metadata": {},
   "source": [
    "# Visual inspection"
   ]
  },
  {
   "cell_type": "code",
   "execution_count": null,
   "id": "a930fabf",
   "metadata": {
    "vscode": {
     "languageId": "r"
    }
   },
   "outputs": [
    {
     "data": {
      "image/png": "[encoded data removed]",
      "text/plain": [
       "Plot with title \"Variance Inner Products\""
      ]
     },
     "metadata": {
      "image/png": {
       "height": 420,
       "width": 420
      }
     },
     "output_type": "display_data"
    }
   ],
   "source": [
    "#| label: plots\n",
    "\n",
    "# compare the results visually\n",
    "par(mfrow=c(2,3))\n",
    "\n",
    "plot(p_range,avg_eucl_length,type=\"l\",main=\"Average Euclidean Length\\nand square root of p\",xlab=\"p\",ylab=\"\")\n",
    "lines(p_range,sqrt(p_range),col=2,lty=2)\n",
    "\n",
    "plot(p_range,avg_eucl_dist,type=\"l\",main=\"Average Euclidean Distances\\nand square root of (2p)\",xlab=\"p\",ylab=\"\")\n",
    "lines(p_range,sqrt(2*p_range),col=2,lty=2)\n",
    "\n",
    "plot(p_range,avg_inner_prod,type=\"l\",main=\"Average Inner Products\",xlab=\"p\",ylab=\"\")\n",
    "abline(h=0,col=2)\n",
    "\n",
    "plot(p_range,var_eucl_length,type=\"l\",main=\"Variance Euclidean Length\",xlab=\"p\",ylab=\"\",ylim=c(0,2))\n",
    "abline(h=2,col=2)\n",
    "\n",
    "plot(p_range,var_eucl_dist,type=\"l\",main=\"Variance Euclidean Distances\",xlab=\"p\",ylab=\"\",ylim=c(0,4))\n",
    "abline(h=2,col=2)\n",
    "\n",
    "plot(p_range,var_inner_prod,type=\"l\",main=\"Variance Inner Products and p\",xlab=\"p\",ylab=\"\")\n",
    "lines(p_range,p_range,col=2,lty=2)\n"
   ]
  },
  {
   "cell_type": "markdown",
   "id": "755c3ed0",
   "metadata": {},
   "source": [
    "# Interpretation of plots"
   ]
  },
  {
   "cell_type": "markdown",
   "id": "692ff5d0",
   "metadata": {},
   "source": [
    "The plots confirm our results from the previous subpoints.\n",
    "1. Average Euclidean Length - matches almost perfectly with $\\sqrt{p}$, showing that as dimensionality increases, the average length of a Gaussian vector grows on the order of $\\sqrt{p}$. \n",
    "2. Variance Euclidean Length - unlike the average, the variance does not grow with dimensionality, and never exceeds 2, indicating that the distribution of lengths remains stable regardless of dimensionality.\n",
    "3. Average Euclidean distance - aligns almost exactly with $\\sqrt{2p}$, showing that as dimensionality increases, two independent Gaussian vectors move apart on the order of $\\sqrt{2p}$.\n",
    "4. Variance Euclidean distance - as we saw for the variance of the lengths, the variance of the distances does not grow with dimensionality as well and never exceeds 2.\n",
    "5. Average inner product - the average inner product is close to 0, some fluctuations still appear due to randomness, but the range of values on the y-axis is quite small.\n",
    "6. Variance inner product - unlike the other variances, the variance of the inner product grows with dimensionality (in a perfect linear way)"
   ]
  },
  {
   "cell_type": "markdown",
   "id": "3c00aac9",
   "metadata": {},
   "source": [
    "# Full code"
   ]
  },
  {
   "cell_type": "code",
   "execution_count": null,
   "id": "dd5de2fb",
   "metadata": {
    "vscode": {
     "languageId": "r"
    }
   },
   "outputs": [],
   "source": [
    "#| label: full_code\n",
    "\n",
    "# load library to sample from multivariate normal distribution\n",
    "library(mvtnorm)\n",
    "\n",
    "# compute average euclidean length of a matrix x (rows = samples)\n",
    "average_euclidean_length <- function(x){\n",
    "  mean(apply(x,1,norm,type=\"2\"))\n",
    "}\n",
    "\n",
    "# compute variance of euclidean lengths of a matrix x (rows = samples)\n",
    "variance_euclidean_length <- function(x){\n",
    "  var(apply(x,1,norm,type=\"2\"))\n",
    "}\n",
    "\n",
    "# compute average euclidean distances between matrices x and x2 (rows = samples)\n",
    "average_euclidean_distances <- function(x,x2){\n",
    "  z = c()\n",
    "  for (i in 1:nrow(x)){\n",
    "    z = rbind(z,x[i,]-x2)\n",
    "  }\n",
    "  mean(apply(z,1,norm,type=\"2\"))\n",
    "}\n",
    "\n",
    "# compute variance of euclidean distances between matrices x and x2 \n",
    "variance_euclidean_distances <- function(x,x2){\n",
    "  z = c()\n",
    "  for (i in 1:nrow(x)){\n",
    "    z = rbind(z,x[i,]-x2)\n",
    "  }\n",
    "  var(apply(z,1,norm,type=\"2\"))\n",
    "}\n",
    "\n",
    "# compute average inner products between matrices x and x2 (rows = samples)\n",
    "average_inner_product <- function(x,x2){\n",
    "  z = c()\n",
    "  for (i in 1:nrow(x)){\n",
    "    z = rbind(z,x2%*%x[i,])\n",
    "  }\n",
    "  mean(z)\n",
    "}\n",
    "\n",
    "# compute varaince of inner products between matrices x and x2 (rows = samples)\n",
    "variance_inner_product <- function(x,x2){\n",
    "  z = c()\n",
    "  for (i in 1:nrow(x)){\n",
    "    z = rbind(z,x2%*%x[i,])\n",
    "  }\n",
    "  var(z)\n",
    "}\n",
    "\n",
    "set.seed(5)\n",
    "\n",
    "p_range         <- 2^seq(0,10) # 1, 2, ..., 1024\n",
    "n = 100\n",
    "\n",
    "avg_eucl_length <- c()\n",
    "var_eucl_length <- c()\n",
    "avg_eucl_dist   <- c()\n",
    "var_eucl_dist   <- c()\n",
    "avg_inner_prod  <- c()\n",
    "var_inner_prod  <- c()\n",
    "\n",
    "\n",
    "for (p in p_range){\n",
    "  x               <- rmvnorm(n=n, mean=rep(0,p), sigma=diag(p))\n",
    "  x2              <- rmvnorm(n=n, mean=rep(0,p), sigma=diag(p))\n",
    "  \n",
    "  avg_eucl_length <- c(avg_eucl_length,average_euclidean_length(x))\n",
    "  var_eucl_length <- c(var_eucl_length,variance_euclidean_length(x))\n",
    "  avg_eucl_dist   <- c(avg_eucl_dist,average_euclidean_distances(x,x2))\n",
    "  var_eucl_dist   <- c(var_eucl_dist,variance_euclidean_distances(x,x2))\n",
    "  avg_inner_prod  <- c(avg_inner_prod,average_inner_product(x,x2))\n",
    "  var_inner_prod  <- c(var_inner_prod,variance_inner_product(x,x2))  \n",
    "}\n",
    "\n",
    "# compare the results visually\n",
    "par(mfrow=c(2,3))\n",
    "\n",
    "plot(p_range,avg_eucl_length,type=\"l\",main=\"Average Euclidean Length\\nand square root of p\",xlab=\"p\",ylab=\"\")\n",
    "lines(p_range,sqrt(p_range),col=2,lty=2)\n",
    "\n",
    "plot(p_range,avg_eucl_dist,type=\"l\",main=\"Average Euclidean Distances\\nand square root of (2p)\",xlab=\"p\",ylab=\"\")\n",
    "lines(p_range,sqrt(2*p_range),col=2,lty=2)\n",
    "\n",
    "plot(p_range,avg_inner_prod,type=\"l\",main=\"Average Inner Products\",xlab=\"p\",ylab=\"\")\n",
    "abline(h=0,col=2)\n",
    "\n",
    "plot(p_range,var_eucl_length,type=\"l\",main=\"Variance Euclidean Length\",xlab=\"p\",ylab=\"\",ylim=c(0,2))\n",
    "abline(h=2,col=2)\n",
    "\n",
    "plot(p_range,var_eucl_dist,type=\"l\",main=\"Variance Euclidean Distances\",xlab=\"p\",ylab=\"\",ylim=c(0,4))\n",
    "abline(h=2,col=2)\n",
    "\n",
    "plot(p_range,var_inner_prod,type=\"l\",main=\"Variance Inner Products and p\",xlab=\"p\",ylab=\"\")\n",
    "lines(p_range,p_range,col=2,lty=2)\n"
   ]
  }
 ],
 "metadata": {
  "kernelspec": {
   "display_name": "R",
   "language": "R",
   "name": "ir"
  },
  "language_info": {
   "codemirror_mode": "r",
   "file_extension": ".r",
   "mimetype": "text/x-r-source",
   "name": "R",
   "pygments_lexer": "r",
   "version": "4.4.1"
  }
 },
 "nbformat": 4,
 "nbformat_minor": 5
}
