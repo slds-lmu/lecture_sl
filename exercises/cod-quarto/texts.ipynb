{
 "cells": [
  {
   "cell_type": "markdown",
   "id": "c0c3a25d",
   "metadata": {},
   "source": [
    "label: colab_R_link\n",
    "https://colab.research.google.com/github/slds-lmu/lecture_sl/blob/main/exercises/cod-quarto/inserted/sol_cod_R.ipynb"
   ]
  },
  {
   "cell_type": "markdown",
   "id": "a43d5de5",
   "metadata": {},
   "source": [
    "label: colab_python_link\n",
    "https://colab.research.google.com/github/slds-lmu/lecture_sl/blob/main/exercises/cod-quarto/inserted/sol_cod_py.ipynb"
   ]
  },
  {
   "cell_type": "markdown",
   "id": "0fec1eff",
   "metadata": {},
   "source": [
    "label: exercise\n",
    "# Curse of Dimensionality Exercise\n",
    "\n",
    "In this exercise, we will explore the curse of dimensionality by analyzing the behavior of Gaussian vectors in high-dimensional spaces. We'll implement functions to calculate:\n",
    "\n",
    "1. Euclidean lengths of vectors\n",
    "2. Euclidean distances between vectors  \n",
    "3. Inner products between vectors\n",
    "\n",
    "Then we'll analyze how these measures behave as dimensionality increases."
   ]
  },
  {
   "cell_type": "markdown",
   "id": "211069f2",
   "metadata": {},
   "source": [
    "label: importing_libraries\n",
    "# Importing necessary libraries"
   ]
  },
  {
   "cell_type": "markdown",
   "id": "41ae33a9",
   "metadata": {},
   "source": [
    "label: defining_functions\n",
    "# Defining the functions"
   ]
  },
  {
   "cell_type": "markdown",
   "id": "93787aaf",
   "metadata": {},
   "source": [
    "label: euclidean_length_header\n",
    "## Euclidean length (L2 norm) of the sampled set"
   ]
  },
  {
   "cell_type": "markdown",
   "id": "ee7e3b73",
   "metadata": {},
   "source": [
    "label: euclidean_distance_header\n",
    "## Euclidean distance (L2 norm) between the sampled sets"
   ]
  },
  {
   "cell_type": "markdown",
   "id": "34362659",
   "metadata": {},
   "source": [
    "label: inner_product_header\n",
    "## Inner product between the sampled sets"
   ]
  },
  {
   "cell_type": "markdown",
   "id": "632d2c20",
   "metadata": {},
   "source": [
    "label: looping_header\n",
    "# Looping over various dimensionality options"
   ]
  },
  {
   "cell_type": "markdown",
   "id": "a64ee294",
   "metadata": {},
   "source": [
    "label: visual_inspection\n",
    "# Visual inspection"
   ]
  },
  {
   "cell_type": "markdown",
   "id": "e41b3167",
   "metadata": {},
   "source": [
    "label: interpretation_header\n",
    "# Interpretation of plots"
   ]
  },
  {
   "cell_type": "markdown",
   "id": "3e1a38cf",
   "metadata": {},
   "source": [
    "label: interpretation_text\n",
    "The plots confirm our results from the previous subpoints.\n",
    "\n",
    "1. Average Euclidean Length - matches almost perfectly with $\\sqrt{p}$, showing that as dimensionality increases, the average length of a Gaussian vector grows on the order of $\\sqrt{p}$. \n",
    "2. Variance Euclidean Length - unlike the average, the variance does not grow with dimensionality, and never exceeds 2, indicating that the distribution of lengths remains stable regardless of dimensionality.\n",
    "3. Average Euclidean distance - aligns almost exactly with $\\sqrt{2p}$, showing that as dimensionality increases, two independent Gaussian vectors move apart on the order of $\\sqrt{2p}$.\n",
    "4. Variance Euclidean distance - as we saw for the variance of the lengths, the variance of the distances does not grow with dimensionality as well and never exceeds 2.\n",
    "5. Average inner product - the average inner product is close to 0, some fluctuations still appear due to randomness, but the range of values on the y-axis is quite small.\n",
    "6. Variance inner product - unlike the other variances, the variance of the inner product grows with dimensionality (in a perfect linear way)"
   ]
  },
  {
   "cell_type": "markdown",
   "id": "c2738e69",
   "metadata": {},
   "source": [
    "label: full_code_header\n",
    "# Full code"
   ]
  }
 ],
 "metadata": {
  "language_info": {
   "name": "python"
  }
 },
 "nbformat": 4,
 "nbformat_minor": 5
}
