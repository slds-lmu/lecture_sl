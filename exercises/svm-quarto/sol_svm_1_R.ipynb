{
 "cells": [
  {
   "cell_type": "raw",
   "id": "0e6afa50",
   "metadata": {
    "vscode": {
     "languageId": "raw"
    }
   },
   "source": [
    "---\n",
    "title: \"R - SVM - Exercise 1\"\n",
    "---"
   ]
  },
  {
   "cell_type": "markdown",
   "id": "0d4d09da",
   "metadata": {},
   "source": [
    "label: colab_link\n",
    "<a href=\"INSERT_colab_R_link\" target=\"_parent\"><img src=\"https://colab.research.google.com/assets/colab-badge.svg\" alt=\"Open In Colab\"/></a>"
   ]
  },
  {
   "cell_type": "markdown",
   "id": "192f33a1",
   "metadata": {},
   "source": [
    "label: exercise\n",
    "# Exercise\n",
    "Write your own stochastic subgradient descent routine to solve the soft-margin SVM in the primal formulation.\n",
    "\n",
    "Hints:\n",
    "\n",
    "- Use the regularized-empirical-risk-minimization formulation, i.e., an optimization criterion without constraints.\n",
    "- No kernels, just a linear SVM.\n",
    "- Compare your implementation with an existing implementation (e.g., \\texttt{kernlab} in R or TODO in Pythong). Are your results similar? Note that you might have to switch off the automatic data scaling in the already existing implementation.\n"
   ]
  },
  {
   "cell_type": "code",
   "execution_count": 1,
   "id": "9a45f612",
   "metadata": {
    "vscode": {
     "languageId": "r"
    }
   },
   "outputs": [],
   "source": [
    "#| label: pegasos_implementation\n",
    "\n",
    "#' PEGASOS Algorithm for Linear SVM\n",
    "#' \n",
    "#' This function implements the PEGASOS (Primal Estimated sub-GrAdient SOlver for SVM) \n",
    "#' algorithm, which is a stochastic gradient descent method for training linear SVMs.\n",
    "#' \n",
    "#' @param y outcome vector (should be -1 or +1)\n",
    "#' @param X design matrix (including a column of 1s for the intercept)\n",
    "#' @param nr_iter number of iterations for the algorithm\n",
    "#' @param theta starting values for thetas\n",
    "#' @param lambda penalty parameter (regularization strength)\n",
    "#' @param alpha step size for weight decay\n",
    "#' @return theta vector containing the learned parameters\n",
    "\n",
    "pegasos_linear <- function(\n",
    "    y, \n",
    "    X, \n",
    "    nr_iter = 50000, \n",
    "    theta = rnorm(ncol(X)), \n",
    "    lambda = 1, \n",
    "    alpha = 0.01)\n",
    "{\n",
    "    t = 1\n",
    "    n = NROW(y)\n",
    "    \n",
    "    while(t <= nr_iter){\n",
    "        f_current = X %*% theta\n",
    "        i = sample(1:n, 1)  # randomly sample one training example\n",
    "        \n",
    "        # Weight decay step\n",
    "        theta <- (1 - lambda * alpha) * theta\n",
    "        \n",
    "        # Add gradient step if the example is within the margin\n",
    "        if(y[i] * f_current[i] < 1) {\n",
    "            theta <- theta + alpha * y[i] * X[i,]\n",
    "        }\n",
    "        t = t + 1\n",
    "    }\n",
    "    return(theta)\n",
    "}"
   ]
  },
  {
   "cell_type": "markdown",
   "id": "b67f24bd",
   "metadata": {},
   "source": [
    "label: algorithm_explanation\n",
    "\n",
    "## PEGASOS Algorithm Explanation\n",
    "\n",
    "The PEGASOS algorithm is a stochastic gradient descent method for training linear SVMs. It works by:\n",
    "\n",
    "1. **Random Sampling**: At each iteration, randomly select one training example\n",
    "2. **Weight Decay**: Apply regularization by shrinking the weight vector: `θ ← (1 - λα)θ`\n",
    "3. **Margin Check**: If the selected example is within the margin (i.e., `y_i * f(x_i) < 1`), update the weights: `θ ← θ + α * y_i * x_i`\n",
    "4. **Repeat**: Continue until convergence or maximum iterations\n",
    "\n",
    "This approach is computationally efficient and converges to the SVM solution.\n"
   ]
  },
  {
   "cell_type": "markdown",
   "id": "24a4ca7d",
   "metadata": {},
   "source": [
    "label: package_installation\n",
    "\n",
    "## Required Packages\n",
    "\n",
    "We need to install the required packages for data generation and SVM comparison:\n"
   ]
  },
  {
   "cell_type": "code",
   "execution_count": 2,
   "id": "668f06e6",
   "metadata": {
    "vscode": {
     "languageId": "r"
    }
   },
   "outputs": [
    {
     "name": "stderr",
     "output_type": "stream",
     "text": [
      "Installing packages into 'C:/Users/hayk_/AppData/Local/R/win-library/4.4'\n",
      "(as 'lib' is unspecified)\n",
      "\n"
     ]
    },
    {
     "name": "stderr",
     "output_type": "stream",
     "text": [
      "Installing packages into 'C:/Users/hayk_/AppData/Local/R/win-library/4.4'\n",
      "(as 'lib' is unspecified)\n",
      "\n"
     ]
    },
    {
     "name": "stdout",
     "output_type": "stream",
     "text": [
      "package 'mlbench' successfully unpacked and MD5 sums checked\n",
      "package 'kernlab' successfully unpacked and MD5 sums checked\n",
      "package 'kernlab' successfully unpacked and MD5 sums checked\n",
      "\n",
      "The downloaded binary packages are in\n",
      "\tC:\\Users\\hayk_\\AppData\\Local\\Temp\\RtmpQRhXbU\\downloaded_packages\n",
      "\n",
      "The downloaded binary packages are in\n",
      "\tC:\\Users\\hayk_\\AppData\\Local\\Temp\\RtmpQRhXbU\\downloaded_packages\n"
     ]
    }
   ],
   "source": [
    "#| label: install_packages\n",
    "\n",
    "# Install required packages\n",
    "install.packages(c(\"mlbench\", \"kernlab\"))"
   ]
  },
  {
   "cell_type": "markdown",
   "id": "8ba374fc",
   "metadata": {},
   "source": [
    "label: data_setup\n",
    "\n",
    "## Data Generation and Setup\n",
    "\n",
    "We'll use the `mlbench.twonorm` dataset, which generates a two-class problem with two features. This is a classic benchmark dataset for binary classification.\n"
   ]
  },
  {
   "cell_type": "code",
   "execution_count": 3,
   "id": "27e30a2a",
   "metadata": {
    "vscode": {
     "languageId": "r"
    }
   },
   "outputs": [
    {
     "name": "stderr",
     "output_type": "stream",
     "text": [
      "Warning message:\n",
      "\"package 'mlbench' was built under R version 4.4.3\"\n"
     ]
    },
    {
     "name": "stderr",
     "output_type": "stream",
     "text": [
      "Warning message:\n",
      "\"package 'mlbench' was built under R version 4.4.3\"\n"
     ]
    },
    {
     "name": "stdout",
     "output_type": "stream",
     "text": [
      "Data dimensions: 100 3 \n",
      "Feature matrix X dimensions: 100 2 \n",
      "Classes: 2 1 \n",
      "Feature matrix X dimensions: 100 2 \n",
      "Classes: 2 1 \n"
     ]
    }
   ],
   "source": [
    "#| label: data_generation\n",
    "\n",
    "# Set random seed for reproducibility\n",
    "set.seed(2L)\n",
    "\n",
    "# SVM regularization parameter (inverse of lambda)\n",
    "C = 1\n",
    "\n",
    "# Load required libraries\n",
    "library(mlbench)\n",
    "library(kernlab)\n",
    "\n",
    "# Generate two-class normal distribution data\n",
    "data = mlbench.twonorm(n = 100, d = 2)\n",
    "data = as.data.frame(data)\n",
    "\n",
    "# Extract features and target\n",
    "X = as.matrix(data[, 1:2])\n",
    "y = data$classes\n",
    "\n",
    "# Display the data structure\n",
    "cat(\"Data dimensions:\", dim(data), \"\\n\")\n",
    "cat(\"Feature matrix X dimensions:\", dim(X), \"\\n\")\n",
    "cat(\"Classes:\", unique(y), \"\\n\")\n"
   ]
  },
  {
   "cell_type": "code",
   "execution_count": null,
   "id": "0834ba7f",
   "metadata": {
    "vscode": {
     "languageId": "r"
    }
   },
   "outputs": [],
   "source": [
    "#| label: plot_data\n",
    "\n",
    "# Set plot margins for better legend placement\n",
    "par(mar = c(5, 4, 4, 6))\n",
    "\n",
    "# Create scatter plot with different symbols for each class\n",
    "plot(x = data$x.1, y = data$x.2, \n",
    "     pch = ifelse(data$classes == 1, \"-\", \"+\"), \n",
    "     col = \"black\",\n",
    "     xlab = \"x1\", ylab = \"x2\",\n",
    "     main = \"Two-Class Dataset\")\n",
    "\n",
    "# Add basic legend for classes\n",
    "legend(par('usr')[2], par('usr')[4], \n",
    "       bty = 'n', xpd = NA, \n",
    "       legend = c(\"Class 1\", \"Class 2\"), \n",
    "       pch = c(\"-\", \"+\"), \n",
    "       title = \"Classes\", \n",
    "       cex = 0.8)"
   ]
  },
  {
   "cell_type": "code",
   "execution_count": 4,
   "id": "dcd1d694",
   "metadata": {
    "vscode": {
     "languageId": "r"
    }
   },
   "outputs": [
    {
     "data": {
      "image/png": "[encoded data removed]",
      "text/plain": [
       "Plot with title \"Two-Class Dataset\""
      ]
     },
     "metadata": {
      "image/png": {
       "height": 420,
       "width": 420
      }
     },
     "output_type": "display_data"
    }
   ],
   "source": [
    "#| label: train_pegasos\n",
    "\n",
    "# Recode target variable: class \"2\" becomes +1, class \"1\" becomes -1\n",
    "y = ifelse(y == \"2\", 1, -1)\n",
    "\n",
    "# Train PEGASOS model\n",
    "# Note: lambda = 1/(C*n) where C is the SVM regularization parameter\n",
    "mod_pegasos = pegasos_linear(y, cbind(1, X), lambda = 1/(C * NROW(y)))\n",
    "\n",
    "cat(\"PEGASOS model parameters:\\n\")\n",
    "cat(\"Intercept:\", mod_pegasos[1], \"\\n\")\n",
    "cat(\"Coefficients:\", mod_pegasos[2:3], \"\\n\")"
   ]
  },
  {
   "cell_type": "code",
   "execution_count": null,
   "id": "c4faa3ef",
   "metadata": {
    "vscode": {
     "languageId": "r"
    }
   },
   "outputs": [],
   "source": [
    "#| label: plot_boundaries\n",
    "\n",
    "# Recreate the plot with both classes\n",
    "par(mar = c(5, 4, 4, 6))\n",
    "plot(x = data$x.1, y = data$x.2, \n",
    "     pch = ifelse(data$classes == 1, \"-\", \"+\"), \n",
    "     col = \"black\",\n",
    "     xlab = \"x1\", ylab = \"x2\",\n",
    "     main = \"Decision Boundaries Comparison\")\n",
    "\n",
    "# Add PEGASOS decision boundary\n",
    "# Decision boundary equation: θ₀ + θ₁x₁ + θ₂x₂ = 0\n",
    "# Rearranged: x₂ = -(θ₀ + θ₁x₁)/θ₂\n",
    "abline(a = -mod_pegasos[1] / mod_pegasos[3], \n",
    "       b = -mod_pegasos[2] / mod_pegasos[3], \n",
    "       col = \"#D55E00\", \n",
    "       lwd = 2)\n",
    "\n",
    "# Compare to logistic regression\n",
    "mod_logreg = glm(classes ~ ., data = data, family = binomial())\n",
    "abline(a = -coef(mod_logreg)[1] / coef(mod_logreg)[3], \n",
    "       b = -coef(mod_logreg)[2] / coef(mod_logreg)[3], \n",
    "       col = \"#56B4E9\", \n",
    "       lty = 3, \n",
    "       lwd = 2)"
   ]
  },
  {
   "cell_type": "code",
   "execution_count": 5,
   "id": "571c825a",
   "metadata": {
    "vscode": {
     "languageId": "r"
    }
   },
   "outputs": [
    {
     "name": "stdout",
     "output_type": "stream",
     "text": [
      "PEGASOS model parameters:\n",
      "Intercept: -0.05743352 \n",
      "Coefficients: -1.347267 -0.7917586 \n",
      "Intercept: -0.05743352 \n",
      "Coefficients: -1.347267 -0.7917586 \n"
     ]
    }
   ],
   "source": [
    "#| label: evaluate_pegasos\n",
    "\n",
    "# Compute decision values (distances from decision boundary)\n",
    "f_pegasos = cbind(1, X) %*% mod_pegasos\n",
    "\n",
    "# Check classification accuracy\n",
    "# Positive values indicate class +1, negative values indicate class -1\n",
    "predictions = sign(f_pegasos)\n",
    "correct_classifications = sum(predictions == y)\n",
    "accuracy = correct_classifications / length(y)\n",
    "\n",
    "cat(\"PEGASOS Classification Results:\\n\")\n",
    "cat(\"Correct classifications:\", correct_classifications, \"out of\", length(y), \"\\n\")\n",
    "cat(\"Accuracy:\", round(accuracy * 100, 2), \"%\\n\")\n",
    "\n",
    "# Display confusion matrix (sign of decision values vs true labels)\n",
    "cat(\"\\nConfusion Matrix (decision sign vs true labels):\\n\")\n",
    "print(table(sign(f_pegasos * y)))"
   ]
  },
  {
   "cell_type": "code",
   "execution_count": null,
   "id": "22abb1e7",
   "metadata": {
    "vscode": {
     "languageId": "r"
    }
   },
   "outputs": [],
   "source": [
    "#| label: train_kernlab\n",
    "\n",
    "# Train kernlab SVM with linear kernel\n",
    "# Note: we cannot expect a PERFECT match due to different optimization approaches\n",
    "mod_kernlab = ksvm(classes ~ ., \n",
    "                   data = data, \n",
    "                   kernel = \"vanilladot\",  # linear kernel\n",
    "                   C = C, \n",
    "                   kpar = list(), \n",
    "                   scaled = FALSE)\n",
    "\n",
    "# Get decision values from kernlab\n",
    "f_kernlab = predict(mod_kernlab, newdata = data, type = \"decision\")\n",
    "\n",
    "cat(\"kernlab SVM Classification Results:\\n\")\n",
    "kernlab_correct = sum(sign(f_kernlab) == y)\n",
    "kernlab_accuracy = kernlab_correct / length(y)\n",
    "cat(\"Correct classifications:\", kernlab_correct, \"out of\", length(y), \"\\n\")\n",
    "cat(\"Accuracy:\", round(kernlab_accuracy * 100, 2), \"%\\n\")\n",
    "\n",
    "# Display confusion matrix for kernlab\n",
    "cat(\"\\nkernlab Confusion Matrix:\\n\")\n",
    "print(table(sign(f_kernlab * y)))"
   ]
  },
  {
   "cell_type": "code",
   "execution_count": 6,
   "id": "e3837042",
   "metadata": {
    "vscode": {
     "languageId": "r"
    }
   },
   "outputs": [
    {
     "data": {
      "image/png": "[encoded data removed]",
      "text/plain": [
       "Plot with title \"Decision Boundaries Comparison\""
      ]
     },
     "metadata": {
      "image/png": {
       "height": 420,
       "width": 420
      }
     },
     "output_type": "display_data"
    }
   ],
   "source": [
    "#| label: compare_models\n",
    "\n",
    "# Compare decision values between models\n",
    "decision_diff = abs(f_kernlab - f_pegasos)\n",
    "cat(\"Decision Values Comparison:\\n\")\n",
    "cat(\"Range of absolute differences:\", range(decision_diff), \"\\n\")\n",
    "cat(\"Mean absolute difference:\", mean(decision_diff), \"\\n\")\n",
    "\n",
    "# Extract and compare model coefficients\n",
    "# For kernlab: coefficients are computed from support vectors\n",
    "kernlab_params = c(\n",
    "  -mod_kernlab@b,  # intercept (note: kernlab uses negative offset)\n",
    "  colSums(X[mod_kernlab@SVindex, ] * \n",
    "          mod_kernlab@alpha[[1]] * \n",
    "          y[mod_kernlab@SVindex])  # weighted sum of support vectors\n",
    ")\n",
    "\n",
    "# Combine parameters for comparison\n",
    "all_params = rbind(\n",
    "  PEGASOS = mod_pegasos,\n",
    "  kernlab = kernlab_params\n",
    ")\n",
    "\n",
    "cat(\"\\nModel Parameters Comparison:\\n\")\n",
    "colnames(all_params) = c(\"Intercept\", \"Coeff_x1\", \"Coeff_x2\")\n",
    "print(all_params)\n",
    "\n",
    "cat(\"\\nParameter differences:\\n\")\n",
    "param_diff = abs(all_params[1,] - all_params[2,])\n",
    "print(param_diff)"
   ]
  },
  {
   "cell_type": "code",
   "execution_count": null,
   "id": "59657f42",
   "metadata": {
    "vscode": {
     "languageId": "r"
    }
   },
   "outputs": [],
   "source": [
    "#| label: calculate_risk\n",
    "\n",
    "# Define empirical risk function for SVM\n",
    "# Risk = 0.5 * ||w||² + C * Σ max(0, 1 - y_i * f(x_i))\n",
    "emp_risk <- function(theta) {\n",
    "    f = cbind(1, X) %*% theta\n",
    "    return(0.5 * sum(theta[2:3]^2) + C*sum(ifelse(f > 0, f, 0)))\n",
    "}\n",
    "\n",
    "# Calculate empirical risk for both models\n",
    "risks = apply(all_params, 1, emp_risk)\n",
    "cat(\"Empirical Risk Comparison:\\n\")\n",
    "cat(\"PEGASOS risk:\", round(risks[1], 4), \"\\n\")\n",
    "cat(\"kernlab risk:\", round(risks[2], 4), \"\\n\")\n",
    "cat(\"Risk difference:\", round(abs(risks[1] - risks[2]), 4), \"\\n\")"
   ]
  },
  {
   "cell_type": "code",
   "execution_count": null,
   "id": "f0a3509f",
   "metadata": {
    "vscode": {
     "languageId": "r"
    }
   },
   "outputs": [],
   "source": [
    "#| label: plot_margins\n",
    "\n",
    "# Use kernlab parameters for margin visualization\n",
    "params = all_params[2,]  # kernlab parameters\n",
    "\n",
    "# Calculate margin width\n",
    "# Margin = 1 / ||w|| where w are the feature coefficients (excluding intercept)\n",
    "margin = 1 / sqrt(sum(params[2:3]^2))\n",
    "\n",
    "# Calculate margin boundaries\n",
    "# The margin lines are parallel to the decision boundary\n",
    "# Slope of decision boundary\n",
    "m = -params[2] / params[3]\n",
    "\n",
    "# Transform margin width to intercept shift\n",
    "# (margin shift is orthogonal to decision boundary)\n",
    "t_0 = margin / (cos(atan(m)))\n",
    "\n"
   ]
  },
  {
   "cell_type": "code",
   "execution_count": 26,
   "id": "6c705b6e",
   "metadata": {
    "vscode": {
     "languageId": "r"
    }
   },
   "outputs": [
    {
     "name": "stdout",
     "output_type": "stream",
     "text": [
      "Support Vector Information:\n",
      "Total support vectors: 12 \n",
      "Support vectors on margin: 4 \n",
      "Margin width: 0.675 \n"
     ]
    }
   ],
   "source": [
    "#| label: plot_support_vectors\n",
    "\n",
    "# Find support vectors on decision boundary\n",
    "# Support vectors have decision values close to ±1\n",
    "sv_tolerance = 0.02  # tolerance for identifying support vectors on boundary\n",
    "nv_sv_idx = abs(abs(f_kernlab[mod_kernlab@SVindex]) - 1) < sv_tolerance\n",
    "\n",
    "\n",
    "cat(\"Support Vector Information:\\n\")\n",
    "cat(\"Total support vectors:\", length(mod_kernlab@SVindex), \"\\n\")\n",
    "cat(\"Support vectors on margin:\", sum(nv_sv_idx), \"\\n\")\n",
    "cat(\"Margin width:\", round(margin, 3), \"\\n\")\n",
    "\n",
    "\n"
   ]
  },
  {
   "cell_type": "code",
   "execution_count": 29,
   "id": "d276a38c",
   "metadata": {
    "vscode": {
     "languageId": "r"
    }
   },
   "outputs": [
    {
     "data": {
      "image/png": "[encoded data removed]",
      "text/plain": [
       "Plot with title \"SVM with Margins and Support Vectors\""
      ]
     },
     "metadata": {
      "image/png": {
       "height": 420,
       "width": 420
      }
     },
     "output_type": "display_data"
    }
   ],
   "source": [
    "# Recreate the complete visualization\n",
    "par(mar = c(5, 4, 4, 6))\n",
    "plot(x = data$x.1, y = data$x.2, \n",
    "     pch = ifelse(data$classes == 1, \"-\", \"+\"), \n",
    "     col = \"black\",\n",
    "     xlab = \"x1\", ylab = \"x2\",\n",
    "     main = \"SVM with Margins and Support Vectors\")\n",
    "\n",
    "# Add PEGASOS decision boundary\n",
    "abline(a = -mod_pegasos[1] / mod_pegasos[3], \n",
    "       b = -mod_pegasos[2] / mod_pegasos[3], \n",
    "       col = \"#D55E00\", \n",
    "       lwd = 2)\n",
    "\n",
    "# Add logistic regression boundary\n",
    "abline(a = -coef(mod_logreg)[1] / coef(mod_logreg)[3], \n",
    "       b = -coef(mod_logreg)[2] / coef(mod_logreg)[3], \n",
    "       col = \"#56B4E9\", \n",
    "       lty = 3, \n",
    "       lwd = 2)\n",
    "\n",
    "# Add kernlab decision boundary\n",
    "abline(a = -params[1] / params[3], \n",
    "       b = m, \n",
    "       col = \"#0072B2\", \n",
    "       lwd = 2)\n",
    "\n",
    "# Add margin boundaries\n",
    "abline(a = -params[1] / params[3] + t_0, \n",
    "       b = m, \n",
    "       col = \"#0072B2\", \n",
    "       lty = 2)\n",
    "abline(a = -params[1] / params[3] - t_0, \n",
    "       b = m, \n",
    "       col = \"#0072B2\", \n",
    "       lty = 2)\n",
    "\n",
    "points(X[mod_kernlab@SVindex[nv_sv_idx],])\n",
    "\n",
    "\n",
    "# add legends\n",
    "legend(par('usr')[2], par('usr')[4], , bty='n', xpd=NA, legend=c(\"1\",\"2\"), \n",
    "       pch=c(\"-\",\"+\"), title=\"Classes\", cex = 0.8)\n",
    "legend(par('usr')[2], 1.8, , bty='n', xpd=NA, \n",
    "       legend=c(\"Pegasos\",\"Logistic\",\"Kernlab\",\"Margin\"), \n",
    "       lty=c(1,3,1,2), \n",
    "       col = c(\"#D55E00\",\"#56B4E9\",\"#0072B2\",\"#0072B2\"), \n",
    "       title=\"\", cex = 0.8, lwd = c(1,2,1,1))"
   ]
  },
  {
   "cell_type": "markdown",
   "id": "44a60d48",
   "metadata": {},
   "source": [
    "label: summary\n",
    "\n",
    "## Summary and Conclusions\n",
    "\n",
    "This exercise demonstrated the implementation and evaluation of the PEGASOS algorithm for linear SVM classification. Key findings:\n",
    "\n",
    "### Algorithm Performance\n",
    "- **PEGASOS** provides a fast, stochastic approach to SVM training\n",
    "- **Classification accuracy** is comparable to established SVM implementations\n",
    "- **Convergence** is achieved efficiently through stochastic gradient descent\n",
    "\n",
    "### Model Comparison\n",
    "- **PEGASOS vs kernlab**: Similar decision boundaries and classification performance\n",
    "- **Parameter similarity**: Close agreement between learned coefficients\n",
    "- **Empirical risk**: Both models achieve similar objective function values\n",
    "\n",
    "### Visualization Insights\n",
    "- **Decision boundaries**: Clear separation between classes\n",
    "- **Support vectors**: Identified points that define the margin\n",
    "- **Margin visualization**: Shows the geometric interpretation of SVM optimization\n",
    "\n",
    "### Practical Considerations\n",
    "- PEGASOS is particularly useful for large datasets due to its stochastic nature\n",
    "- The algorithm provides a good balance between computational efficiency and accuracy\n",
    "- Hyperparameter tuning (learning rate, regularization) affects convergence and performance\n",
    "\n",
    "This implementation serves as a foundation for understanding SVM optimization and can be extended to handle kernel methods and larger-scale problems.\n"
   ]
  },
  {
   "cell_type": "code",
   "execution_count": 18,
   "id": "f31a0963",
   "metadata": {
    "vscode": {
     "languageId": "r"
    }
   },
   "outputs": [
    {
     "name": "stdout",
     "output_type": "stream",
     "text": [
      "Decision Values Comparison:\n",
      "Range of absolute differences: 0.00014996 0.3804974 \n",
      "Mean absolute difference: 0.1469776 \n",
      "\n",
      "Model Parameters Comparison:\n",
      "          Intercept  Coeff_x1   Coeff_x2\n",
      "PEGASOS -0.05743352 -1.347267 -0.7917586\n",
      "kernlab -0.09763532 -1.263707 -0.7747026\n",
      "Range of absolute differences: 0.00014996 0.3804974 \n",
      "Mean absolute difference: 0.1469776 \n",
      "\n",
      "Model Parameters Comparison:\n",
      "          Intercept  Coeff_x1   Coeff_x2\n",
      "PEGASOS -0.05743352 -1.347267 -0.7917586\n",
      "kernlab -0.09763532 -1.263707 -0.7747026\n",
      "\n",
      "Parameter differences:\n",
      " Intercept   Coeff_x1   Coeff_x2 \n",
      "0.04020180 0.08356038 0.01705603 \n",
      "\n",
      "Parameter differences:\n",
      " Intercept   Coeff_x1   Coeff_x2 \n",
      "0.04020180 0.08356038 0.01705603 \n"
     ]
    }
   ],
   "source": [
    "#| label: cleanup\n",
    "\n",
    "# Reset plot parameters\n",
    "par(mar = c(5, 4, 4, 2) + 0.1)\n"
   ]
  },
  {
   "cell_type": "code",
   "execution_count": 9,
   "id": "da9c1472",
   "metadata": {
    "vscode": {
     "languageId": "r"
    }
   },
   "outputs": [
    {
     "name": "stdout",
     "output_type": "stream",
     "text": [
      "Decision Values Comparison:\n",
      "Range of absolute differences: 0.00014996 0.3804974 \n",
      "Mean absolute difference: 0.1469776 \n",
      "\n",
      "Model Parameters Comparison:\n",
      "Range of absolute differences: 0.00014996 0.3804974 \n",
      "Mean absolute difference: 0.1469776 \n",
      "\n",
      "Model Parameters Comparison:\n",
      "          Intercept  Coeff_x1   Coeff_x2\n",
      "PEGASOS -0.05743352 -1.347267 -0.7917586\n",
      "kernlab -0.09763532 -1.263707 -0.7747026\n",
      "\n",
      "Parameter differences:\n",
      " Intercept   Coeff_x1   Coeff_x2 \n",
      "0.04020180 0.08356038 0.01705603 \n",
      "          Intercept  Coeff_x1   Coeff_x2\n",
      "PEGASOS -0.05743352 -1.347267 -0.7917586\n",
      "kernlab -0.09763532 -1.263707 -0.7747026\n",
      "\n",
      "Parameter differences:\n",
      " Intercept   Coeff_x1   Coeff_x2 \n",
      "0.04020180 0.08356038 0.01705603 \n"
     ]
    }
   ],
   "source": []
  }
 ],
 "metadata": {
  "kernelspec": {
   "display_name": "R",
   "language": "R",
   "name": "ir"
  },
  "language_info": {
   "codemirror_mode": "r",
   "file_extension": ".r",
   "mimetype": "text/x-r-source",
   "name": "R",
   "pygments_lexer": "r",
   "version": "4.4.1"
  }
 },
 "nbformat": 4,
 "nbformat_minor": 5
}
