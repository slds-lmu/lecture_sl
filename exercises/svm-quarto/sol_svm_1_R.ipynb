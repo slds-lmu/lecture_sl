{
 "cells": [
  {
   "cell_type": "raw",
   "id": "0e6afa50",
   "metadata": {
    "vscode": {
     "languageId": "raw"
    }
   },
   "source": [
    "---\n",
    "title: \"R - SVM - Exercise 1\"\n",
    "---"
   ]
  },
  {
   "cell_type": "markdown",
   "id": "0d4d09da",
   "metadata": {},
   "source": [
    "<a href=\"INSERT_colab_R_link\" target=\"_parent\"><img src=\"https://colab.research.google.com/assets/colab-badge.svg\" alt=\"Open In Colab\"/></a>"
   ]
  },
  {
   "cell_type": "markdown",
   "id": "192f33a1",
   "metadata": {},
   "source": [
    "label: exercise\n",
    "# Exercise\n",
    "Write your own stochastic subgradient descent routine to solve the soft-margin SVM in the primal formulation.\n",
    "\n",
    "Hints:\n",
    "\n",
    "- Use the regularized-empirical-risk-minimization formulation, i.e., an optimization criterion without constraints.\n",
    "- No kernels, just a linear SVM.\n",
    "- Compare your implementation with an existing implementation (e.g., `kernlab` in R or `sklearn.svm.SVC` in Pythong). Are your results similar? Note that you might have to switch off the automatic data scaling in the already existing implementation.\n"
   ]
  },
  {
   "cell_type": "markdown",
   "id": "2d468a7e",
   "metadata": {},
   "source": [
    "label: import_and_globals\n",
    "## Imports and global variables"
   ]
  },
  {
   "cell_type": "code",
   "execution_count": null,
   "id": "b9df1bda",
   "metadata": {
    "vscode": {
     "languageId": "r"
    }
   },
   "outputs": [
    {
     "name": "stderr",
     "output_type": "stream",
     "text": [
      "Warning message:\n",
      "\"package 'mlbench' was built under R version 4.4.3\"\n"
     ]
    }
   ],
   "source": [
    "#| label: import_and_globals\n",
    "\n",
    "# You may need to first run:\n",
    "# install.packages(c(\"mlbench\", \"kernlab\"))\n",
    "\n",
    "library(mlbench)\n",
    "library(kernlab)\n",
    "\n",
    "# SVM regularization parameter (inverse of lambda)\n",
    "C = 1\n",
    "\n",
    "set.seed(2L) #  for reproducibility"
   ]
  },
  {
   "cell_type": "markdown",
   "id": "b67f24bd",
   "metadata": {},
   "source": [
    "label: algorithm_explanation\n",
    "\n",
    "# PEGASOS Algorithm Explanation\n",
    "\n",
    "The PEGASOS algorithm is a stochastic gradient descent method for training linear SVMs. It works by:\n",
    "\n",
    "1. **Random Sampling**: At each iteration, randomly select one training example\n",
    "2. **Weight Decay**: Apply regularization by shrinking the weight vector: `θ ← (1 - λα)θ`\n",
    "3. **Margin Check**: If the selected example is within the margin (i.e., `y_i * f(x_i) < 1`), update the weights: `θ ← θ + α * y_i * x_i`\n",
    "4. **Repeat**: Continue until convergence or maximum iterations\n",
    "\n",
    "More details can be found in the [i2ml chapter on linear SVMs](https://slds-lmu.github.io/i2ml/chapters/16_linear_svm/16-05-optimization)\n"
   ]
  },
  {
   "cell_type": "code",
   "execution_count": 1,
   "id": "9a45f612",
   "metadata": {
    "vscode": {
     "languageId": "r"
    }
   },
   "outputs": [],
   "source": [
    "#| label: pegasos_implementation\n",
    "\n",
    "#' PEGASOS Algorithm for Linear SVM\n",
    "#' \n",
    "#' This function implements the PEGASOS (Primal Estimated sub-GrAdient SOlver for SVM) \n",
    "#' algorithm, which is a stochastic gradient descent method for training linear SVMs.\n",
    "#' \n",
    "#' For more details, see https://slds-lmu.github.io/i2ml/chapters/16_linear_svm/16-05-optimization\n",
    "#'\n",
    "#' @param y outcome vector (should be -1 or +1)\n",
    "#' @param X design matrix (including a column of 1s for the intercept)\n",
    "#' @param nr_iter number of iterations for the algorithm\n",
    "#' @param theta starting values for thetas\n",
    "#' @param lambda penalty parameter (regularization strength)\n",
    "#' @param alpha step size for weight decay\n",
    "#' @return theta vector containing the learned parameters\n",
    "\n",
    "pegasos_linear <- function(\n",
    "    y, \n",
    "    X, \n",
    "    nr_iter = 50000, \n",
    "    theta = rnorm(ncol(X)), \n",
    "    lambda = 1, \n",
    "    alpha = 0.01)\n",
    "{\n",
    "    t = 1\n",
    "    n = NROW(y)\n",
    "    \n",
    "    while(t <= nr_iter){\n",
    "        f_current = X %*% theta\n",
    "        i = sample(1:n, 1)  # randomly sample one training example\n",
    "        \n",
    "        # Weight decay step\n",
    "        theta <- (1 - lambda * alpha) * theta\n",
    "        \n",
    "        # Add gradient step if the example is within the margin\n",
    "        if(y[i] * f_current[i] < 1) {\n",
    "            theta <- theta + alpha * y[i] * X[i,]\n",
    "        }\n",
    "        t = t + 1\n",
    "    }\n",
    "    return(theta)\n",
    "}"
   ]
  },
  {
   "cell_type": "markdown",
   "id": "8ba374fc",
   "metadata": {},
   "source": [
    "label: data_setup\n",
    "\n",
    "## Data Generation and Setup\n",
    "\n",
    "For R we'll use the `mlbench.twonorm` dataset, which generates a two-class problem with two features. This is a classic benchmark dataset for binary classification.\n",
    "\n",
    "For Python, we can use `sklearn.datasets.make_classification` to generate a similar dataset."
   ]
  },
  {
   "cell_type": "code",
   "execution_count": 3,
   "id": "27e30a2a",
   "metadata": {
    "vscode": {
     "languageId": "r"
    }
   },
   "outputs": [
    {
     "name": "stdout",
     "output_type": "stream",
     "text": [
      "Data dimensions: 100 3 \n",
      "Feature matrix X dimensions: 100 2 \n",
      "Classes: 2 1"
     ]
    }
   ],
   "source": [
    "#| label: data_generation\n",
    "# 2-class normal distribution data\n",
    "data = mlbench.twonorm(n = 100, d = 2)\n",
    "data = as.data.frame(data)\n",
    "\n",
    "# Extract features and target\n",
    "X = as.matrix(data[, 1:2])\n",
    "y = data$classes\n",
    "\n",
    "# Display the data structure\n",
    "cat(\"Data dimensions:\", dim(data), \"\\n\")\n",
    "cat(\"Feature matrix X dimensions:\", dim(X), \"\\n\")\n",
    "cat(\"Classes:\", unique(y)) # we will need to convert them to -1 and +1 later"
   ]
  },
  {
   "cell_type": "markdown",
   "id": "45135490",
   "metadata": {},
   "source": [
    "label: visual_inspection\n",
    "# Visual Inspection of the Data\n",
    "\n",
    "We can see that the data is mostly linearly separable, but there are some points that are close to the decision boundary."
   ]
  },
  {
   "cell_type": "code",
   "execution_count": 4,
   "id": "0834ba7f",
   "metadata": {
    "vscode": {
     "languageId": "r"
    }
   },
   "outputs": [
    {
     "data": {
      "image/png": "[encoded data removed]",
      "text/plain": [
       "Plot with title \"Two-Class Dataset\""
      ]
     },
     "metadata": {
      "image/png": {
       "height": 420,
       "width": 420
      }
     },
     "output_type": "display_data"
    }
   ],
   "source": [
    "#| label: plot_data\n",
    "\n",
    "par(mar = c(5, 4, 4, 6))\n",
    "\n",
    "plot(x = data$x.1, y = data$x.2, \n",
    "     pch = ifelse(data$classes == 1, \"-\", \"+\"), \n",
    "     col = \"black\",\n",
    "     xlab = \"x1\", ylab = \"x2\",\n",
    "     main = \"Two-Class Dataset\")\n",
    "\n",
    "legend(par('usr')[2], par('usr')[4], \n",
    "       bty = 'n', xpd = NA, \n",
    "       legend = c(\"Class 1\", \"Class 2\"), \n",
    "       pch = c(\"-\", \"+\"), \n",
    "       title = \"Classes\")"
   ]
  },
  {
   "cell_type": "markdown",
   "id": "63bfa541",
   "metadata": {},
   "source": [
    "label: train_pegasos\n",
    "# Training the PEGASOS Algorithm"
   ]
  },
  {
   "cell_type": "code",
   "execution_count": 5,
   "id": "dcd1d694",
   "metadata": {
    "vscode": {
     "languageId": "r"
    }
   },
   "outputs": [
    {
     "name": "stdout",
     "output_type": "stream",
     "text": [
      "PEGASOS model parameters:\n",
      "Intercept: -0.05743352 \n",
      "Coefficients: -1.347267 -0.7917586 \n"
     ]
    }
   ],
   "source": [
    "#| label: train_pegasos\n",
    "\n",
    "# Recode target variable: class \"2\" becomes +1, class \"1\" becomes -1\n",
    "y = ifelse(y == \"2\", 1, -1)\n",
    "\n",
    "# Train PEGASOS model\n",
    "# Note: lambda = 1/(C*n) where C is the SVM regularization parameter\n",
    "model_pegasos = pegasos_linear(y, cbind(1, X), lambda = 1/(C * NROW(y)))\n",
    "\n",
    "cat(\"PEGASOS model parameters:\\n\")\n",
    "cat(\"Intercept:\", model_pegasos[1], \"\\n\")\n",
    "cat(\"Coefficients:\", model_pegasos[2:3], \"\\n\")"
   ]
  },
  {
   "cell_type": "markdown",
   "id": "aa538f54",
   "metadata": {},
   "source": [
    "label: decision_boundaries\n",
    "# Decision Boundaries Visualization\n",
    "\n",
    "Now we'll use the trained model to visualize the decision boundaries. Additionally, for comparison we will also fit a Logistic Regression model and visualize its decision boundary as well."
   ]
  },
  {
   "cell_type": "code",
   "execution_count": null,
   "id": "c4faa3ef",
   "metadata": {
    "vscode": {
     "languageId": "r"
    }
   },
   "outputs": [
    {
     "data": {
      "image/png": "[encoded data removed]",
      "text/plain": [
       "Plot with title \"Decision Boundaries Comparison\""
      ]
     },
     "metadata": {
      "image/png": {
       "height": 420,
       "width": 420
      }
     },
     "output_type": "display_data"
    }
   ],
   "source": [
    "#| label: plot_boundaries\n",
    "\n",
    "# Recreate the plot with both classes\n",
    "par(mar = c(5, 4, 4, 6))\n",
    "plot(x = data$x.1, y = data$x.2, \n",
    "     pch = ifelse(data$classes == 1, \"-\", \"+\"), \n",
    "     col = \"black\",\n",
    "     xlab = \"x1\", ylab = \"x2\",\n",
    "     main = \"Decision Boundaries Comparison\")\n",
    "\n",
    "# Add PEGASOS decision boundary\n",
    "# Decision boundary equation: θ₀ + θ₁x₁ + θ₂x₂ = 0\n",
    "# Rearranged: x₂ = -(θ₀ + θ₁x₁)/θ₂\n",
    "abline(a = -model_pegasos[1] / model_pegasos[3], \n",
    "       b = -model_pegasos[2] / model_pegasos[3], \n",
    "       col = \"#D55E00\", lwd = 2)\n",
    "\n",
    "# Compare to logistic regression\n",
    "model_logreg = glm(classes ~ ., data = data, family = binomial())\n",
    "abline(a = -coef(model_logreg)[1] / coef(model_logreg)[3], \n",
    "       b = -coef(model_logreg)[2] / coef(model_logreg)[3], \n",
    "       col = \"#0800ffff\", lty = 3, lwd = 2)\n",
    "\n",
    "\n",
    "legend(\"topleft\",\n",
    "       title  = \"Models\",\n",
    "       legend = c(\"PEGASOS\", \"Logistic\"),\n",
    "       lty    = c(1, 3),\n",
    "       lwd    = c(2, 2),\n",
    "       col    = c(\"#D55E00\", \"#0800ffff\")\n",
    "    )"
   ]
  },
  {
   "cell_type": "markdown",
   "id": "cd7251c4",
   "metadata": {},
   "source": [
    "label: evaluation\n",
    "\n",
    "# Evaluating the PEGASOS Model\n",
    "\n",
    "We'll compute the accuracy and the confusion matrix. In practice, other metrics should be also considered, e.g. precision, recall, F1-score (threshold dependent); ROC AUC, PR AUC (threshold independent)."
   ]
  },
  {
   "cell_type": "code",
   "execution_count": 10,
   "id": "571c825a",
   "metadata": {
    "vscode": {
     "languageId": "r"
    }
   },
   "outputs": [
    {
     "name": "stdout",
     "output_type": "stream",
     "text": [
      "PEGASOS Classification Results:\n",
      "Accuracy: 95 %\n"
     ]
    },
    {
     "name": "stdout",
     "output_type": "stream",
     "text": [
      "\n",
      "Confusion Matrix (decision sign vs true labels):\n",
      "\n",
      "-1  1 \n",
      " 5 95 \n"
     ]
    }
   ],
   "source": [
    "#| label: evaluate_pegasos\n",
    "\n",
    "# Compute decision values (distances from decision boundary)\n",
    "f_pegasos = cbind(1, X) %*% model_pegasos # we add a column of 1s for the intercept\n",
    "\n",
    "# Check classification accuracy\n",
    "# Positive values indicate class +1, negative values indicate class -1\n",
    "predictions = sign(f_pegasos)\n",
    "accuracy = sum(predictions == y) / length(y)\n",
    "\n",
    "cat(\"PEGASOS Classification Results:\\n\")\n",
    "cat(\"Accuracy:\", round(accuracy * 100, 2), \"%\\n\")\n",
    "\n",
    "# Display confusion matrix (sign of decision values vs true labels)\n",
    "cat(\"\\nConfusion Matrix (decision sign vs true labels):\\n\")\n",
    "print(table(sign(f_pegasos * y)))"
   ]
  },
  {
   "cell_type": "markdown",
   "id": "2ffe9368",
   "metadata": {},
   "source": [
    "label: kernellab_or_sklearn\n",
    "# Using `kernlab` (R) or `sklearn.svm.SVC` (Python) for Comparison\n",
    "\n",
    "Accuracy is identical"
   ]
  },
  {
   "cell_type": "code",
   "execution_count": null,
   "id": "22abb1e7",
   "metadata": {
    "vscode": {
     "languageId": "r"
    }
   },
   "outputs": [
    {
     "name": "stdout",
     "output_type": "stream",
     "text": [
      "kernlab SVM Classification Results:\n",
      "Accuracy: 95 %\n",
      "\n",
      "kernlab Confusion Matrix:\n",
      "\n",
      "-1  1 \n",
      " 5 95 \n"
     ]
    }
   ],
   "source": [
    "#| label: train_kernlab_or_sklearn\n",
    "\n",
    "# Train kernlab SVM with linear kernel\n",
    "# Note: we cannot expect a PERFECT match due to different optimization approaches\n",
    "model_kernlab = ksvm(classes ~ ., \n",
    "                   data = data, \n",
    "                   kernel = \"vanilladot\",  # linear kernel\n",
    "                   C = C, \n",
    "                   kpar = list(), \n",
    "                   scaled = FALSE)\n",
    "\n",
    "# Get decision values from kernlab\n",
    "f_kernlab = predict(model_kernlab, newdata = data, type = \"decision\")\n",
    "\n",
    "cat(\"kernlab SVM Classification Results:\\n\")\n",
    "kernlab_correct = sum(sign(f_kernlab) == y)\n",
    "kernlab_accuracy = kernlab_correct / length(y)\n",
    "cat(\"Accuracy:\", round(kernlab_accuracy * 100, 2), \"%\\n\")\n",
    "\n",
    "# Display confusion matrix for kernlab\n",
    "cat(\"\\nkernlab Confusion Matrix:\\n\")\n",
    "print(table(sign(f_kernlab * y)))"
   ]
  },
  {
   "cell_type": "markdown",
   "id": "577a9393",
   "metadata": {},
   "source": [
    "label: comparison_coefs\n",
    "## Comparison of Model Coefficients\n",
    "\n",
    "We can see that both the predictions and coefficients are almost identical."
   ]
  },
  {
   "cell_type": "code",
   "execution_count": null,
   "id": "e3837042",
   "metadata": {
    "vscode": {
     "languageId": "r"
    }
   },
   "outputs": [
    {
     "name": "stdout",
     "output_type": "stream",
     "text": [
      "Decision Values Comparison:\n",
      "Range of absolute differences: 0.00014996 0.3804974 \n",
      "Mean absolute difference: 0.1469776 \n",
      "\n",
      "Model Parameters Comparison:\n",
      "          Intercept  Coeff_x1   Coeff_x2\n",
      "PEGASOS -0.05743352 -1.347267 -0.7917586\n",
      "kernlab -0.09763532 -1.263707 -0.7747026\n",
      "\n",
      "Parameter differences:\n",
      " Intercept   Coeff_x1   Coeff_x2 \n",
      "0.04020180 0.08356038 0.01705603 \n"
     ]
    }
   ],
   "source": [
    "#| label: compare_models\n",
    "\n",
    "# Compare decision values between models\n",
    "decision_diff = abs(f_kernlab - f_pegasos)\n",
    "cat(\"Decision Values Comparison:\\n\")\n",
    "cat(\"Range of absolute differences:\", range(decision_diff), \"\\n\")\n",
    "cat(\"Mean absolute difference:\", mean(decision_diff), \"\\n\")\n",
    "\n",
    "# Extract and compare model coefficients\n",
    "# For kernlab: coefficients are computed from support vectors\n",
    "kernlab_params = c(\n",
    "  -model_kernlab@b,  # intercept (note: kernlab uses negative offset)\n",
    "  colSums(X[model_kernlab@SVindex, ] * \n",
    "          model_kernlab@alpha[[1]] * \n",
    "          y[model_kernlab@SVindex])  # weighted sum of support vectors\n",
    ")\n",
    "\n",
    "# Combine parameters for comparison\n",
    "all_params = rbind(\n",
    "  PEGASOS = model_pegasos,\n",
    "  kernlab = kernlab_params\n",
    ")\n",
    "\n",
    "cat(\"\\nModel Parameters Comparison:\\n\")\n",
    "colnames(all_params) = c(\"Intercept\", \"Coeff_x1\", \"Coeff_x2\")\n",
    "print(all_params)\n",
    "\n",
    "cat(\"\\nParameter differences:\\n\")\n",
    "param_diff = abs(all_params[1,] - all_params[2,])\n",
    "print(param_diff)"
   ]
  },
  {
   "cell_type": "markdown",
   "id": "081af009",
   "metadata": {},
   "source": [
    "label: emp_risk_comparions\n",
    "## Comparison of empirical risks"
   ]
  },
  {
   "cell_type": "code",
   "execution_count": null,
   "id": "59657f42",
   "metadata": {
    "vscode": {
     "languageId": "r"
    }
   },
   "outputs": [
    {
     "name": "stdout",
     "output_type": "stream",
     "text": [
      "Empirical Risk Comparison:\n",
      "PEGASOS risk: 153.3287 \n",
      "kernlab risk: 143.8169 \n",
      "Risk difference: 9.5118 \n"
     ]
    }
   ],
   "source": [
    "#| label: calculate_risk\n",
    "\n",
    "# Define empirical risk function for SVM\n",
    "# Risk = 0.5 * ||w||² + C * Σ max(0, 1 - y_i * f(x_i))\n",
    "emp_risk <- function(theta) {\n",
    "    f = cbind(1, X) %*% theta\n",
    "    return(0.5 * sum(theta[2:3]^2) + C*sum(ifelse(f > 0, f, 0)))\n",
    "}\n",
    "\n",
    "# Calculate empirical risk for both models\n",
    "risks = apply(all_params, 1, emp_risk)\n",
    "cat(\"Empirical Risk Comparison:\\n\")\n",
    "cat(\"PEGASOS risk:\", round(risks[1], 4), \"\\n\")\n",
    "cat(\"kernlab risk:\", round(risks[2], 4), \"\\n\")\n",
    "\n",
    "risk_difference_abs = round(abs(risks[1] - risks[2]), 4)\n",
    "cat(\"Risk difference:\", risk_difference_abs, \"\\n\")"
   ]
  },
  {
   "cell_type": "markdown",
   "id": "50a37c29",
   "metadata": {},
   "source": [
    "label: plotting_everything\n",
    "# Plotting"
   ]
  },
  {
   "cell_type": "code",
   "execution_count": 31,
   "id": "f0a3509f",
   "metadata": {
    "vscode": {
     "languageId": "r"
    }
   },
   "outputs": [
    {
     "name": "stdout",
     "output_type": "stream",
     "text": [
      "Support Vector Information:\n",
      "Total support vectors: 12 \n",
      "Support vectors on margin: 4 \n",
      "Margin width: 0.675 \n"
     ]
    }
   ],
   "source": [
    "#| label: plot_margins_prep\n",
    "\n",
    "# Use kernlab parameters for margin visualization\n",
    "params_kernlab = all_params[2,]  # kernlab parameters\n",
    "\n",
    "# Calculate margin width\n",
    "# Margin = 1 / ||w|| where w are the feature coefficients (excluding intercept)\n",
    "margin = 1 / sqrt(sum(params_kernlab[2:3]^2))\n",
    "\n",
    "# Calculate margin boundaries\n",
    "# The margin lines are parallel to the decision boundary\n",
    "m = -params_kernlab[2] / params_kernlab[3] # Slope of decision boundary\n",
    "\n",
    "# Transform margin width to intercept shift\n",
    "# (margin shift is orthogonal to decision boundary)\n",
    "t_0 = margin / (cos(atan(m)))\n",
    "\n",
    "# Find support vectors on decision boundary\n",
    "# Support vectors have decision values close to ±1\n",
    "sv_tolerance = 0.02  # tolerance for identifying support vectors on boundary\n",
    "nv_sv_idx = abs(abs(f_kernlab[model_kernlab@SVindex]) - 1) < sv_tolerance\n",
    "\n",
    "\n",
    "cat(\"Support Vector Information:\\n\")\n",
    "cat(\"Total support vectors:\", length(model_kernlab@SVindex), \"\\n\")\n",
    "cat(\"Support vectors on margin:\", sum(nv_sv_idx), \"\\n\")\n",
    "cat(\"Margin width:\", round(margin, 3), \"\\n\")"
   ]
  },
  {
   "cell_type": "markdown",
   "id": "e295d775",
   "metadata": {},
   "source": [
    "label: complete_visualization\n",
    "## Complete visualization\n",
    "\n",
    "- We can see that all the models produce almost identical decision boundary\n",
    "- The margins are plotted for the `kernlab`'s (R) / `sklearn.svm.SVC` (Python) model"
   ]
  },
  {
   "cell_type": "code",
   "execution_count": 32,
   "id": "d276a38c",
   "metadata": {
    "vscode": {
     "languageId": "r"
    }
   },
   "outputs": [
    {
     "data": {
      "image/png": "[encoded data removed]",
      "text/plain": [
       "Plot with title \"SVM with Margins and Support Vectors\""
      ]
     },
     "metadata": {
      "image/png": {
       "height": 420,
       "width": 420
      }
     },
     "output_type": "display_data"
    }
   ],
   "source": [
    "#| label: complete visualization\n",
    "\n",
    "par(mar = c(5, 4, 4, 6))\n",
    "plot(x = data$x.1, y = data$x.2, \n",
    "     pch = ifelse(data$classes == 1, \"-\", \"+\"), \n",
    "     col = \"black\",\n",
    "     xlab = \"x1\", ylab = \"x2\",\n",
    "     main = \"SVM with Margins and Support Vectors\")\n",
    "\n",
    "# PEGASOS decision boundary\n",
    "abline(a = -model_pegasos[1] / model_pegasos[3], \n",
    "       b = -model_pegasos[2] / model_pegasos[3], \n",
    "       col = \"#d40808ff\", lwd = 2)\n",
    "\n",
    "# Logistic regression boundary\n",
    "abline(a = -coef(model_logreg)[1] / coef(model_logreg)[3], \n",
    "       b = -coef(model_logreg)[2] / coef(model_logreg)[3], \n",
    "       col = \"#0800ffff\", lwd = 2)\n",
    "\n",
    "# kernlab decision boundary\n",
    "abline(a = -params_kernlab[1] / params_kernlab[3], \n",
    "       b = m,\n",
    "       col = \"#D55E00\", lwd = 2)\n",
    "\n",
    "# Add margin boundaries\n",
    "abline(a = -params_kernlab[1] / params_kernlab[3] + t_0, \n",
    "       b = m, \n",
    "       col = \"#0072B2\", lty = 2)\n",
    "abline(a = -params_kernlab[1] / params_kernlab[3] - t_0, \n",
    "       b = m, \n",
    "       col = \"#0072B2\", lty = 2)\n",
    "\n",
    "\n",
    "points(X[model_kernlab@SVindex[nv_sv_idx],])\n",
    "\n",
    "\n",
    "legend(par('usr')[2], par('usr')[4], , bty='n', xpd=NA, legend=c(\"1\",\"2\"), \n",
    "       pch=c(\"-\",\"+\"), title=\"Classes\", cex = 0.8)\n",
    "legend(par('usr')[2], 1.8, , bty='n', xpd=NA, \n",
    "       legend=c(\"Pegasos\",\"Logistic\",\"Kernlab\",\"Margin\"), \n",
    "       lty=c(1,1,1,2), \n",
    "       col = c(\"#D55E00\",\"#0800ffff\",\"#d40808ff\",\"#0072B2\"), \n",
    "       title=\"\", cex = 0.8, lwd = c(1,2,1,1))"
   ]
  }
 ],
 "metadata": {
  "kernelspec": {
   "display_name": "R",
   "language": "R",
   "name": "ir"
  },
  "language_info": {
   "codemirror_mode": "r",
   "file_extension": ".r",
   "mimetype": "text/x-r-source",
   "name": "R",
   "pygments_lexer": "r",
   "version": "4.4.1"
  }
 },
 "nbformat": 4,
 "nbformat_minor": 5
}
