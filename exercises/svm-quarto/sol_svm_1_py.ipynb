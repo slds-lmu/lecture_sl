{
 "cells": [
  {
   "cell_type": "raw",
   "id": "0e6afa50",
   "metadata": {
    "vscode": {
     "languageId": "raw"
    }
   },
   "source": [
    "---\n",
    "title: \"Python - SVM - Exercise 1\"\n",
    "---"
   ]
  },
  {
   "cell_type": "markdown",
   "id": "0d4d09da",
   "metadata": {},
   "source": [
    "<a href=\"INSERT_colab_python_link\" target=\"_parent\"><img src=\"https://colab.research.google.com/assets/colab-badge.svg\" alt=\"Open In Colab\"/></a>"
   ]
  },
  {
   "cell_type": "markdown",
   "id": "192f33a1",
   "metadata": {},
   "source": [
    "label: exercise\n",
    "# Exercise\n",
    "Write your own stochastic subgradient descent routine to solve the soft-margin SVM in the primal formulation.\n",
    "\n",
    "Hints:\n",
    "\n",
    "- Use the regularized-empirical-risk-minimization formulation, i.e., an optimization criterion without constraints.\n",
    "- No kernels, just a linear SVM.\n",
    "- Compare your implementation with an existing implementation (e.g., `kernlab` in R or `sklearn.svm.SVC` in Pythong). Are your results similar? Note that you might have to switch off the automatic data scaling in the already existing implementation.\n"
   ]
  },
  {
   "cell_type": "markdown",
   "id": "e2402de0",
   "metadata": {},
   "source": [
    "label: import_and_globals\n",
    "## Imports and global variables"
   ]
  },
  {
   "cell_type": "code",
   "execution_count": 3,
   "id": "117562e8",
   "metadata": {},
   "outputs": [],
   "source": [
    "#| label: import_and_globals\n",
    "\n",
    "# You may need to first run:\n",
    "# pip install numpy pandas matplotlib scikit-learn\n",
    "\n",
    "import numpy as np\n",
    "import pandas as pd\n",
    "import matplotlib.pyplot as plt\n",
    "\n",
    "from sklearn.datasets import make_classification\n",
    "\n",
    "from sklearn.svm import SVC\n",
    "from sklearn.linear_model import LogisticRegression\n",
    "\n",
    "# SVM regularization parameter (inverse of lambda)\n",
    "C = 1\n",
    "\n",
    "np.random.seed(509) # for reproducibility"
   ]
  },
  {
   "cell_type": "markdown",
   "id": "b67f24bd",
   "metadata": {},
   "source": [
    "label: algorithm_explanation\n",
    "\n",
    "# PEGASOS Algorithm Explanation\n",
    "\n",
    "The PEGASOS algorithm is a stochastic gradient descent method for training linear SVMs. It works by:\n",
    "\n",
    "1. **Random Sampling**: At each iteration, randomly select one training example\n",
    "2. **Weight Decay**: Apply regularization by shrinking the weight vector: `θ ← (1 - λα)θ`\n",
    "3. **Margin Check**: If the selected example is within the margin (i.e., `y_i * f(x_i) < 1`), update the weights: `θ ← θ + α * y_i * x_i`\n",
    "4. **Repeat**: Continue until convergence or maximum iterations\n",
    "\n",
    "More details can be found in the [i2ml chapter on linear SVMs](https://slds-lmu.github.io/i2ml/chapters/16_linear_svm/16-05-optimization)\n"
   ]
  },
  {
   "cell_type": "code",
   "execution_count": 4,
   "id": "dcd7cf5e",
   "metadata": {},
   "outputs": [],
   "source": [
    "#| label: pegasos_implementation\n",
    "\n",
    "import numpy as np\n",
    "import random\n",
    "\n",
    "def pegasos_linear(y, X, nr_iter=50_000, theta=None, lambda_param=1, alpha=0.01):\n",
    "    \"\"\"\n",
    "    PEGASOS Algorithm for Linear SVM\n",
    "    \n",
    "    This function implements the PEGASOS (Primal Estimated sub-GrAdient SOlver for SVM) \n",
    "    algorithm, which is a stochastic gradient descent method for training linear SVMs.\n",
    "    \n",
    "    For more details, see https://slds-lmu.github.io/i2ml/chapters/16_linear_svm/16-05-optimization\n",
    "    \n",
    "    Parameters:\n",
    "    -----------\n",
    "    y : array-like\n",
    "        outcome vector (should be -1 or +1)\n",
    "    X : array-like\n",
    "        design matrix (including a column of 1s for the intercept)\n",
    "    nr_iter : int, default=50000\n",
    "        number of iterations for the algorithm\n",
    "    theta : array-like, default=None\n",
    "        starting values for thetas (if None, random initialization)\n",
    "    lambda_param : float, default=1\n",
    "        penalty parameter (regularization strength)\n",
    "    alpha : float, default=0.01\n",
    "        step size for weight decay\n",
    "        \n",
    "    Returns:\n",
    "    --------\n",
    "    theta : array\n",
    "        vector containing the learned parameters\n",
    "    \"\"\"\n",
    "    if theta is None:\n",
    "        theta = np.random.randn(X.shape[1])\n",
    "    else:\n",
    "        theta = np.array(theta)\n",
    "    \n",
    "    n = len(y)\n",
    "    \n",
    "    for _ in range(nr_iter):\n",
    "        f_current = X @ theta\n",
    "        i = random.randint(0, n - 1)  # randomly sample one training example\n",
    "        \n",
    "        # Weight decay step\n",
    "        theta = (1 - lambda_param * alpha) * theta\n",
    "        \n",
    "        # Add gradient step if the example is within the margin\n",
    "        if y[i] * f_current[i] < 1:\n",
    "            theta = theta + alpha * y[i] * X[i, :]\n",
    "    \n",
    "    return theta"
   ]
  },
  {
   "cell_type": "markdown",
   "id": "8ba374fc",
   "metadata": {},
   "source": [
    "label: data_setup\n",
    "\n",
    "## Data Generation and Setup\n",
    "\n",
    "For R we'll use the `mlbench.twonorm` dataset, which generates a two-class problem with two features. This is a classic benchmark dataset for binary classification.\n",
    "\n",
    "For Python, we can use `sklearn.datasets.make_classification` to generate a similar dataset."
   ]
  },
  {
   "cell_type": "code",
   "execution_count": 6,
   "id": "c8825b8b",
   "metadata": {},
   "outputs": [
    {
     "name": "stdout",
     "output_type": "stream",
     "text": [
      "Data dimensions: (100, 3)\n",
      "Feature matrix X dimensions: (100, 2)\n",
      "Classes: [1 2]\n"
     ]
    }
   ],
   "source": [
    "#| label: data_generation\n",
    "\n",
    "# 2-class normal distribution data\n",
    "X, y = make_classification(n_samples=100, n_features=2, n_redundant=0, \n",
    "                           n_informative=2, n_clusters_per_class=1, \n",
    "                           random_state=509, class_sep=1.5)\n",
    "\n",
    "\n",
    "data = pd.DataFrame(X, columns=['x.1', 'x.2'])\n",
    "data['classes'] = y + 1  # Convert from 0,1 to 1,2 to match R output\n",
    "\n",
    "# Extract features and target\n",
    "X = data[['x.1', 'x.2']].values\n",
    "y = data['classes'].values\n",
    "\n",
    "# Display the data structure\n",
    "print(\"Data dimensions:\", data.shape)\n",
    "print(\"Feature matrix X dimensions:\", X.shape)\n",
    "print(\"Classes:\", np.unique(y))  # we will need to convert them to -1 and +1 later"
   ]
  },
  {
   "cell_type": "markdown",
   "id": "5b73cbc0",
   "metadata": {},
   "source": [
    "label:\n",
    "##"
   ]
  },
  {
   "cell_type": "markdown",
   "id": "45135490",
   "metadata": {},
   "source": [
    "label: visual_inspection\n",
    "# Visual Inspection of the Data\n",
    "\n",
    "We can see that the data is mostly linearly separable, but there are some points that are close to the decision boundary."
   ]
  },
  {
   "cell_type": "code",
   "execution_count": 7,
   "id": "958c1471",
   "metadata": {},
   "outputs": [
    {
     "data": {
      "image/png": "[encoded data removed]",
      "text/plain": [
       "<Figure size 800x600 with 1 Axes>"
      ]
     },
     "metadata": {},
     "output_type": "display_data"
    }
   ],
   "source": [
    "#| label: plot_data\n",
    "\n",
    "plt.figure(figsize=(8, 6))\n",
    "\n",
    "# Create scatter plot with different symbols for each class\n",
    "class1_mask = data['classes'] == 1\n",
    "class2_mask = data['classes'] == 2\n",
    "\n",
    "plt.scatter(data.loc[class1_mask, 'x.1'], data.loc[class1_mask, 'x.2'], \n",
    "           marker='_', s=100, c='black', label='Class 1')\n",
    "plt.scatter(data.loc[class2_mask, 'x.1'], data.loc[class2_mask, 'x.2'], \n",
    "           marker='+', s=100, c='black', label='Class 2')\n",
    "\n",
    "plt.xlabel('x1')\n",
    "plt.ylabel('x2')\n",
    "plt.title('Two-Class Dataset')\n",
    "plt.legend(title='Classes')\n",
    "plt.grid(True, alpha=0.3)\n",
    "plt.show()"
   ]
  },
  {
   "cell_type": "markdown",
   "id": "63bfa541",
   "metadata": {},
   "source": [
    "label: train_pegasos\n",
    "# Training the PEGASOS Algorithm"
   ]
  },
  {
   "cell_type": "code",
   "execution_count": null,
   "id": "6280d172",
   "metadata": {},
   "outputs": [],
   "source": [
    "#| label: train_pegasos\n",
    "\n",
    "# Recode target variable: class 2 becomes +1, class 1 becomes -1\n",
    "y = np.where(y == 2, 1, -1)\n",
    "\n",
    "# Train PEGASOS model\n",
    "# Note: lambda = 1/(C*n) where C is the SVM regularization parameter\n",
    "# Add column of ones for intercept\n",
    "X_with_intercept = np.column_stack([np.ones(len(y)), X])\n",
    "model_pegasos = pegasos_linear(y, X_with_intercept, lambda_param=1/(C * len(y)))\n",
    "\n",
    "print(\"PEGASOS model parameters:\")\n",
    "print(f\"Intercept: {model_pegasos[0]}\")\n",
    "print(f\"Coefficients: {model_pegasos[1:3]}\")"
   ]
  },
  {
   "cell_type": "markdown",
   "id": "aa538f54",
   "metadata": {},
   "source": [
    "label: decision_boundaries\n",
    "# Decision Boundaries Visualization\n",
    "\n",
    "Now we'll use the trained model to visualize the decision boundaries. Additionally, for comparison we will also fit a Logistic Regression model and visualize its decision boundary as well."
   ]
  },
  {
   "cell_type": "code",
   "execution_count": null,
   "id": "d365e0f3",
   "metadata": {},
   "outputs": [],
   "source": [
    "#| label: plot_boundaries\n",
    "\n",
    "plt.figure(figsize=(10, 8))\n",
    "\n",
    "# Recreate the plot with both classes\n",
    "class1_mask = data['classes'] == 1\n",
    "class2_mask = data['classes'] == 2\n",
    "\n",
    "plt.scatter(data.loc[class1_mask, 'x.1'], data.loc[class1_mask, 'x.2'], \n",
    "           marker='_', s=100, c='black')\n",
    "plt.scatter(data.loc[class2_mask, 'x.1'], data.loc[class2_mask, 'x.2'], \n",
    "           marker='+', s=100, c='black')\n",
    "\n",
    "# Add PEGASOS decision boundary\n",
    "# Decision boundary equation: θ₀ + θ₁x₁ + θ₂x₂ = 0\n",
    "# Rearranged: x₂ = -(θ₀ + θ₁x₁)/θ₂\n",
    "x_range = np.linspace(X[:, 0].min() - 1, X[:, 0].max() + 1, 100)\n",
    "pegasos_boundary = -(model_pegasos[0] + model_pegasos[1] * x_range) / model_pegasos[2]\n",
    "plt.plot(x_range, pegasos_boundary, color='#D55E00', linewidth=2, label='PEGASOS')\n",
    "\n",
    "# Compare to logistic regression\n",
    "# Convert back to original classes for sklearn\n",
    "y_for_sklearn = np.where(y == 1, 2, 1)  # Convert back to 1,2 for compatibility\n",
    "data_for_logreg = pd.DataFrame({'x.1': X[:, 0], 'x.2': X[:, 1], 'classes': y_for_sklearn})\n",
    "model_logreg = LogisticRegression(fit_intercept=True, random_state=2, max_iter=1000)\n",
    "model_logreg.fit(X, y_for_sklearn)\n",
    "\n",
    "# Get logistic regression coefficients\n",
    "logreg_coef = model_logreg.coef_[0]\n",
    "logreg_intercept = model_logreg.intercept_[0]\n",
    "logreg_boundary = -(logreg_intercept + logreg_coef[0] * x_range) / logreg_coef[1]\n",
    "plt.plot(x_range, logreg_boundary, color='#0800ffff', linewidth=2, linestyle='--', label='Logistic')\n",
    "\n",
    "plt.xlabel('x1')\n",
    "plt.ylabel('x2')\n",
    "plt.title('Decision Boundaries Comparison')\n",
    "plt.legend(title='Models')\n",
    "plt.grid(True, alpha=0.3)\n",
    "plt.show()"
   ]
  },
  {
   "cell_type": "markdown",
   "id": "cd7251c4",
   "metadata": {},
   "source": [
    "label: evaluation\n",
    "\n",
    "# Evaluating the PEGASOS Model\n",
    "\n",
    "We'll compute the accuracy and the confusion matrix. In practice, other metrics should be also considered, e.g. precision, recall, F1-score (threshold dependent); ROC AUC, PR AUC (threshold independent)."
   ]
  },
  {
   "cell_type": "code",
   "execution_count": null,
   "id": "da5e7fc8",
   "metadata": {},
   "outputs": [],
   "source": [
    "#| label: evaluate_pegasos\n",
    "\n",
    "# Compute decision values (distances from decision boundary)\n",
    "f_pegasos = X_with_intercept @ model_pegasos  # we already have intercept column\n",
    "\n",
    "# Check classification accuracy\n",
    "# Positive values indicate class +1, negative values indicate class -1\n",
    "predictions = np.sign(f_pegasos)\n",
    "accuracy = np.mean(predictions == y)\n",
    "\n",
    "print(\"PEGASOS Classification Results:\")\n",
    "print(f\"Accuracy: {accuracy * 100:.2f}%\")\n",
    "\n",
    "# Display confusion matrix (sign of decision values vs true labels)\n",
    "print(\"\\nConfusion Matrix (decision sign vs true labels):\")\n",
    "confusion_values = np.sign(f_pegasos * y)\n",
    "unique_values, counts = np.unique(confusion_values, return_counts=True)\n",
    "confusion_dict = dict(zip(unique_values, counts))\n",
    "print(f\"Correct classifications (value=1): {confusion_dict.get(1, 0)}\")\n",
    "print(f\"Incorrect classifications (value=-1): {confusion_dict.get(-1, 0)}\")"
   ]
  },
  {
   "cell_type": "markdown",
   "id": "2ffe9368",
   "metadata": {},
   "source": [
    "label: kernellab_or_sklearn\n",
    "# Using `kernlab` (R) or `sklearn.svm.SVC` (Python) for Comparison\n",
    "\n",
    "Accuracy is the same"
   ]
  },
  {
   "cell_type": "code",
   "execution_count": null,
   "id": "e465fa0e",
   "metadata": {},
   "outputs": [],
   "source": [
    "#| label: train_kernlab_or_sklearn\n",
    "\n",
    "# Train sklearn SVM with linear kernel (equivalent to kernlab)\n",
    "# Note: we cannot expect a PERFECT match due to different optimization approaches\n",
    "# Convert y back to 0,1 for sklearn\n",
    "y_sklearn = np.where(y == 1, 1, 0)\n",
    "\n",
    "model_sklearn = SVC(kernel='linear', C=C, random_state=2)\n",
    "model_sklearn.fit(X, y_sklearn)\n",
    "\n",
    "# Get decision values from sklearn\n",
    "f_sklearn = model_sklearn.decision_function(X)\n",
    "\n",
    "# Convert back to -1,1 format for comparison\n",
    "y_sklearn_signed = np.where(y_sklearn == 1, 1, -1)\n",
    "\n",
    "print(\"sklearn SVM Classification Results:\")\n",
    "sklearn_predictions = np.sign(f_sklearn)\n",
    "# Handle the case where decision function returns exactly 0\n",
    "sklearn_predictions = np.where(sklearn_predictions == 0, 1, sklearn_predictions)\n",
    "sklearn_correct = np.sum(sklearn_predictions == y)\n",
    "sklearn_accuracy = sklearn_correct / len(y)\n",
    "print(f\"Accuracy: {sklearn_accuracy * 100:.2f}%\")\n",
    "\n",
    "# Display confusion matrix for sklearn\n",
    "print(\"\\nsklearn Confusion Matrix:\")\n",
    "sklearn_confusion_values = np.sign(f_sklearn * y)\n",
    "sklearn_unique_values, sklearn_counts = np.unique(sklearn_confusion_values, return_counts=True)\n",
    "sklearn_confusion_dict = dict(zip(sklearn_unique_values, sklearn_counts))\n",
    "print(f\"Correct classifications (value=1): {sklearn_confusion_dict.get(1, 0)}\")\n",
    "print(f\"Incorrect classifications (value=-1): {sklearn_confusion_dict.get(-1, 0)}\")"
   ]
  },
  {
   "cell_type": "markdown",
   "id": "577a9393",
   "metadata": {},
   "source": [
    "label: comparison_coefs\n",
    "## Comparison of Model Coefficients\n",
    "\n",
    "We can see that both the predictions and coefficients are almost identical."
   ]
  },
  {
   "cell_type": "code",
   "execution_count": null,
   "id": "5e3442f9",
   "metadata": {},
   "outputs": [],
   "source": [
    "#| label: compare_models\n",
    "\n",
    "# Compare decision values between models\n",
    "decision_diff = np.abs(f_sklearn - f_pegasos)\n",
    "print(\"Decision Values Comparison:\")\n",
    "print(f\"Range of absolute differences: [{decision_diff.min():.6f}, {decision_diff.max():.6f}]\")\n",
    "print(f\"Mean absolute difference: {decision_diff.mean():.6f}\")\n",
    "\n",
    "# Extract and compare model coefficients\n",
    "# For sklearn: coefficients are directly available\n",
    "sklearn_params = np.array([\n",
    "    model_sklearn.intercept_[0],  # intercept\n",
    "    model_sklearn.coef_[0, 0],    # coefficient for x1\n",
    "    model_sklearn.coef_[0, 1]     # coefficient for x2\n",
    "])\n",
    "\n",
    "# Combine parameters for comparison\n",
    "all_params = np.array([\n",
    "    model_pegasos,     # PEGASOS parameters\n",
    "    sklearn_params     # sklearn parameters\n",
    "])\n",
    "\n",
    "print(\"\\nModel Parameters Comparison:\")\n",
    "param_names = ['Intercept', 'Coeff_x1', 'Coeff_x2']\n",
    "print(f\"{'Model':<10} {'Intercept':<12} {'Coeff_x1':<12} {'Coeff_x2':<12}\")\n",
    "print(\"-\" * 50)\n",
    "print(f\"{'PEGASOS':<10} {model_pegasos[0]:<12.6f} {model_pegasos[1]:<12.6f} {model_pegasos[2]:<12.6f}\")\n",
    "print(f\"{'sklearn':<10} {sklearn_params[0]:<12.6f} {sklearn_params[1]:<12.6f} {sklearn_params[2]:<12.6f}\")\n",
    "\n",
    "print(\"\\nParameter differences:\")\n",
    "param_diff = np.abs(all_params[0] - all_params[1])\n",
    "for i, name in enumerate(param_names):\n",
    "    print(f\"{name}: {param_diff[i]:.6f}\")"
   ]
  },
  {
   "cell_type": "markdown",
   "id": "081af009",
   "metadata": {},
   "source": [
    "label: emp_risk_comparions\n",
    "## Comparison of empirical risks"
   ]
  },
  {
   "cell_type": "code",
   "execution_count": null,
   "id": "47344478",
   "metadata": {},
   "outputs": [],
   "source": [
    "#| label: calculate_risk\n",
    "\n",
    "# Define empirical risk function for SVM\n",
    "# Risk = 0.5 * ||w||² + C * Σ max(0, 1 - y_i * f(x_i))\n",
    "def emp_risk(theta):\n",
    "    f = X_with_intercept @ theta\n",
    "    # Hinge loss: max(0, 1 - y_i * f(x_i))\n",
    "    hinge_losses = np.maximum(0, 1 - y * f)\n",
    "    return 0.5 * np.sum(theta[1:3]**2) + C * np.sum(hinge_losses)\n",
    "\n",
    "# Calculate empirical risk for both models\n",
    "risk_pegasos = emp_risk(model_pegasos)\n",
    "risk_sklearn = emp_risk(sklearn_params)\n",
    "\n",
    "print(\"Empirical Risk Comparison:\")\n",
    "print(f\"PEGASOS risk: {risk_pegasos:.4f}\")\n",
    "print(f\"sklearn risk: {risk_sklearn:.4f}\")\n",
    "\n",
    "risk_difference_abs = abs(risk_pegasos - risk_sklearn)\n",
    "print(f\"Risk difference: {risk_difference_abs:.4f}\")"
   ]
  },
  {
   "cell_type": "markdown",
   "id": "50a37c29",
   "metadata": {},
   "source": [
    "label: plotting_everything\n",
    "# Plotting"
   ]
  },
  {
   "cell_type": "code",
   "execution_count": null,
   "id": "52842280",
   "metadata": {},
   "outputs": [],
   "source": [
    "#| label: plot_margins_prep\n",
    "\n",
    "# Use sklearn parameters for margin visualization\n",
    "params_sklearn = sklearn_params  # sklearn parameters\n",
    "\n",
    "# Calculate margin width\n",
    "# Margin = 1 / ||w|| where w are the feature coefficients (excluding intercept)\n",
    "margin = 1 / np.sqrt(np.sum(params_sklearn[1:3]**2))\n",
    "\n",
    "# Calculate margin boundaries\n",
    "# The margin lines are parallel to the decision boundary\n",
    "m = -params_sklearn[1] / params_sklearn[2]  # Slope of decision boundary\n",
    "\n",
    "# Transform margin width to intercept shift\n",
    "# (margin shift is orthogonal to decision boundary)\n",
    "t_0 = margin / np.cos(np.arctan(m))\n",
    "\n",
    "# Find support vectors on decision boundary\n",
    "# Support vectors have decision values close to ±1\n",
    "sv_tolerance = 0.02  # tolerance for identifying support vectors on boundary\n",
    "sv_indices = model_sklearn.support_\n",
    "f_sklearn_sv = f_sklearn[sv_indices]\n",
    "nv_sv_mask = np.abs(np.abs(f_sklearn_sv) - 1) < sv_tolerance\n",
    "\n",
    "print(\"Support Vector Information:\")\n",
    "print(f\"Total support vectors: {len(sv_indices)}\")\n",
    "print(f\"Support vectors on margin: {np.sum(nv_sv_mask)}\")\n",
    "print(f\"Margin width: {margin:.3f}\")"
   ]
  },
  {
   "cell_type": "markdown",
   "id": "e295d775",
   "metadata": {},
   "source": [
    "label: complete_visualization\n",
    "## Complete visualization\n",
    "\n",
    "- We can see that all the models produce almost identical decision boundary\n",
    "- The margins are plotted for the `kernlab`'s (R) / `sklearn.svm.SVC` (Python) model\n",
    "- We have 12 support vectors, from which 4 lay on the margin"
   ]
  },
  {
   "cell_type": "code",
   "execution_count": null,
   "id": "05237092",
   "metadata": {},
   "outputs": [],
   "source": [
    "#| label: complete_visualization\n",
    "\n",
    "plt.figure(figsize=(12, 8))\n",
    "\n",
    "# Plot data points\n",
    "class1_mask = data['classes'] == 1\n",
    "class2_mask = data['classes'] == 2\n",
    "\n",
    "plt.scatter(data.loc[class1_mask, 'x.1'], data.loc[class1_mask, 'x.2'], \n",
    "           marker='_', s=100, c='black')\n",
    "plt.scatter(data.loc[class2_mask, 'x.1'], data.loc[class2_mask, 'x.2'], \n",
    "           marker='+', s=100, c='black')\n",
    "\n",
    "# Define x range for boundary lines\n",
    "x_range = np.linspace(X[:, 0].min() - 1, X[:, 0].max() + 1, 100)\n",
    "\n",
    "# PEGASOS decision boundary\n",
    "pegasos_boundary = -(model_pegasos[0] + model_pegasos[1] * x_range) / model_pegasos[2]\n",
    "plt.plot(x_range, pegasos_boundary, color='#d40808ff', linewidth=2, label='PEGASOS')\n",
    "\n",
    "# Logistic regression boundary\n",
    "logreg_boundary = -(logreg_intercept + logreg_coef[0] * x_range) / logreg_coef[1]\n",
    "plt.plot(x_range, logreg_boundary, color='#0800ffff', linewidth=2, label='Logistic')\n",
    "\n",
    "# sklearn decision boundary\n",
    "sklearn_boundary = -(params_sklearn[0] + params_sklearn[1] * x_range) / params_sklearn[2]\n",
    "plt.plot(x_range, sklearn_boundary, color='#D55E00', linewidth=2, label='sklearn SVM')\n",
    "\n",
    "# Add margin boundaries\n",
    "margin_upper = -(params_sklearn[0] + params_sklearn[1] * x_range) / params_sklearn[2] + t_0\n",
    "margin_lower = -(params_sklearn[0] + params_sklearn[1] * x_range) / params_sklearn[2] - t_0\n",
    "plt.plot(x_range, margin_upper, color='#0072B2', linestyle='--', linewidth=1, label='Margin')\n",
    "plt.plot(x_range, margin_lower, color='#0072B2', linestyle='--', linewidth=1)\n",
    "\n",
    "# Highlight support vectors on margin\n",
    "sv_on_margin_indices = sv_indices[nv_sv_mask]\n",
    "if len(sv_on_margin_indices) > 0:\n",
    "    plt.scatter(X[sv_on_margin_indices, 0], X[sv_on_margin_indices, 1], \n",
    "               s=200, facecolors='none', edgecolors='red', linewidth=2, \n",
    "               label='Support Vectors')\n",
    "\n",
    "plt.xlabel('x1')\n",
    "plt.ylabel('x2')\n",
    "plt.title('SVM with Margins and Support Vectors')\n",
    "plt.legend()\n",
    "plt.grid(True, alpha=0.3)\n",
    "plt.show()"
   ]
  }
 ],
 "metadata": {
  "kernelspec": {
   "display_name": "sl",
   "language": "python",
   "name": "python3"
  },
  "language_info": {
   "codemirror_mode": {
    "name": "ipython",
    "version": 3
   },
   "file_extension": ".py",
   "mimetype": "text/x-python",
   "name": "python",
   "nbconvert_exporter": "python",
   "pygments_lexer": "ipython3",
   "version": "3.10.18"
  }
 },
 "nbformat": 4,
 "nbformat_minor": 5
}
