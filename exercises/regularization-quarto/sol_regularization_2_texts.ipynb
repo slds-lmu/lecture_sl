{
 "cells": [
  {
   "cell_type": "markdown",
   "id": "f05b2052",
   "metadata": {},
   "source": [
    "label: colab_R_link\n",
    "https://colab.research.google.com/github/slds-lmu/lecture_sl/blob/main/exercises/regularization-quarto/inserted/sol_regularization_quarto_2_R.ipynb"
   ]
  },
  {
   "cell_type": "markdown",
   "id": "0edabca9",
   "metadata": {},
   "source": [
    "label: colab_python_link\n",
    "https://colab.research.google.com/github/slds-lmu/lecture_sl/blob/main/exercises/regularization-quarto/inserted/sol_regularization_quarto_2_py.ipynb"
   ]
  },
  {
   "cell_type": "markdown",
   "id": "7d6620af",
   "metadata": {},
   "source": [
    "label: exercise_1_a_vi\n",
    "\n",
    "# Exercise 1 (a - vi): Soft Thresholding Operator\n",
    "$$\\theta^*_j =\\begin{cases}\n",
    "    \\frac{\\rho_j + \\lambda}{z_j} & \\text{ for } \\rho_j < -\\lambda\\\\\n",
    "    0 & \\text{ for }  -\\lambda \\leq \\rho_j \\leq \\lambda\\\\\n",
    "   \\frac{\\rho_j - \\lambda}{z_j} & \\text{ for } \\rho_j > \\lambda\n",
    "\\end{cases}$$\n",
    "\n",
    "Plot $\\theta^*_j$ as a function of $\\rho_j$ for $\\rho_j \\in [-5, 5], \\lambda = 1, z_j = 1.$ This function is called the soft thresholding operator."
   ]
  },
  {
   "cell_type": "markdown",
   "id": "e00e41eb",
   "metadata": {},
   "source": [
    "label: plotting_text\n",
    "Plotting"
   ]
  },
  {
   "cell_type": "markdown",
   "id": "0180f5d1",
   "metadata": {},
   "source": [
    "label: soft_thresholding_plot_interpretation\n",
    "## Interpretation of the Soft Thresholding Operator\n",
    "As we can see from the plot the coefficient $\\theta^*_j$ is equal to zero when $\\rho_j$ is between $-\\lambda$ and $\\lambda$, and therefore performs feature selection."
   ]
  },
  {
   "cell_type": "markdown",
   "id": "57e5779a",
   "metadata": {},
   "source": [
    "label: lasso_vs_projected_exercise\n",
    "# Exercise 1 (d): Lasso vs. Projected Lasso Comparison\n",
    "\n",
    "You are given the code below to compare the quality of the projected Lasso regression vs. the regular Lasso regression.\n",
    "\n",
    "Complete the missing code of the algorithms and interpret the result."
   ]
  },
  {
   "cell_type": "markdown",
   "id": "c6970dcc",
   "metadata": {},
   "source": [
    "label: no_need_for_changes\n",
    "\n",
    "No need to make changes in the code below. \n",
    "\n",
    "Small note: the y label of the plot should shows the Root Mean Squared Error (RMSE) of the parameter estimation $\\sqrt{\\dfrac{1}{p}\\sum_{j=1}^{p}(\\hat{\\theta}_j-\\theta_{j,\\mathrm{true}})^2}$"
   ]
  },
  {
   "cell_type": "markdown",
   "id": "854a8675",
   "metadata": {},
   "source": [
    "label: lasso_vs_projected_solution\n",
    "## Solution"
   ]
  },
  {
   "cell_type": "markdown",
   "id": "82b81d92",
   "metadata": {},
   "source": [
    "label: lasso_vs_projected_math_reminder\n",
    "\n",
    "### Projected Orthogonal Lasso\n",
    "Please refer to subexercises above for more details\n",
    "\n",
    "Line 10 - Eigenvalue Decomposition: $\\mathbf{X}^T \\mathbf{X} = \\mathbf{V} \\mathbf{D} \\mathbf{V}^T$\n",
    "\n",
    "Line 13 - Transformation Matrix: $\\mathbf{A} = \\mathbf{V} \\mathbf{D}^{-0.5}$\n",
    "\n",
    "Line 14 - Transformed Design Matrix: $\\tilde{\\mathbf{X}} = \\mathbf{X} \\mathbf{A}$\n",
    "\n",
    "Line 18 - OLS Solution in Projected Space : $\\hat{\\boldsymbol{\\theta}}_{\\text{OLS}} = \\tilde{\\mathbf{X}}^T \\mathbf{y}$\n",
    "\n",
    "Line 19-20 - Soft Thresholding in Projected Space: \n",
    "$$\\hat{\\boldsymbol{\\theta}}_{\\text{proj},j}^* = \\begin{cases}\n",
    "    \\hat{\\boldsymbol{\\theta}}_{\\text{OLS},j} - \\lambda & \\text{if } \\hat{\\boldsymbol{\\theta}}_{\\text{OLS},j} > \\lambda \\\\\n",
    "    0 & \\text{if } |\\hat{\\boldsymbol{\\theta}}_{\\text{OLS},j}| \\leq \\lambda \\\\\n",
    "    \\hat{\\boldsymbol{\\theta}}_{\\text{OLS},j} + \\lambda & \\text{if } \\hat{\\boldsymbol{\\theta}}_{\\text{OLS},j} < -\\lambda\n",
    "\\end{cases}$$\n",
    "\n",
    "Line 22 - Back-transformation to Original Space: $\\boldsymbol{\\theta}^* = \\mathbf{A} \\hat{\\boldsymbol{\\theta}}_{\\text{proj}}^*$\n"
   ]
  },
  {
   "cell_type": "markdown",
   "id": "1b240b1d",
   "metadata": {},
   "source": [
    "label: lasso_coordinate_descent_math_reminder\n",
    "\n",
    "### Coordinate Descent Lasso \n",
    "Please refer to subexercises above for more details\n",
    "\n",
    "\n",
    "Line 15 - Partial Residual: $r^{(j)} = \\mathbf{y} - \\mathbf{X}_{-j} \\boldsymbol{\\theta}_{-j}$\n",
    "\n",
    "Line 16 - Residual Correlation: $\\rho_j = \\mathbf{X}_j^T r^{(j)} = \\sum\\limits_{i=1}^n X_{ij} \\left( y_i - \\sum\\limits_{k \\neq j} X_{ik} \\theta_k \\right)$\n",
    "\n",
    "Line 17 - Feature Norm Squared: $z_j = \\|\\mathbf{X}_j\\|_2^2 = \\sum\\limits_{i=1}^n X_{ij}^2$\n",
    "\n",
    "From line 19 - Soft Thresholding Update:\n",
    "$$\\theta_j^{(t+1)} = \\begin{cases}\n",
    "    \\frac{\\rho_j + \\lambda}{z_j} & \\text{if } \\rho_j < -\\lambda \\\\\n",
    "    0 & \\text{if } |\\rho_j| \\leq \\lambda \\\\\n",
    "    \\frac{\\rho_j - \\lambda}{z_j} & \\text{if } \\rho_j > \\lambda\n",
    "\\end{cases}$$\n",
    "\n",
    "Please note that we avoid additional sum loops by vectorization in the implementation"
   ]
  },
  {
   "cell_type": "markdown",
   "id": "e634821f",
   "metadata": {},
   "source": [
    "label: comparison\n",
    "### Comparison of Lasso and Projected Lasso\n",
    "The code below was provided in the exercise for comparing the 2 approaches in true parameter identification"
   ]
  },
  {
   "cell_type": "markdown",
   "id": "37ee2210",
   "metadata": {},
   "source": [
    "label: lasso_vs_projected_interpretation\n",
    "### Interpretation of Results\n",
    "\n",
    "In this simulation, the true parameter vector is sparse in its original coordinate system. Hence, as expected, the regular Lasso regression outperforms the projected approach on average when identifying the true parameters in this scenario."
   ]
  },
  {
   "cell_type": "markdown",
   "id": "758c4314",
   "metadata": {},
   "source": [
    "label: full_code\n",
    "### Full code"
   ]
  }
 ],
 "metadata": {
  "kernelspec": {
   "display_name": "lectures",
   "language": "python",
   "name": "python3"
  },
  "language_info": {
   "codemirror_mode": {
    "name": "ipython",
    "version": 3
   },
   "file_extension": ".py",
   "mimetype": "text/x-python",
   "name": "python",
   "nbconvert_exporter": "python",
   "pygments_lexer": "ipython3",
   "version": "3.10.18"
  }
 },
 "nbformat": 4,
 "nbformat_minor": 5
}
