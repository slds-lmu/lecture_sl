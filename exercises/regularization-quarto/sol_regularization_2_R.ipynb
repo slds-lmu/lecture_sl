{
 "cells": [
  {
   "cell_type": "raw",
   "id": "f3a53c4f",
   "metadata": {
    "vscode": {
     "languageId": "raw"
    }
   },
   "source": [
    "---\n",
    "title: \"R - Regularization - Exercise 2\"\n",
    "---"
   ]
  },
  {
   "cell_type": "markdown",
   "id": "f05b2052",
   "metadata": {},
   "source": [
    "<a href=\"INSERT_colab_R_link\" target=\"_parent\"><img src=\"https://colab.research.google.com/assets/colab-badge.svg\" alt=\"Open In Colab\"/></a>"
   ]
  },
  {
   "cell_type": "markdown",
   "id": "7d6620af",
   "metadata": {},
   "source": [
    "label: exercise_1_a_vi\n",
    "\n",
    "# Exercise 1 (a - vi): Soft Thresholding Operator\n",
    "$$\\theta^*_j =\\begin{cases}\n",
    "    \\frac{\\rho_j + \\lambda}{z_j} & \\text{ for } \\rho_j < -\\lambda\\\\\n",
    "    0 & \\text{ for }  -\\lambda \\leq \\rho_j \\leq \\lambda\\\\\n",
    "   \\frac{\\rho_j - \\lambda}{z_j} & \\text{ for } \\rho_j > \\lambda\n",
    "\\end{cases}$$\n",
    "\n",
    "Plot $\\theta^*_j$ as a function of $\\rho_j$ for $\\rho_j \\in [-5, 5], \\lambda = 1, z_j = 1.$ This function is called the soft thresholding operator."
   ]
  },
  {
   "cell_type": "code",
   "execution_count": 23,
   "id": "527e0409",
   "metadata": {
    "vscode": {
     "languageId": "r"
    }
   },
   "outputs": [],
   "source": [
    "library(ggplot2)\n",
    "\n",
    "rhos = seq(-5, 5, 0.1)\n",
    "lambda = 1\n",
    "z = 1\n",
    "\n",
    "# Soft thresholding\n",
    "thetas_star = ifelse(rhos < -lambda, (rhos + lambda)/z,\n",
    "                     ifelse(rhos > lambda, ((rhos - lambda)/z), \n",
    "                            0))\n",
    "\n",
    "\n",
    "# --------------------------------------------------------------------------- # \n",
    "# if the above code is hard to read for you, here is the equivalent with a loop\n",
    "# (not recommended for performance, but clearer for understanding)\n",
    "\n",
    "# thetas_star <- numeric(length(rhos)) \n",
    "# for (i in seq_along(rhos)) {\n",
    "#   if (rhos[i] < -lambda) {\n",
    "#     thetas_star[i] <- (rhos[i] + lambda) / z\n",
    "#   } else if (rhos[i] > lambda) {\n",
    "#     thetas_star[i] <- (rhos[i] - lambda) / z\n",
    "#   } else {\n",
    "#     thetas_star[i] <- 0\n",
    "#   }\n",
    "# }\n",
    "\n",
    "# --------------------------------------------------------------------------- # \n",
    "\n",
    "# OLS (no thresholding)\n",
    "thetas = rhos/z\n",
    "\n",
    "df = rbind(data.frame(theta = thetas_star, type=\"Soft thresholding\", rhos=rhos),\n",
    "           data.frame(theta = thetas,      type=\"OLS\",               rhos=rhos))\n"
   ]
  },
  {
   "cell_type": "markdown",
   "id": "5002a34e",
   "metadata": {
    "vscode": {
     "languageId": "r"
    }
   },
   "source": [
    "label: Plotting\n",
    "Plotting"
   ]
  },
  {
   "cell_type": "code",
   "execution_count": 25,
   "id": "764e3c68",
   "metadata": {
    "vscode": {
     "languageId": "r"
    }
   },
   "outputs": [
    {
     "data": {
      "image/png": "[encoded data removed]",
      "text/plain": [
       "plot without title"
      ]
     },
     "metadata": {
      "image/png": {
       "height": 420,
       "width": 420
      }
     },
     "output_type": "display_data"
    }
   ],
   "source": [
    "ggplot(df) +\n",
    "    geom_line(aes(x=rhos, y=theta, color=type)) +\n",
    "    ylab(expression(theta)) +\n",
    "    xlab(expression(rho)) +\n",
    "    geom_vline(xintercept = c(-1, 1), linetype = \"dashed\") +\n",
    "    annotate(\"text\", x = -1.3, y = min(df$theta), label = \"-λ\") +\n",
    "    annotate(\"text\", x = 1.3, y = min(df$theta), label = \"+λ\")"
   ]
  },
  {
   "cell_type": "markdown",
   "id": "0180f5d1",
   "metadata": {},
   "source": [
    "label: soft_thresholding_plot_interpretation\n",
    "\n",
    "## Interpretation of the Soft Thresholding Operator\n",
    "As we can see from the plot the coefficient $\\theta^*_j$ is equal to zero when $\\rho_j$ is between $-\\lambda$ and $\\lambda$, and therefore performs feature selection."
   ]
  },
  {
   "cell_type": "markdown",
   "id": "57e5779a",
   "metadata": {},
   "source": [
    "label: lasso_vs_projected_exercise\n",
    "# Exercise 1 (d): Lasso vs. Projected Lasso Comparison\n",
    "\n",
    "You are given the code below to compare the quality of the projected Lasso regression vs. the regular Lasso regression.\n",
    "\n",
    "Complete the missing code of the algorithms and interpret the result."
   ]
  },
  {
   "cell_type": "code",
   "execution_count": null,
   "id": "28de2b1b",
   "metadata": {
    "vscode": {
     "languageId": "r"
    }
   },
   "outputs": [],
   "source": [
    "#| label: lasso_vs_projected_exercise_code\n",
    "library(matlib)\n",
    "library(ggplot2)\n",
    "set.seed(2)\n",
    "\n",
    "proj_orth_lasso <- function(X, y, lambda){\n",
    "    # compute X_tilde\n",
    "\n",
    "  \n",
    "    X_tilde = # TODO\n",
    "  \n",
    "    # compute analytical solution for X_tilde\n",
    "\n",
    "    theta_star = # TODO\n",
    "    return(c(theta_star))\n",
    "}\n",
    "\n",
    "lasso <- function(X, y, lambda, N){\n",
    "    p = ncol(X)\n",
    "    theta = rep(1.0, p)\n",
    "    for(i in seq(N)){\n",
    "        j = (i %% p)+1\n",
    "    \n",
    "        rho_j = # TODO\n",
    "        z_j = # TODO\n",
    "    \n",
    "        theta[j] = # TODO\n",
    "    }\n",
    "    return(theta)\n",
    "}\n",
    "\n",
    "# ----------- No need to make changes in the code below -----------\n",
    "# Bessel corrected Root Mean Square Error (RMSE)\n",
    "corrected_rmses = data.frame(corrected_rmse = numeric(), projected = factor())\n",
    "\n",
    "p = 10  # Num coefficients\n",
    "n = 100 # Num samples\n",
    "\n",
    "num_optim_steps = 400 # Coord updates for lasso\n",
    "\n",
    "sigma_noise  = 0.1\n",
    "sigma_signal = 1.0\n",
    "\n",
    "lambda = 1 # L1 penalty\n",
    "\n",
    "num_reruns = 100 # Monte Carlo reruns\n",
    "\n",
    "for(i in seq(num_reruns)){\n",
    "    X = matrix(rnorm(n*p, sd=sigma_signal), nrow=n)\n",
    "\n",
    "    theta_true = rnorm(p)\n",
    "    # Randomly setting ~70% of coefficients to zero\n",
    "    idx = rbinom(p, 1, 0.7)\n",
    "    theta_true[which(idx == 1)] = 0\n",
    "  \n",
    "    # Linear signal plus Gaussian noise\n",
    "    y = X %*% theta_true + rnorm(n, sd=sigma_noise) \n",
    "  \n",
    "    theta_proj_lasso = proj_orth_lasso(X, y, lambda)\n",
    "    theta_regular_lasso = lasso(X, y, lambda, num_optim_steps)\n",
    "\n",
    "    corrected_rmses_proj_lasso    = n/(n-1)*sd(theta_proj_lasso - theta_true)\n",
    "    corrected_rmses_regular_lasso = n/(n-1)*sd(theta_regular_lasso - theta_true)\n",
    "\n",
    "    corrected_rmses = rbind(\n",
    "        corrected_rmses, \n",
    "        data.frame(corrected_rmse=corrected_rmses_proj_lasso, \n",
    "                   projected=factor(\"yes\", levels=c(\"yes\", \"no\")))\n",
    "        )\n",
    "\n",
    "    corrected_rmses = rbind(\n",
    "        corrected_rmses, \n",
    "        data.frame(corrected_rmse=corrected_rmses_regular_lasso, \n",
    "                   projected=factor(\"no\", levels=c(\"yes\", \"no\")))\n",
    "        )\n",
    "}\n",
    "\n",
    "ggplot(corrected_rmses) +\n",
    "    geom_boxplot(aes(y = corrected_rmse, fill = projected)) +\n",
    "    ylab(expression(sqrt(Sigma~(hat(theta)[j]-theta[\"j,true\"])^2/p)))"
   ]
  },
  {
   "cell_type": "markdown",
   "id": "854a8675",
   "metadata": {},
   "source": [
    "label: lasso_vs_projected_solution\n",
    "## Solution"
   ]
  },
  {
   "cell_type": "code",
   "execution_count": null,
   "id": "51ecdf08",
   "metadata": {
    "vscode": {
     "languageId": "r"
    }
   },
   "outputs": [],
   "source": [
    "#| label: installing_packages\n",
    "# you'll need to install the following packages if you haven't done so already\n",
    "install.packages(\"matlib\")\n",
    "install.packages(\"ggplot2\")"
   ]
  },
  {
   "cell_type": "markdown",
   "id": "82b81d92",
   "metadata": {},
   "source": [
    "label: lasso_vs_projected_math_reminder\n",
    "\n",
    "### Projected Orthogonal Lasso\n",
    "Please refer to subexercises above for more details\n",
    "\n",
    "Line 10 - Eigenvalue Decomposition: $\\mathbf{X}^T \\mathbf{X} = \\mathbf{V} \\mathbf{D} \\mathbf{V}^T$\n",
    "\n",
    "Line 13 - Transformation Matrix: $\\mathbf{A} = \\mathbf{V} \\mathbf{D}^{-0.5}$\n",
    "\n",
    "Line 14 - Transformed Design Matrix: $\\tilde{\\mathbf{X}} = \\mathbf{X} \\mathbf{A}$\n",
    "\n",
    "Line 17 - OLS Solution in Projected Space : $\\hat{\\boldsymbol{\\theta}}_{\\text{OLS}} = \\tilde{\\mathbf{X}}^T \\mathbf{y}$\n",
    "\n",
    "Line 18-19 - Soft Thresholding in Projected Space: \n",
    "$$\\hat{\\boldsymbol{\\theta}}_{\\text{proj},j}^* = \\begin{cases}\n",
    "    \\hat{\\boldsymbol{\\theta}}_{\\text{OLS},j} - \\lambda & \\text{if } \\hat{\\boldsymbol{\\theta}}_{\\text{OLS},j} > \\lambda \\\\\n",
    "    0 & \\text{if } |\\hat{\\boldsymbol{\\theta}}_{\\text{OLS},j}| \\leq \\lambda \\\\\n",
    "    \\hat{\\boldsymbol{\\theta}}_{\\text{OLS},j} + \\lambda & \\text{if } \\hat{\\boldsymbol{\\theta}}_{\\text{OLS},j} < -\\lambda\n",
    "\\end{cases}$$\n",
    "\n",
    "Line 21 - Back-transformation to Original Space: $\\boldsymbol{\\theta}^* = \\mathbf{A} \\hat{\\boldsymbol{\\theta}}_{\\text{proj}}^*$\n"
   ]
  },
  {
   "cell_type": "code",
   "execution_count": null,
   "id": "3185f7c6",
   "metadata": {
    "vscode": {
     "languageId": "r"
    }
   },
   "outputs": [],
   "source": [
    "#| label: lasso_vs_projected_solution_code_proj_orth\n",
    "library(matlib)\n",
    "library(ggplot2)\n",
    "set.seed(2)\n",
    "\n",
    "# for a recap see subexercise b)\n",
    "proj_orth_lasso <- function(X, y, lambda){ \n",
    "    # compute X_tilde\n",
    "    # Decomposing X^T X = V D V^T (calculating eigenvalues and eigenvectors)\n",
    "    eigen_v = eigen(t(X) %*% X) \n",
    "\n",
    "    # A = V D^{-0.5}; X_tilde = X A\n",
    "    A = eigen_v$vectors %*% diag(eigen_v$values^(-0.5))\n",
    "    X_tilde = X %*% A\n",
    "  \n",
    "    # compute analytical solution for X_tilde\n",
    "    proj_theta_ols = t(X_tilde) %*% y\n",
    "    proj_theta_star = sign(proj_theta_ols) * ifelse(abs(proj_theta_ols) - lambda > 0, \n",
    "                                                    abs(proj_theta_ols) - lambda, 0)\n",
    "    \n",
    "    theta_star = A %*% proj_theta_star\n",
    "    return(c(theta_star))\n",
    "}\n"
   ]
  },
  {
   "cell_type": "markdown",
   "id": "1b240b1d",
   "metadata": {},
   "source": [
    "label: lasso_coordinate_descent_math_reminder\n",
    "\n",
    "### Coordinate Descent Lasso \n",
    "Please refer to subexercises above for more details\n",
    "\n",
    "\n",
    "Line 15 - Partial Residual: $r^{(j)} = \\mathbf{y} - \\mathbf{X}_{-j} \\boldsymbol{\\theta}_{-j}$\n",
    "\n",
    "Line 16 - Residual Correlation: $\\rho_j = \\mathbf{X}_j^T r^{(j)} = \\sum\\limits_{i=1}^n X_{ij} \\left( y_i - \\sum\\limits_{k \\neq j} X_{ik} \\theta_k \\right)$\n",
    "\n",
    "Line 17 - Feature Norm Squared: $z_j = \\|\\mathbf{X}_j\\|_2^2 = \\sum\\limits_{i=1}^n X_{ij}^2$\n",
    "\n",
    "From line 19 - Soft Thresholding Update:\n",
    "$$\\theta_j^{(t+1)} = \\begin{cases}\n",
    "    \\frac{\\rho_j + \\lambda}{z_j} & \\text{if } \\rho_j < -\\lambda \\\\\n",
    "    0 & \\text{if } |\\rho_j| \\leq \\lambda \\\\\n",
    "    \\frac{\\rho_j - \\lambda}{z_j} & \\text{if } \\rho_j > \\lambda\n",
    "\\end{cases}$$\n",
    "\n",
    "Please note that we avoid additional sum loops by vectorization in the implementation"
   ]
  },
  {
   "cell_type": "code",
   "execution_count": null,
   "id": "97c02a11",
   "metadata": {
    "vscode": {
     "languageId": "r"
    }
   },
   "outputs": [],
   "source": [
    "#| label: lasso_vs_projected_solution_code_lasso\n",
    "lasso <- function(X, y, lambda, N){ \n",
    "    p = ncol(X)\n",
    "    theta = rep(1.0, p) # constant initialization\n",
    "\n",
    "    for(i in seq(N)){\n",
    "        # Pick coordinate j in a cyclic order: 1, 2, ..., p, 1, 2, ...\n",
    "        j = (i %% p)+1\n",
    "        \n",
    "        # We want mask theta so that it's zero only for j-th coordinate\n",
    "        # This way we compute the partial residual: y - X (without j) * theta (without j) \n",
    "        mask = rep(1, p)\n",
    "        mask[j] = 0.0\n",
    "        \n",
    "        partial_residual = y - X %*% (theta * mask)\n",
    "        rho_j = X[,j] %*% partial_residual\n",
    "        z_j = sum(X[,j]^2)\n",
    "    \n",
    "        if (rho_j < -lambda) {\n",
    "            theta[j] = (rho_j + lambda)/z_j\n",
    "        } else if (rho_j > lambda) {\n",
    "            theta[j] = (rho_j - lambda)/z_j\n",
    "        } else {\n",
    "            theta[j] = 0\n",
    "        }\n",
    "    }\n",
    "    return(theta)\n",
    "}"
   ]
  },
  {
   "cell_type": "markdown",
   "id": "e634821f",
   "metadata": {},
   "source": [
    "#| label: comparion\n",
    "## Comparison of Lasso and Projected Lasso\n",
    "The code below was provided in the exercise for comparing the 2 approaches in true parameter identification"
   ]
  },
  {
   "cell_type": "code",
   "execution_count": 14,
   "id": "691f2624",
   "metadata": {
    "vscode": {
     "languageId": "r"
    }
   },
   "outputs": [
    {
     "data": {
      "image/png": "[encoded data removed]",
      "text/plain": [
       "plot without title"
      ]
     },
     "metadata": {
      "image/png": {
       "height": 420,
       "width": 420
      }
     },
     "output_type": "display_data"
    }
   ],
   "source": [
    "# | label: lasso_vs_projected_solution_code_comparison\n",
    "\n",
    "# Bessel corrected Root Mean Square Error (RMSE)\n",
    "corrected_rmses = data.frame(corrected_rmse = numeric(), projected = factor())\n",
    "\n",
    "p = 10  # Num coefficients\n",
    "n = 100 # Num samples\n",
    "\n",
    "num_optim_steps = 400 # Coord updates for lasso\n",
    "\n",
    "sigma_noise  = 0.1\n",
    "sigma_signal = 1.0\n",
    "\n",
    "lambda = 1 # L1 penalty\n",
    "\n",
    "num_reruns = 100 # Monte Carlo reruns\n",
    "\n",
    "for(i in seq(num_reruns)){\n",
    "    X = matrix(rnorm(n*p, sd=sigma_signal), nrow=n)\n",
    "\n",
    "    theta_true = rnorm(p)\n",
    "    # Randomly setting ~70% of coefficients to zero\n",
    "    idx = rbinom(p, 1, 0.7)\n",
    "    theta_true[which(idx == 1)] = 0\n",
    "  \n",
    "    # Linear signal plus Gaussian noise\n",
    "    y = X %*% theta_true + rnorm(n, sd=sigma_noise) \n",
    "  \n",
    "    theta_proj_lasso = proj_orth_lasso(X, y, lambda)\n",
    "    theta_regular_lasso = lasso(X, y, lambda, num_optim_steps)\n",
    "\n",
    "    corrected_rmses_proj_lasso    = n/(n-1)*sd(theta_proj_lasso - theta_true)\n",
    "    corrected_rmses_regular_lasso = n/(n-1)*sd(theta_regular_lasso - theta_true)\n",
    "\n",
    "    corrected_rmses = rbind(\n",
    "        corrected_rmses, \n",
    "        data.frame(corrected_rmse=corrected_rmses_proj_lasso, \n",
    "                   projected=factor(\"yes\", levels=c(\"yes\", \"no\")))\n",
    "        )\n",
    "\n",
    "    corrected_rmses = rbind(\n",
    "        corrected_rmses, \n",
    "        data.frame(corrected_rmse=corrected_rmses_regular_lasso, \n",
    "                   projected=factor(\"no\", levels=c(\"yes\", \"no\")))\n",
    "        )\n",
    "}\n",
    "\n",
    "ggplot(corrected_rmses) +\n",
    "    geom_boxplot(aes(y = corrected_rmse, fill = projected)) +\n",
    "    ylab(expression(sqrt(Sigma~(hat(theta)[j]-theta[\"j,true\"])^2/p)))"
   ]
  },
  {
   "cell_type": "markdown",
   "id": "37ee2210",
   "metadata": {},
   "source": [
    "label: lasso_vs_projected_interpretation\n",
    "### Interpretation of Results\n",
    "\n",
    "In this simulation, the true parameter vector is sparse in its original coordinate system. Hence, as expected, the regular Lasso regression outperforms the projected approach on average when identifying the true parameters in this scenario."
   ]
  },
  {
   "cell_type": "markdown",
   "id": "0e3c5d1f",
   "metadata": {},
   "source": [
    "label: full_code\n",
    "## Full code"
   ]
  },
  {
   "cell_type": "code",
   "execution_count": 15,
   "id": "1b486a74",
   "metadata": {
    "vscode": {
     "languageId": "r"
    }
   },
   "outputs": [
    {
     "data": {
      "image/png": "[encoded data removed]",
      "text/plain": [
       "plot without title"
      ]
     },
     "metadata": {
      "image/png": {
       "height": 420,
       "width": 420
      }
     },
     "output_type": "display_data"
    }
   ],
   "source": [
    "#| label: full_code\n",
    "library(matlib)\n",
    "library(ggplot2)\n",
    "set.seed(2)\n",
    "\n",
    "# for a recap see subexercise b)\n",
    "proj_orth_lasso <- function(X, y, lambda){ \n",
    "    # compute X_tilde\n",
    "    # Decomposing X^T X = V D V^T (calculating eigenvalues and eigenvectors)\n",
    "    eigen_v = eigen(t(X) %*% X) \n",
    "\n",
    "    # A = V D^{-0.5}; X_tilde = X A\n",
    "    A = eigen_v$vectors %*% diag(eigen_v$values^(-0.5))\n",
    "    X_tilde = X %*% A\n",
    "  \n",
    "    \n",
    "    # compute analytical solution for X_tilde\n",
    "    proj_theta_ols = t(X_tilde) %*% y\n",
    "    proj_theta_star = sign(proj_theta_ols) * ifelse(abs(proj_theta_ols) - lambda > 0, \n",
    "                                                    abs(proj_theta_ols) - lambda, 0)\n",
    "    \n",
    "    theta_star = A %*% proj_theta_star\n",
    "    return(c(theta_star))\n",
    "}\n",
    "\n",
    "\n",
    "lasso <- function(X, y, lambda, N){\n",
    "    p = ncol(X)\n",
    "    theta = rep(1.0, p) # just constant initialization\n",
    "\n",
    "    for(i in seq(N)){\n",
    "        # Pick coordinate j in a cyclic order: 1, 2, ..., p, 1, 2, ...\n",
    "        j = (i %% p)+1\n",
    "        \n",
    "        # We want mask theta so that it's zero only for j-th coordinate\n",
    "        # This way we compute the partial residual: y - X (without j) * theta (without j) \n",
    "        mask = rep(1, p)\n",
    "        mask[j] = 0.0\n",
    "        \n",
    "        partial_residual = y - X %*% (theta * mask)\n",
    "        rho_j = X[,j] %*% partial_residual\n",
    "        z_j = sum(X[,j]^2)\n",
    "    \n",
    "        theta[j] = ifelse(rho_j < -lambda, (rho_j + lambda)/z_j,\n",
    "                   ifelse(rho_j > lambda,  (rho_j - lambda)/z_j, 0))\n",
    "    }\n",
    "    return(theta)\n",
    "}\n",
    "\n",
    "# ----------- No need to make changes in the code below -----------\n",
    "# Bessel corrected Root Mean Square Error (RMSE)\n",
    "corrected_rmses = data.frame(corrected_rmse = numeric(), projected = factor())\n",
    "\n",
    "p = 10  # Num coefficients\n",
    "n = 100 # Num samples\n",
    "\n",
    "num_optim_steps = 400 # Coord updates for lasso\n",
    "\n",
    "sigma_noise  = 0.1\n",
    "sigma_signal = 1.0\n",
    "\n",
    "lambda = 1 # L1 penalty\n",
    "\n",
    "num_reruns = 100 # Monte Carlo reruns\n",
    "\n",
    "for(i in seq(num_reruns)){\n",
    "    X = matrix(rnorm(n*p, sd=sigma_signal), nrow=n)\n",
    "\n",
    "    theta_true = rnorm(p)\n",
    "    # Randomly setting ~70% of coefficients to zero\n",
    "    idx = rbinom(p, 1, 0.7)\n",
    "    theta_true[which(idx == 1)] = 0\n",
    "  \n",
    "    # Linear signal plus Gaussian noise\n",
    "    y = X %*% theta_true + rnorm(n, sd=sigma_noise) \n",
    "  \n",
    "    theta_proj_lasso = proj_orth_lasso(X, y, lambda)\n",
    "    theta_regular_lasso = lasso(X, y, lambda, num_optim_steps)\n",
    "\n",
    "    corrected_rmses_proj_lasso    = n/(n-1)*sd(theta_proj_lasso - theta_true)\n",
    "    corrected_rmses_regular_lasso = n/(n-1)*sd(theta_regular_lasso - theta_true)\n",
    "\n",
    "    corrected_rmses = rbind(\n",
    "        corrected_rmses, \n",
    "        data.frame(corrected_rmse=corrected_rmses_proj_lasso, \n",
    "                   projected=factor(\"yes\", levels=c(\"yes\", \"no\")))\n",
    "        )\n",
    "\n",
    "    corrected_rmses = rbind(\n",
    "        corrected_rmses, \n",
    "        data.frame(corrected_rmse=corrected_rmses_regular_lasso, \n",
    "                   projected=factor(\"no\", levels=c(\"yes\", \"no\")))\n",
    "        )\n",
    "}\n",
    "\n",
    "ggplot(corrected_rmses) +\n",
    "    geom_boxplot(aes(y = corrected_rmse, fill = projected)) +\n",
    "    ylab(expression(sqrt(Sigma~(hat(theta)[j]-theta[\"j,true\"])^2/p)))"
   ]
  }
 ],
 "metadata": {
  "kernelspec": {
   "display_name": "R",
   "language": "R",
   "name": "ir"
  },
  "language_info": {
   "codemirror_mode": "r",
   "file_extension": ".r",
   "mimetype": "text/x-r-source",
   "name": "R",
   "pygments_lexer": "r",
   "version": "4.4.1"
  }
 },
 "nbformat": 4,
 "nbformat_minor": 5
}
