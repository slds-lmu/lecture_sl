{
 "cells": [
  {
   "cell_type": "raw",
   "id": "0e6afa50",
   "metadata": {
    "vscode": {
     "languageId": "raw"
    }
   },
   "source": [
    "---\n",
    "title: \"R - Regularization - Exercise 1\"\n",
    "---"
   ]
  },
  {
   "cell_type": "markdown",
   "id": "0d4d09da",
   "metadata": {},
   "source": [
    "<a href=\"INSERT_colab_R_link\" target=\"_parent\"><img src=\"https://colab.research.google.com/assets/colab-badge.svg\" alt=\"Open In Colab\"/></a>"
   ]
  },
  {
   "cell_type": "markdown",
   "id": "f78cfe51",
   "metadata": {
    "vscode": {
     "languageId": "raw"
    }
   },
   "source": [
    "#| label: exercise_2_a\n",
    "\n",
    "# Exercise 2 (a)\n",
    "Simulate a data set with $n = 100$ observations based on the relationship $y = \\sin(x_1) + \\varepsilon$ with noise term $\\varepsilon$ following some distribution. Simulate $p=100$ additional covariates $x_2,\\ldots,x_{101}$ that are not related to $y$.\n"
   ]
  },
  {
   "cell_type": "markdown",
   "id": "af574691",
   "metadata": {},
   "source": [
    "#| label: install_packages\n",
    "\n",
    "## Packages\n",
    "If you want to reproduce the results, you'll need to install the following packages\n",
    "```r\n",
    "install.packages(c(\"glmnet\", \"dplyr\", \"keras\", \"caret\"))\n",
    "```\n",
    "TODO Maybe remove caret"
   ]
  },
  {
   "cell_type": "markdown",
   "id": "839fb2d6",
   "metadata": {},
   "source": [
    "#| label: generating_data\n",
    "\n",
    "## Generating the data"
   ]
  },
  {
   "cell_type": "code",
   "execution_count": 1,
   "id": "50ab06d2",
   "metadata": {
    "vscode": {
     "languageId": "r"
    }
   },
   "outputs": [
    {
     "name": "stdout",
     "output_type": "stream",
     "text": [
      "X shape: 100 101 \n",
      "y shape: 100"
     ]
    }
   ],
   "source": [
    "#| label: data_generation\n",
    "\n",
    "set.seed(509)  # for reproducibility\n",
    "\n",
    "num_points = 100\n",
    "num_additional_covs = 100\n",
    "\n",
    "# the reader may find it interesting to play around with the noise amount\n",
    "noise_amount = 0.3\n",
    "\n",
    "# create matrix of features\n",
    "X = matrix(rnorm(num_points * (num_additional_covs + 1)), \n",
    "    nrow = num_points, ncol = num_additional_covs + 1)\n",
    "\n",
    "y = sin(X[,1]) + rnorm(num_points, sd = noise_amount)\n",
    "\n",
    "cat(\"X shape:\", dim(X), \"\\n\")\n",
    "cat(\"y shape:\", length(y))"
   ]
  },
  {
   "cell_type": "markdown",
   "id": "63d36b7a",
   "metadata": {},
   "source": [
    "### Visualizing the relationships\n",
    "Let's see the relationships of $y$ with $x_1$ and an unrelated covariate $x_2$"
   ]
  },
  {
   "cell_type": "code",
   "execution_count": null,
   "id": "760b91ad",
   "metadata": {
    "vscode": {
     "languageId": "r"
    }
   },
   "outputs": [
    {
     "data": {
      "image/png": "[encoded data removed]",
      "text/plain": [
       "Plot with title \"y vs X[,2] (random)\""
      ]
     },
     "metadata": {
      "image/png": {
       "height": 420,
       "width": 420
      }
     },
     "output_type": "display_data"
    }
   ],
   "source": [
    "#| label: visualizing_relationships\n",
    "par(mfrow = c(1, 2))\n",
    "\n",
    "# Plot 1: y vs X[,1] (sinusoidal relationship with small noise)\n",
    "plot(X[,1], y, main = \"y vs X[,1] (sinusoidal)\", \n",
    "     xlab = \"X[,1]\", ylab = \"y\")\n",
    "\n",
    "# Plot 2: y vs X[,2] (random)\n",
    "plot(X[,2], y, main = \"y vs X[,2] (random)\", \n",
    "     xlab = \"X[,2]\", ylab = \"y\")\n",
    "\n",
    "par(mfrow = c(1, 1))"
   ]
  },
  {
   "cell_type": "markdown",
   "id": "fd12cd68",
   "metadata": {},
   "source": [
    "#| label: exercise_2_b\n",
    "\n",
    "# Exercise 2 (b)\n",
    "On this data set, use different models (and software packages) of your choice to demonstrate\n",
    "\n",
    "* overfitting and underfitting;\n",
    "* L1, L2 and elastic net regularization;\n",
    "* the underdetermined problem;\n",
    "* the bias-variance trade-off;\n",
    "* early stopping using a simple neural network."
   ]
  },
  {
   "cell_type": "markdown",
   "id": "26cb0408",
   "metadata": {},
   "source": [
    "#| label: under_over_fitting_intro\n",
    "\n",
    "## Underfitting and Overfitting\n",
    "Let's try to approximate the (sinusoidal) relationship between $y$ and $x_1$ with:\n",
    "\n",
    "1) a simple linear model \n",
    "2) a polynomial model of degree 7. \n",
    "\n",
    "Also, in order for us to see the effects of under/over-fitting not only visually but also numerically, lets split the data into training and test sets and calculate the training and test errors for each model."
   ]
  },
  {
   "cell_type": "markdown",
   "id": "ac8d82f3",
   "metadata": {},
   "source": [
    "#| label: imports_and_splitting\n",
    "\n",
    "### Imports and Splitting the Data\n"
   ]
  },
  {
   "cell_type": "code",
   "execution_count": null,
   "id": "03380416",
   "metadata": {
    "vscode": {
     "languageId": "r"
    }
   },
   "outputs": [],
   "source": [
    "#| label: imports_and_splitting\n",
    "library(caret)\n",
    "set.seed(509)\n",
    "\n",
    "x_1 = X[, 1]\n",
    "\n",
    "train_indices = createDataPartition(y, p = 0.8, list = FALSE)\n",
    "\n",
    "X_train = x_1[train_indices]\n",
    "X_test  = x_1[-train_indices]\n",
    "y_train = y[train_indices]\n",
    "y_test  = y[-train_indices]\n",
    "\n",
    "train_df = data.frame(y = y_train, x = X_train)\n",
    "test_df  = data.frame(x = X_test)"
   ]
  },
  {
   "cell_type": "markdown",
   "id": "94e4d843",
   "metadata": {},
   "source": [
    "#| label: underfitting_demo\n",
    "\n",
    "### Underfitting demonstration"
   ]
  },
  {
   "cell_type": "markdown",
   "id": "1c0a9c4c",
   "metadata": {},
   "source": [
    "#| label: lin_reg_fit_and_eval\n",
    "\n",
    "#### Fitting Linear Regression and Evaluating the Model"
   ]
  },
  {
   "cell_type": "code",
   "execution_count": 5,
   "id": "d27324f9",
   "metadata": {
    "vscode": {
     "languageId": "r"
    }
   },
   "outputs": [
    {
     "name": "stdout",
     "output_type": "stream",
     "text": [
      "Simple Linear Regression\n",
      "Train MSE: 0.1791\n",
      "Test  MSE: 0.2415\n",
      "Test error is higher by 34.79%\n"
     ]
    }
   ],
   "source": [
    "#| label: lin_reg_fit_and_eval\n",
    "lin_reg <- lm(y ~ x, data = train_df)\n",
    "\n",
    "y_train_pred = predict(lin_reg)\n",
    "y_test_pred = predict(lin_reg, newdata = test_df)\n",
    "\n",
    "train_mse = mean((y_train - y_train_pred)^2)\n",
    "test_mse = mean((y_test - y_test_pred)^2)\n",
    "\n",
    "cat(\"Simple Linear Regression\\n\")\n",
    "cat(sprintf(\"Train MSE: %.4f\\n\", train_mse))\n",
    "cat(sprintf(\"Test  MSE: %.4f\\n\", test_mse))\n",
    "cat(sprintf(\"Test error is higher by %.2f%%\\n\", ((test_mse - train_mse) / train_mse) * 100))"
   ]
  },
  {
   "cell_type": "markdown",
   "id": "ed02a2d8",
   "metadata": {},
   "source": [
    "#| label: lin_reg_interpretation\n",
    "#### Linear Regression Train/Test Error Interpretation\n",
    "\n",
    "The error on the unseen data is significantly higher then the error on the training set which may indicate that the model is overfitting, but we must first ask ourselves whether or not the results on the training set are actually good. If the training error is significantly higher than the Bayes risk (i.e. the minimum possible error), then we may be underfitting the data.\n",
    "\n",
    "Visual inspection will help us here as well:"
   ]
  },
  {
   "cell_type": "markdown",
   "id": "c464d745",
   "metadata": {},
   "source": [
    "#| label: lin_reg_visual_inspection\n",
    "\n",
    "#### Linear Regression Visual Inspection"
   ]
  },
  {
   "cell_type": "code",
   "execution_count": null,
   "id": "facf1468",
   "metadata": {
    "vscode": {
     "languageId": "r"
    }
   },
   "outputs": [
    {
     "data": {
      "image/png": "[encoded data removed]",
      "text/plain": [
       "Plot with title \"Linear Regression: Underfitting\""
      ]
     },
     "metadata": {
      "image/png": {
       "height": 420,
       "width": 420
      }
     },
     "output_type": "display_data"
    }
   ],
   "source": [
    "#| label: lin_reg_visual_inspection\n",
    "plot(x_1, y, main = \"Linear Regression: Underfitting\", xlab = \"X[,1]\", ylab = \"y\")\n",
    "\n",
    "# noiseless DGP (Data Generating Process)\n",
    "x_vals = seq(-2, 2, length.out = 100)\n",
    "y_vals = sin(x_vals)\n",
    "lines(x_vals, y_vals, col = \"red\", lwd = 2)\n",
    "\n",
    "# simple linear regression prediction\n",
    "y_pred = predict(lin_reg, newdata = data.frame(x = x_vals))\n",
    "lines(x_vals, y_pred, col = \"blue\", lwd = 2)\n",
    "\n",
    "legend(\"topleft\", \n",
    "    legend = c(\"Data\", \"sin(x) (noiseless DGP)\", \"Simple Linear Regression\"), \n",
    "    col = c(\"black\", \"blue\", \"red\"), \n",
    "    lty = c(NA, 1, 1), \n",
    "    pch = c(1, NA, NA), \n",
    "    lwd = c(NA, 2, 2))"
   ]
  },
  {
   "cell_type": "markdown",
   "id": "253c395a",
   "metadata": {},
   "source": [
    "#| label: lin_reg_plot_interpretation\n",
    "\n",
    "#### Linear Regression Plot Interpretation\n",
    "By plotting the predictions against the actual data and the $\\sin x$ function (noiseless DGP) we can see that the model lacks complexity $\\Rightarrow$ suffers from underfitting problem."
   ]
  },
  {
   "cell_type": "markdown",
   "id": "a8c6f8a8",
   "metadata": {},
   "source": [
    "#| label: overfitting_demo\n",
    "\n",
    "### Overfitting demonstration"
   ]
  },
  {
   "cell_type": "markdown",
   "id": "29122b1c",
   "metadata": {},
   "source": [
    "#| label: poly_reg_fit_and_eval\n",
    "\n",
    "#### Fitting Polynomial Regression and Evaluating the Model"
   ]
  },
  {
   "cell_type": "code",
   "execution_count": 8,
   "id": "8ce21867",
   "metadata": {
    "vscode": {
     "languageId": "r"
    }
   },
   "outputs": [
    {
     "name": "stderr",
     "output_type": "stream",
     "text": [
      "Warning message in predict.lm(poly_reg, newdata = data.frame(X_train_poly = I(X_test_poly))):\n",
      "\"prediction from rank-deficient fit; attr(*, \"non-estim\") has doubtful cases\"\n"
     ]
    },
    {
     "name": "stdout",
     "output_type": "stream",
     "text": [
      "\n",
      "Polynomial Regression (degree=50)\n",
      "Train MSE: 0.0685\n",
      "Test  MSE: 1799797.4732\n",
      "Test error is higher by 2626076709.95%\n"
     ]
    }
   ],
   "source": [
    "#| label: poly_reg_fit_and_eval\n",
    "poly_degree = 50\n",
    "\n",
    "# Creating our design matrix for the polynomial regression\n",
    "X_train_poly = poly(X_train, degree = poly_degree, raw = TRUE)\n",
    "X_test_poly = predict(X_train_poly, X_test)\n",
    "\n",
    "# don't get confused by the model name, we are fitting it on the transformed data)\n",
    "poly_reg = lm(y_train ~ X_train_poly)\n",
    "\n",
    "y_train_pred = predict(poly_reg)\n",
    "y_test_pred = predict(poly_reg, newdata = data.frame(X_train_poly = I(X_test_poly)))\n",
    "\n",
    "train_mse = mean((y_train - y_train_pred)^2)\n",
    "test_mse = mean((y_test - y_test_pred)^2)\n",
    "\n",
    "cat(\"\\nPolynomial Regression (degree=50)\\n\")\n",
    "cat(sprintf(\"Train MSE: %.4f\\n\", train_mse))\n",
    "cat(sprintf(\"Test  MSE: %.4f\\n\", test_mse))\n",
    "cat(sprintf(\"Test error is higher by %.2f%%\\n\", ((test_mse - train_mse) / train_mse) * 100))"
   ]
  },
  {
   "cell_type": "markdown",
   "id": "4dfdc02f",
   "metadata": {},
   "source": [
    "#| label: poly_reg_interpretation\n",
    "\n",
    "#### Polynomial Regression Train/Test Error Interpretation\n",
    "\n",
    "Test error is undescribably higher than the training error, this is a clear sign of overfitting. The model is too complex for the data and it has learned the noise in the training set.\n",
    "\n",
    "Let's see this visually:"
   ]
  },
  {
   "cell_type": "markdown",
   "id": "cf085a70",
   "metadata": {},
   "source": [
    "#| label: poly_reg_visual_inspection\n",
    "\n",
    "#### Polynomial Regression Visual Inspection"
   ]
  },
  {
   "cell_type": "code",
   "execution_count": null,
   "id": "0864f246",
   "metadata": {
    "vscode": {
     "languageId": "r"
    }
   },
   "outputs": [
    {
     "name": "stderr",
     "output_type": "stream",
     "text": [
      "Warning message in predict.lm(poly_reg, newdata = data.frame(X_train_poly = I(x_vals_poly))):\n",
      "\"prediction from rank-deficient fit; attr(*, \"non-estim\") has doubtful cases\"\n"
     ]
    },
    {
     "data": {
      "image/png": "[encoded data removed]",
      "text/plain": [
       "Plot with title \"Polynomial Regression: Overfitting\""
      ]
     },
     "metadata": {
      "image/png": {
       "height": 420,
       "width": 420
      }
     },
     "output_type": "display_data"
    }
   ],
   "source": [
    "#| label: poly_reg_visual_inspection\n",
    "plot(x_1, y, main = \"Polynomial Regression: Overfitting\", xlab = \"X[,1]\", ylab = \"y\", ylim = c(-2, 2))\n",
    "\n",
    "# noiseless DGP\n",
    "x_vals = seq(-2, 2, length.out = 100)\n",
    "y_vals = sin(x_vals)\n",
    "lines(x_vals, y_vals, col = \"blue\", lwd = 2)\n",
    "\n",
    "# polynomial regression prediction\n",
    "x_vals_poly = poly(x_vals, degree = poly_degree, raw = TRUE)\n",
    "y_pred = predict(poly_reg, newdata = data.frame(X_train_poly = I(x_vals_poly)))\n",
    "\n",
    "lines(x_vals, y_pred, col = \"red\", lwd = 2)\n",
    "\n",
    "legend(\"topleft\", legend = c(\"Data\", \"sin(x)\", \n",
    "    paste0(\"Polynomial Regression (degree=\", poly_degree, \")\")), \n",
    "    col = c(\"black\", \"blue\", \"red\"), lty = c(NA, 1, 1), pch = c(1, NA, NA), lwd = c(NA, 2, 2))"
   ]
  },
  {
   "cell_type": "markdown",
   "id": "ba4e78c3",
   "metadata": {},
   "source": [
    "#| label: poly_reg_plot_interpretation\n",
    "\n",
    "#### Polynomial Regression Plot Interpretation\n",
    "By looking at the predictions for the points around -1.3 we can nicely see how much the model bends to pass through the training data points, and learns the noise instead of the actual pattern.\n",
    "\n",
    "The reader may find it interesting to decrease the degree of the polynomial to make the demonstration less extreme, and for degree = 7 you may even notice that the train/test errors alone indicate less overfitting than in the case of simple linear regression.\n",
    "\n",
    "Also, we encourage the reader to try to find the optimal degree of the polynomial."
   ]
  },
  {
   "cell_type": "markdown",
   "id": "d4f817d0",
   "metadata": {},
   "source": [
    "#| label: regularization_demo\n",
    "\n",
    "## L1, L2 and Elastic Net Regularization\n",
    "\n",
    "Now let's demonstrate different types of regularization techniques and observe how they affect the coefficient paths (for each hyperparameter lambda the resulting model's coefficients)."
   ]
  },
  {
   "cell_type": "markdown",
   "id": "d365eb12",
   "metadata": {},
   "source": [
    "#| label: regularization_helper_function_R\n",
    "### Helper Function for Plotting Regularization Paths\n",
    "\n",
    "Here `glmnet`'s functionality is used. By setting the `alpha` parameter to 1, 0 or something in between we can get the Lasso, Ridge or Elastic Net regularization paths respectively."
   ]
  },
  {
   "cell_type": "markdown",
   "id": "43fe9221",
   "metadata": {},
   "source": [
    "#| label: l1_lasso_regularization\n",
    "\n",
    "## L1 (Lasso) Regularization\n",
    "\n",
    "For small lambda values (weak penalization) we can see that the uninformative covariates do have non-zero coefficients, but by increasing the lambda they eventually go to **exactly** zero. However, when we penalize the coefficients too strongly, the coefficient of $x_1$ also goes to zero, which is bad, since $x_1$ is actually informative."
   ]
  },
  {
   "cell_type": "code",
   "execution_count": null,
   "id": "082d1405",
   "metadata": {
    "vscode": {
     "languageId": "r"
    }
   },
   "outputs": [
    {
     "data": {
      "image/png": "[encoded data removed]",
      "text/plain": [
       "plot without title"
      ]
     },
     "metadata": {
      "image/png": {
       "height": 420,
       "width": 420
      }
     },
     "output_type": "display_data"
    }
   ],
   "source": [
    "#| label: l1_lasso_plot \n",
    "library(glmnet)\n",
    "plot(glmnet(X, y, alpha=1), xvar = \"lambda\")"
   ]
  },
  {
   "cell_type": "markdown",
   "id": "275efa3e",
   "metadata": {},
   "source": [
    "#| label: l2_ridge_regularization\n",
    "\n",
    "## L2 (Ridge) Regularization\n",
    "\n",
    "A few differences from the Lasso plot above:\n",
    "\n",
    "- The lambda values are much bigger here (smallest being around $10^4$ instead of $10^{-3}$)\n",
    "- As a result we also see that the coefficients are much smaller (0.0001 instead of 0.65)\n",
    "- Also, most importantly the coefficients **do not go to zero**, but rather to very small values. The Lasso performs feature selection, while the Ridge does not. "
   ]
  },
  {
   "cell_type": "code",
   "execution_count": null,
   "id": "8bcd748c",
   "metadata": {
    "vscode": {
     "languageId": "r"
    }
   },
   "outputs": [
    {
     "data": {
      "image/png": "[encoded data removed]",
      "text/plain": [
       "plot without title"
      ]
     },
     "metadata": {
      "image/png": {
       "height": 420,
       "width": 420
      }
     },
     "output_type": "display_data"
    }
   ],
   "source": [
    "#| label: l2_ridge_plot\n",
    "plot(glmnet(X, y, alpha = 0), xvar = \"lambda\")"
   ]
  },
  {
   "cell_type": "markdown",
   "id": "2761ee77",
   "metadata": {},
   "source": [
    "#| label: elastic_net_regularization\n",
    "\n",
    "## Elastic Net Regularization (with alpha = 0.3)\n",
    "\n",
    "This approach is somewhere in-between the two above - lambda values are bigger than Lasso, but not as big as Ridge."
   ]
  },
  {
   "cell_type": "code",
   "execution_count": null,
   "id": "2cabffbf",
   "metadata": {
    "vscode": {
     "languageId": "r"
    }
   },
   "outputs": [
    {
     "data": {
      "image/png": "[encoded data removed]",
      "text/plain": [
       "plot without title"
      ]
     },
     "metadata": {
      "image/png": {
       "height": 420,
       "width": 420
      }
     },
     "output_type": "display_data"
    }
   ],
   "source": [
    "#| label: elastic_net_plot\n",
    "plot(glmnet(X, y, alpha = 0.3), xvar = \"lambda\")\n"
   ]
  },
  {
   "cell_type": "markdown",
   "id": "f08e7f99",
   "metadata": {},
   "source": [
    "#| label: regularization_comparison_note\n",
    "\n",
    "### Comparing Regularization Methods\n",
    "\n",
    "The reader may find it interesting to compare the plots for the same lambda values across different regularization techniques."
   ]
  },
  {
   "cell_type": "markdown",
   "id": "2863bfd2",
   "metadata": {},
   "source": [
    "#| label: underdetermined_problem\n",
    "\n",
    "## The Underdetermined Problem\n",
    "\n",
    "As a reminder, we can obtain an analytic solution for a linear regression model with Mean Squared Error (MSE) loss by solving the normal equations \n",
    "$$\n",
    "\\beta = (X^TX)^{-1}X^TY\n",
    "$$\n",
    "\n",
    "The **underdetermined problem** arises when we have more covariates than observations, because in that case then the design matrix ($X$) is not full rank $\\Rightarrow$ the inverse of the $X^T X$ does not exist $\\Rightarrow$ we cannot solve the normal equations."
   ]
  },
  {
   "cell_type": "code",
   "execution_count": 27,
   "id": "cf56f0e1",
   "metadata": {
    "vscode": {
     "languageId": "r"
    }
   },
   "outputs": [
    {
     "name": "stdout",
     "output_type": "stream",
     "text": [
      "X shape: 100 101 \n",
      "Determinant of X^T X: -3.181522e+144 \n"
     ]
    }
   ],
   "source": [
    "#| label: check_x_shape_determinant\n",
    "cat(\"X shape:\", dim(X), \"\\n\")\n",
    "\n",
    "# We have more covariates than samples, but practically this does not imply \n",
    "# that we have a zero determinant \n",
    "cat(\"Determinant of X^T X:\", det(t(X) %*% X), \"\\n\")"
   ]
  },
  {
   "cell_type": "code",
   "execution_count": 28,
   "id": "4be5c578",
   "metadata": {
    "vscode": {
     "languageId": "r"
    }
   },
   "outputs": [
    {
     "name": "stdout",
     "output_type": "stream",
     "text": [
      "Determinant of X_head^T X_head: 0 \n"
     ]
    }
   ],
   "source": [
    "#| label: underdetermined_fewer_samples\n",
    "\n",
    "# Let's select even fewer samples to demonstrate the underdetermined problem\n",
    "X_head = X[1:10, ]\n",
    "y_head = Y[1:10]\n",
    "\n",
    "cat(\"Determinant of X_head^T X_head:\", det(t(X_head) %*% X_head), \"\\n\")"
   ]
  },
  {
   "cell_type": "markdown",
   "id": "7465c69e",
   "metadata": {},
   "source": [
    "#| label: calc_xt_x_determinant\n",
    "\n",
    "Although we see that the determinant is zero, let's try to compute the inverse (although in practice we would obtain the analytic solution (for the normal equation) by solving the System of Linear Equations $X^TX\\beta = X^TY$, and avoiding the inverse altogether)."
   ]
  },
  {
   "cell_type": "code",
   "execution_count": 30,
   "id": "b118ce59",
   "metadata": {
    "vscode": {
     "languageId": "r"
    }
   },
   "outputs": [
    {
     "ename": "ERROR",
     "evalue": "Error in solve.default(t(X_head) %*% X_head): system is computationally singular: reciprocal condition number = 2.59398e-20\n",
     "output_type": "error",
     "traceback": [
      "Error in solve.default(t(X_head) %*% X_head): system is computationally singular: reciprocal condition number = 2.59398e-20\nTraceback:\n",
      "1. solve(t(X_head) %*% X_head)",
      "2. solve.default(t(X_head) %*% X_head)",
      "3. .handleSimpleError(function (cnd) \n . {\n .     watcher$capture_plot_and_output()\n .     cnd <- sanitize_call(cnd)\n .     watcher$push(cnd)\n .     switch(on_error, continue = invokeRestart(\"eval_continue\"), \n .         stop = invokeRestart(\"eval_stop\"), error = invokeRestart(\"eval_error\", \n .             cnd))\n . }, \"system is computationally singular: reciprocal condition number = 2.59398e-20\", \n .     base::quote(solve.default(t(X_head) %*% X_head)))"
     ]
    }
   ],
   "source": [
    "solve(t(X_head) %*% X_head)"
   ]
  },
  {
   "cell_type": "markdown",
   "id": "99a5e622",
   "metadata": {},
   "source": [
    "#| label: inverse_existence_explanation\n",
    "\n",
    "The code throws the error \"Error in solve.default(t(X_head) %*% X_head): system is computationally singular: reciprocal condition number = 2.59398e-20\" because the matrix is singular, meaning it does not have an inverse. \n",
    "\n",
    "The reader may find it interesting that the equivalent code in Python does produce an output (although it is mathematically impossible), since from the machine's perspective the matrix is not singular, because of the floating point approximations. The reader may dug deeper into the topic by following [this](https://stackoverflow.com/questions/28712734/numpy-possible-for-zero-determinant-matrix-to-be-inverted) Stack Overflow post. "
   ]
  },
  {
   "cell_type": "markdown",
   "id": "51398bb9",
   "metadata": {},
   "source": [
    "#| label: bias_variance_tradeoff\n",
    "\n",
    "## The Bias-Variance Trade-off\n",
    "\n",
    "Let's demonstrate the bias-variance trade-off by comparing polynomial models of different degrees."
   ]
  },
  {
   "cell_type": "code",
   "execution_count": 41,
   "id": "3f7b7c33",
   "metadata": {
    "vscode": {
     "languageId": "r"
    }
   },
   "outputs": [
    {
     "data": {
      "image/png": "[encoded data removed]",
      "text/plain": [
       "Plot with title \"Bias-Variance Trade-Off (Polynomials of different degrees)\""
      ]
     },
     "metadata": {
      "image/png": {
       "height": 420,
       "width": 420
      }
     },
     "output_type": "display_data"
    }
   ],
   "source": [
    "#| label: bias_variance_visualization\n",
    "\n",
    "x_1_vec = X[, 1]\n",
    "sorted_x_1 = sort(x_1_vec)\n",
    "\n",
    "degrees = c(1, 3, 15)\n",
    "colors = c(\"green\", \"yellow\", \"purple\")\n",
    "\n",
    "plot(x_1_vec, Y, col = rgb(0, 0, 0, 0.3), \n",
    "    main = \"Bias-Variance Trade-Off (Polynomials of different degrees)\")\n",
    "lines(sorted_x_1, sin(sorted_x_1), col = \"blue\", lwd = 2)\n",
    "\n",
    "for (i in 1:length(degrees)) {\n",
    "    deg = degrees[i]\n",
    "    col = colors[i]\n",
    "    \n",
    "    X_poly_tmp = poly(X[, 1], degree = deg, raw = TRUE)\n",
    "    \n",
    "    model_tmp = lm(Y ~ X_poly_tmp)\n",
    "    sorted_x1_poly_tmp = predict(poly(X[, 1], degree = deg, raw = TRUE), sorted_x_1)\n",
    "    \n",
    "    Y_poly_tmp = predict(model_tmp, newdata = data.frame(X_poly_tmp = I(sorted_x1_poly_tmp)))\n",
    "    lines(sorted_x_1, Y_poly_tmp, col = col, lwd = 2)\n",
    "}\n",
    "\n",
    "legend(\"topleft\", legend = c(\"Data\", \"Noiseless sin(x)\", paste0(\"Degree=\", degrees)), \n",
    "       col = c(\"black\", \"blue\", colors), lty = c(NA, 1, 1, 1, 1), \n",
    "       pch = c(1, NA, NA, NA, NA), lwd = c(NA, 2, 2, 2, 2))"
   ]
  },
  {
   "cell_type": "markdown",
   "id": "fa2570f2",
   "metadata": {},
   "source": [
    "#| label: bias_variance_interpretation\n",
    "\n",
    "### Interpreting the Bias-Variance Trade-off\n",
    "\n",
    "We can see that the green line (degree=1) is too simple and will have a underfitting (high bias) problem. On the other hand, the purple line (degree=15) is too complex and will have a overfitting (high variance) problem. The yellow line (degree=3) serves as a good compromise between the two.\n",
    "\n",
    "We invite the reader to experiment with different degrees of the polynomial, maybe additionally looking at train/test errors and tring to find the optimal degree."
   ]
  },
  {
   "cell_type": "markdown",
   "id": "0bc99f10",
   "metadata": {},
   "source": [
    "#| label: early_stopping_neural_network\n",
    "\n",
    "## Early Stopping using a Simple Neural Network\n",
    "\n",
    "First of all let's see how the model performs without early stopping."
   ]
  },
  {
   "cell_type": "code",
   "execution_count": 3,
   "id": "2c5b51cb",
   "metadata": {
    "vscode": {
     "languageId": "r"
    }
   },
   "outputs": [
    {
     "ename": "ERROR",
     "evalue": "Error in parse(text = input): <text>:2:5: unexpected symbol\n1: TODO:\n2: fix keras\n       ^\n",
     "output_type": "error",
     "traceback": [
      "Error in parse(text = input): <text>:2:5: unexpected symbol\n1: TODO:\n2: fix keras\n       ^\nTraceback:\n"
     ]
    }
   ],
   "source": [
    "TODO:\n",
    "fix keras issues"
   ]
  },
  {
   "cell_type": "code",
   "execution_count": 2,
   "id": "39c0a605",
   "metadata": {
    "vscode": {
     "languageId": "r"
    }
   },
   "outputs": [
    {
     "name": "stderr",
     "output_type": "stream",
     "text": [
      "Warning message:\n",
      "\"package 'reticulate' is in use and will not be installed\"\n",
      "Installing packages into 'C:/Users/hayk_/AppData/Local/R/win-library/4.4'\n",
      "(as 'lib' is unspecified)\n",
      "\n"
     ]
    },
    {
     "name": "stdout",
     "output_type": "stream",
     "text": [
      "package 'tensorflow' successfully unpacked and MD5 sums checked\n",
      "package 'keras' successfully unpacked and MD5 sums checked\n",
      "\n",
      "The downloaded binary packages are in\n",
      "\tC:\\Users\\hayk_\\AppData\\Local\\Temp\\RtmpQdHJHA\\downloaded_packages\n"
     ]
    },
    {
     "name": "stderr",
     "output_type": "stream",
     "text": [
      "* Installing Miniconda -- please wait a moment ...\n",
      "\n",
      "* Downloading \"https://repo.anaconda.com/miniconda/Miniconda3-latest-Windows-x86_64.exe\" ...\n",
      "\n",
      "+ \"C:\\Users\\hayk_\\AppData\\Local\\Temp\\RtmpQdHJHA\\Miniconda3-latest-Windows-x86_64.exe\" /InstallationType=JustMe /AddToPath=0 /RegisterPython=0 /NoRegistry=1 /S /D=C:\\Users\\hayk_\\AppData\\Local\\r-miniconda\n",
      "\n",
      "+ \"C:/Users/hayk_/AppData/Local/r-miniconda/condabin/conda.bat\" update --yes --name base conda\n",
      "\n",
      "+ \"C:/Users/hayk_/AppData/Local/r-miniconda/condabin/conda.bat\" create --yes --name r-reticulate \"python=3.10\" numpy --quiet -c conda-forge\n",
      "\n"
     ]
    },
    {
     "ename": "ERROR",
     "evalue": "Error: Error creating conda environment 'r-reticulate' [exit code 1]\n",
     "output_type": "error",
     "traceback": [
      "Error: Error creating conda environment 'r-reticulate' [exit code 1]\nTraceback:\n",
      "1. conda_create(\"r-reticulate\", packages = c(python, \"numpy\"), conda = conda)",
      "2. stopf(fmt, envname, result, call. = FALSE)",
      "3. stop(sprintf(fmt, ...), call. = call.)",
      "4. .handleSimpleError(function (cnd) \n . {\n .     watcher$capture_plot_and_output()\n .     cnd <- sanitize_call(cnd)\n .     watcher$push(cnd)\n .     switch(on_error, continue = invokeRestart(\"eval_continue\"), \n .         stop = invokeRestart(\"eval_stop\"), error = invokeRestart(\"eval_error\", \n .             cnd))\n . }, \"Error creating conda environment 'r-reticulate' [exit code 1]\", \n .     base::quote(NULL))"
     ]
    }
   ],
   "source": [
    "install.packages(c(\"reticulate\", \"tensorflow\", \"keras\"))\n",
    "\n",
    "library(reticulate)\n",
    "reticulate::install_miniconda(force=TRUE)          # installs an isolated Miniconda\n",
    "\n",
    "library(tensorflow)\n",
    "tensorflow::install_tensorflow()         # installs TF into the \"r-reticulate\" env\n",
    "# (keras::install_keras() also works; it wraps the same installer)\n"
   ]
  },
  {
   "cell_type": "code",
   "execution_count": 4,
   "id": "3d13fe0a",
   "metadata": {
    "vscode": {
     "languageId": "r"
    }
   },
   "outputs": [
    {
     "ename": "ERROR",
     "evalue": "Error in reticulate::use_condaenv(\"r-reticulate\", required = TRUE): Unable to locate conda environment 'r-reticulate'.\n",
     "output_type": "error",
     "traceback": [
      "Error in reticulate::use_condaenv(\"r-reticulate\", required = TRUE): Unable to locate conda environment 'r-reticulate'.\nTraceback:\n",
      "1. stop(\"Unable to locate conda environment '\", condaenv, \"'.\")",
      "2. .handleSimpleError(function (cnd) \n . {\n .     watcher$capture_plot_and_output()\n .     cnd <- sanitize_call(cnd)\n .     watcher$push(cnd)\n .     switch(on_error, continue = invokeRestart(\"eval_continue\"), \n .         stop = invokeRestart(\"eval_stop\"), error = invokeRestart(\"eval_error\", \n .             cnd))\n . }, \"Unable to locate conda environment 'r-reticulate'.\", base::quote(reticulate::use_condaenv(\"r-reticulate\", \n .     required = TRUE)))"
     ]
    }
   ],
   "source": [
    "library(reticulate)\n",
    "reticulate::use_condaenv(\"r-reticulate\", required = TRUE)  # point to the env\n",
    "reticulate::py_config()                                    # sanity check\n",
    "\n",
    "library(keras)\n",
    "library(tensorflow)\n"
   ]
  },
  {
   "cell_type": "code",
   "execution_count": 2,
   "id": "d73900b7",
   "metadata": {
    "vscode": {
     "languageId": "r"
    }
   },
   "outputs": [
    {
     "name": "stderr",
     "output_type": "stream",
     "text": [
      "\n",
      "Attaching package: 'dplyr'\n",
      "\n",
      "\n",
      "The following objects are masked from 'package:stats':\n",
      "\n",
      "    filter, lag\n",
      "\n",
      "\n",
      "The following objects are masked from 'package:base':\n",
      "\n",
      "    intersect, setdiff, setequal, union\n",
      "\n",
      "\n",
      "Warning message:\n",
      "\"package 'keras' was built under R version 4.4.3\"\n"
     ]
    },
    {
     "name": "stderr",
     "output_type": "stream",
     "text": [
      "Warning message in normalizePath(path.expand(path), winslash, mustWork):\n",
      "\"path[1]=\"C:/Users/hayk_/AppData/Local/R/cache/R/reticulate/uv/cache/builds-v0/.tmpxtcRGa/Scripts\": The system cannot find the path specified\"\n"
     ]
    },
    {
     "name": "stdout",
     "output_type": "stream",
     "text": [
      "Error : could not find a Python environment for C:/\n"
     ]
    },
    {
     "ename": "ERROR",
     "evalue": "Error: Installation of Python not found, Python bindings not loaded.\nSee the Python \"Order of Discovery\" here: https://rstudio.github.io/reticulate/articles/versions.html#order-of-discovery.\n",
     "output_type": "error",
     "traceback": [
      "Error: Installation of Python not found, Python bindings not loaded.\nSee the Python \"Order of Discovery\" here: https://rstudio.github.io/reticulate/articles/versions.html#order-of-discovery.\nTraceback:\n",
      "1. keras$models",
      "2. `$.python.builtin.module`(keras, \"models\")",
      "3. py_get_attr(x, name, TRUE)",
      "4. (function (required_module = NULL) \n . {\n .     if (is_python_initialized()) \n .         return()\n .     if (is_python_finalized()) \n .         stop(\"py_initialize() cannot be called more than once per R session or after py_finalize(). Please start a new R session.\")\n .     callback <- getOption(\"reticulate.python.beforeInitialized\")\n .     if (is.function(callback)) \n .         callback()\n .     if (!is.null(required_module)) \n .         register_delay_load_import(required_module)\n .     .globals$py_config <- initialize_python()\n .     .globals$delay_load_imports <- NULL\n .     remap_output_streams()\n .     set_knitr_python_stdout_hook()\n .     if (is_windows() && (is_rstudio() || is_positron())) \n .         import(\"rpytools.subprocess\")$patch_subprocess_Popen()\n .     py_inject_r()\n .     py_inject_hooks()\n .     configure_environment()\n .     callback <- getOption(\"reticulate.python.afterInitialized\")\n .     if (is.null(callback)) \n .         callback <- getOption(\"reticulate.initialized\")\n .     if (is.function(callback)) \n .         callback()\n .     call_init_hooks()\n . })()",
      "5. initialize_python()",
      "6. python_not_found(\"Installation of Python not found, Python bindings not loaded.\")",
      "7. stop(paste(msg, hint, sep = \"\\n\"), call. = FALSE)",
      "8. .handleSimpleError(function (cnd) \n . {\n .     watcher$capture_plot_and_output()\n .     cnd <- sanitize_call(cnd)\n .     watcher$push(cnd)\n .     switch(on_error, continue = invokeRestart(\"eval_continue\"), \n .         stop = invokeRestart(\"eval_stop\"), error = invokeRestart(\"eval_error\", \n .             cnd))\n . }, \"Installation of Python not found, Python bindings not loaded.\\nSee the Python \\\"Order of Discovery\\\" here: https://rstudio.github.io/reticulate/articles/versions.html#order-of-discovery.\", \n .     base::quote(NULL))"
     ]
    }
   ],
   "source": [
    "library(dplyr)\n",
    "library(keras)\n",
    "\n",
    "neural_network <- keras_model_sequential()\n",
    "\n",
    "neural_network %>% \n",
    "  layer_dense(units = 50, activation = \"relu\") %>%\n",
    "  layer_dense(units = 50, activation = \"relu\") %>%\n",
    "  layer_dense(units = 1, activation = \"relu\") %>%\n",
    "  compile(\n",
    "    optimizer = \"adam\",\n",
    "    loss      = \"mse\",\n",
    "    metric = \"mse\"\n",
    "  )\n",
    "\n",
    "history_minibatches <- fit(\n",
    "  object           = neural_network, \n",
    "  x                = X, \n",
    "  y                = Y,\n",
    "  batch_size       = 24, \n",
    "  epochs           = 100,\n",
    "  validation_split = 0.2,\n",
    "  callbacks = list(callback_early_stopping(patience = 50)),\n",
    "  verbose = FALSE, # set this to TRUE to get console output\n",
    "  view_metrics = FALSE # set this to TRUE to get a dynamic graphic output in RStudio\n",
    ")\n",
    "plot(history_minibatches)"
   ]
  },
  {
   "cell_type": "code",
   "execution_count": 26,
   "id": "29fcab3e",
   "metadata": {
    "vscode": {
     "languageId": "r"
    }
   },
   "outputs": [
    {
     "ename": "ERROR",
     "evalue": "Only input tensors may be passed as positional arguments. The following argument value should be passed as a keyword argument: <Sequential name=sequential_25, built=False> (of type <class 'keras.src.models.sequential.Sequential'>)",
     "output_type": "error",
     "traceback": [
      "Only input tensors may be passed as positional arguments. The following argument value should be passed as a keyword argument: <Sequential name=sequential_25, built=False> (of type <class 'keras.src.models.sequential.Sequential'>)Traceback:\n",
      "1. layer_dense(., units = 1, activation = \"linear\")",
      "2. create_layer(keras$layers$Dense, object, list(units = as.integer(units), \n .     activation = activation, use_bias = use_bias, kernel_initializer = kernel_initializer, \n .     bias_initializer = bias_initializer, kernel_regularizer = kernel_regularizer, \n .     bias_regularizer = bias_regularizer, activity_regularizer = activity_regularizer, \n .     kernel_constraint = kernel_constraint, bias_constraint = bias_constraint, \n .     input_shape = normalize_shape(input_shape), batch_input_shape = normalize_shape(batch_input_shape), \n .     batch_size = as_nullable_integer(batch_size), dtype = dtype, \n .     name = name, trainable = trainable, weights = weights))",
      "3. layer_dense(., units = 50, activation = \"relu\")",
      "4. create_layer(keras$layers$Dense, object, list(units = as.integer(units), \n .     activation = activation, use_bias = use_bias, kernel_initializer = kernel_initializer, \n .     bias_initializer = bias_initializer, kernel_regularizer = kernel_regularizer, \n .     bias_regularizer = bias_regularizer, activity_regularizer = activity_regularizer, \n .     kernel_constraint = kernel_constraint, bias_constraint = bias_constraint, \n .     input_shape = normalize_shape(input_shape), batch_input_shape = normalize_shape(batch_input_shape), \n .     batch_size = as_nullable_integer(batch_size), dtype = dtype, \n .     name = name, trainable = trainable, weights = weights))",
      "5. layer_dense(., units = 50, activation = \"relu\", input_shape = ncol(X_mat))",
      "6. create_layer(keras$layers$Dense, object, list(units = as.integer(units), \n .     activation = activation, use_bias = use_bias, kernel_initializer = kernel_initializer, \n .     bias_initializer = bias_initializer, kernel_regularizer = kernel_regularizer, \n .     bias_regularizer = bias_regularizer, activity_regularizer = activity_regularizer, \n .     kernel_constraint = kernel_constraint, bias_constraint = bias_constraint, \n .     input_shape = normalize_shape(input_shape), batch_input_shape = normalize_shape(batch_input_shape), \n .     batch_size = as_nullable_integer(batch_size), dtype = dtype, \n .     name = name, trainable = trainable, weights = weights))",
      "7. compose_layer(object, layer)",
      "8. compose_layer.default(object, layer)",
      "9. layer(object, ...)",
      "10. py_call_impl(callable, call_args$unnamed, call_args$named)",
      "11. stop(structure(list(message = \"ValueError: Only input tensors may be passed as positional arguments. The following argument value should be passed as a keyword argument: <Sequential name=sequential_25, built=False> (of type <class 'keras.src.models.sequential.Sequential'>)\\nRun `reticulate::py_last_error()` for details.\", \n  .     call = py_call_impl(callable, call_args$unnamed, call_args$named)), class = c(\"python.builtin.ValueError\", \n  . \"python.builtin.Exception\", \"python.builtin.BaseException\", \"python.builtin.object\", \n  . \"error\", \"condition\"), py_object = <environment>))"
     ]
    }
   ],
   "source": [
    "#| label: neural_network_early_stopping\n",
    "# TensorFlow is used for simplicity, in practice we may often prefer torch\n",
    "library(keras)\n",
    "library(tensorflow)\n",
    "\n",
    "set.seed(509)\n",
    "tf$random$set_seed(509L)\n",
    "\n",
    "# Ensure X and y are the right shapes\n",
    "X_mat <- as.matrix(X)\n",
    "y_vec <- as.numeric(y)\n",
    "\n",
    "# Simple MLP model\n",
    "neural_network <- keras_model_sequential() %>%\n",
    "  layer_dense(units = 50, activation = \"relu\", input_shape = ncol(X_mat)) %>%\n",
    "  layer_dense(units = 50, activation = \"relu\") %>%\n",
    "  layer_dense(units = 1, activation = \"linear\")\n",
    "\n",
    "neural_network %>% compile(\n",
    "  optimizer = \"adam\",\n",
    "  loss = \"mse\",\n",
    "  metrics = list(\"mse\")\n",
    ")\n",
    "\n",
    "history <- neural_network %>% fit(\n",
    "  x = X_mat,\n",
    "  y = y_vec,\n",
    "  batch_size = 16,\n",
    "  epochs = 100,\n",
    "  validation_split = 0.2,\n",
    "  verbose = 0\n",
    "  # Uncomment below to actually use early stopping:\n",
    "  # callbacks = list(\n",
    "  #   callback_early_stopping(monitor = \"val_loss\",\n",
    "  #                           patience = 10,\n",
    "  #                           restore_best_weights = TRUE)\n",
    "  # )\n",
    ")\n",
    "\n",
    "# Plot training vs validation loss\n",
    "plot(history$metrics$loss,\n",
    "     type = \"l\", lwd = 2,\n",
    "     xlab = \"Epochs\", ylab = \"Loss\",\n",
    "     main = \"Early Stopping with Neural Network\")\n",
    "lines(history$metrics$val_loss, lwd = 2, lty = 2)\n",
    "legend(\"topright\",\n",
    "       legend = c(\"Train Loss\", \"Validation Loss\"),\n",
    "       lty = c(1, 2), lwd = 2)\n"
   ]
  },
  {
   "cell_type": "code",
   "execution_count": 25,
   "id": "be2bf924",
   "metadata": {
    "vscode": {
     "languageId": "r"
    }
   },
   "outputs": [
    {
     "ename": "ERROR",
     "evalue": "Expected int32 passed to parameter 'size' of op 'Slice', got [80.0] of type 'list' instead. Error: Expected int32, but got 80.0 of type 'float'.",
     "output_type": "error",
     "traceback": [
      "Expected int32 passed to parameter 'size' of op 'Slice', got [80.0] of type 'list' instead. Error: Expected int32, but got 80.0 of type 'float'.Traceback:\n",
      "1. py_call_impl(callable, call_args$unnamed, call_args$named)",
      "2. stop(structure(list(message = \"TypeError: Expected int32 passed to parameter 'size' of op 'Slice', got [80.0] of type 'list' instead. Error: Expected int32, but got 80.0 of type 'float'.\\nRun `reticulate::py_last_error()` for details.\", \n .     call = py_call_impl(callable, call_args$unnamed, call_args$named)), class = c(\"python.builtin.TypeError\", \n . \"python.builtin.Exception\", \"python.builtin.BaseException\", \"python.builtin.object\", \n . \"error\", \"condition\"), py_object = <environment>))"
     ]
    }
   ],
   "source": [
    "#| label: neural_network_early_stopping\n",
    "\n",
    "library(dplyr)\n",
    "library(keras)\n",
    "\n",
    "set.seed(509)\n",
    "\n",
    "np <- import(\"numpy\", convert = FALSE)  # keep Python objects as Python objects\n",
    "\n",
    "# Simple MLP model\n",
    "neural_network <- keras_model_sequential()\n",
    "neural_network$add(layer_dense(units = 50, activation = \"relu\", input_shape = ncol(X)))\n",
    "neural_network$add(layer_dense(units = 50, activation = \"relu\"))\n",
    "neural_network$add(layer_dense(units = 1,  activation = \"linear\"))\n",
    "\n",
    "neural_network$compile(optimizer = \"adam\", loss = \"mse\", metrics = list(\"mse\"))\n",
    "\n",
    "X_np <- np$array(X, dtype = \"float64\")\n",
    "y_np <- np$array(y, dtype = \"float64\")\n",
    "\n",
    "history <- neural_network$fit(\n",
    "  x = X_np, \n",
    "  y = y_np,\n",
    "  batch_size = 16, \n",
    "  epochs = 100,\n",
    "  validation_split = 0.2, \n",
    "  verbose = 0 # Set to 1 if you want to see training logs\n",
    ")\n",
    "\n",
    "plot(history)"
   ]
  },
  {
   "cell_type": "markdown",
   "id": "3ef996e9",
   "metadata": {},
   "source": [
    "#| label: no_early_stopping_interpretation\n",
    "\n",
    "### Interpreting Results Without Early Stopping\n",
    "\n",
    "We can see that starting from epoch 15 model did not make any significant improvements. That's not the case here, but usually the model also starts to overfit to the training data, and the validation loss rises when we let it run for too many epochs. \n",
    "\n",
    "In order to avoid overfitting and use our computational resources more efficiently, we can use early stopping. We will track the validation loss and if for a given `patience` period (e. g. 5 epochs) the validation loss (`monitor`) does not improve by a given threshold (`min_delta`) (e. g. 0.01), we stop the training.\n",
    "\n",
    "*Side note:*\n",
    "\n",
    "In our case the validation loss did not start rising because the model had already achieved perfect fit (loss = 0) to the training data, so the weights were not updating anymore, and the validation loss did not change. Usually, for more complex DGP's achieving perfect fit is not possible."
   ]
  },
  {
   "cell_type": "code",
   "execution_count": null,
   "id": "f4dd5032",
   "metadata": {
    "vscode": {
     "languageId": "r"
    }
   },
   "outputs": [
    {
     "name": "stderr",
     "output_type": "stream",
     "text": [
      "c:\\Users\\hayk_\\OneDrive\\Desktop\\03_lecture_sl\\sl\\lib\\site-packages\\keras\\src\\layers\\core\\dense.py:92: UserWarning: Do not pass an `input_shape`/`input_dim` argument to a layer. When using Sequential models, prefer using an `Input(shape)` object as the first layer in the model instead.\n",
      "  super().__init__(activity_regularizer=activity_regularizer, **kwargs)\n"
     ]
    },
    {
     "data": {
      "image/png": "[encoded data removed]",
      "text/plain": [
       "<Figure size 640x480 with 1 Axes>"
      ]
     },
     "metadata": {},
     "output_type": "display_data"
    }
   ],
   "source": [
    "#| label: early_stopping\n",
    "library(dplyr)\n",
    "library(keras)\n",
    "\n",
    "set.seed(509)\n",
    "\n",
    "# Create new model for early stopping demonstration\n",
    "neural_network_early <- keras_model_sequential()\n",
    "\n",
    "neural_network_early %>% \n",
    "  layer_dense(units = 50, activation = \"relu\", input_shape = c(ncol(X))) %>%\n",
    "  layer_dense(units = 50, activation = \"relu\") %>%\n",
    "  layer_dense(units = 1, activation = \"linear\") %>%\n",
    "  compile(\n",
    "    optimizer = \"adam\",\n",
    "    loss      = \"mse\",\n",
    "    metrics = c(\"mse\")\n",
    "  )\n",
    "\n",
    "# Training with early stopping\n",
    "history_early <- fit(\n",
    "  object           = neural_network_early, \n",
    "  x                = X, \n",
    "  y                = Y,\n",
    "  batch_size       = 16, \n",
    "  epochs           = 100,\n",
    "  validation_split = 0.2,\n",
    "  callbacks = list(callback_early_stopping(\n",
    "    patience = 5,\n",
    "    monitor = \"val_loss\",\n",
    "    min_delta = 0.01,\n",
    "    restore_best_weights = TRUE\n",
    "  )),\n",
    "  verbose = 0  \n",
    ")\n",
    "\n",
    "# Plot the training history\n",
    "plot(history_early)"
   ]
  },
  {
   "cell_type": "markdown",
   "id": "551644bf",
   "metadata": {},
   "source": [
    "#| label: early_stopping_interpretation\n",
    "\n",
    "### Interpreting Early Stopping Results\n",
    "\n",
    "We see that the neural network ran only for approximately 12 epochs, although we specified 100 epochs. This is because we used early stopping and the optimizer stopped after 5 epochs without significant improvement in the validation loss.\n",
    "\n",
    "We encourage the reader to split the data and look into train/test errors for the same neural network with and without early stopping. What do you observe regarding overfitting?"
   ]
  }
 ],
 "metadata": {
  "kernelspec": {
   "display_name": "R",
   "language": "R",
   "name": "ir"
  },
  "language_info": {
   "codemirror_mode": "r",
   "file_extension": ".r",
   "mimetype": "text/x-r-source",
   "name": "R",
   "pygments_lexer": "r",
   "version": "4.4.1"
  }
 },
 "nbformat": 4,
 "nbformat_minor": 5
}
